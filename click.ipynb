{
 "cells": [
  {
   "cell_type": "code",
   "execution_count": 1,
   "metadata": {},
   "outputs": [],
   "source": [
    "import pyautogui\n",
    "import time\n",
    "import keyboard as kbd\n",
    "import os\n",
    "import signal\n",
    "\n",
    "def click(delta: int) -> None: \n",
    "    time.sleep(delta)     \n",
    "    pyautogui.click()"
   ]
  },
  {
   "cell_type": "code",
   "execution_count": 2,
   "metadata": {},
   "outputs": [
    {
     "ename": "KeyboardInterrupt",
     "evalue": "",
     "output_type": "error",
     "traceback": [
      "\u001b[1;31m---------------------------------------------------------------------------\u001b[0m",
      "\u001b[1;31mKeyboardInterrupt\u001b[0m                         Traceback (most recent call last)",
      "\u001b[1;32mc:\\jupyter_workspace\\Diploma\\click.ipynb Ячейка 2\u001b[0m in \u001b[0;36m<cell line: 4>\u001b[1;34m()\u001b[0m\n\u001b[0;32m      <a href='vscode-notebook-cell:/c%3A/jupyter_workspace/Diploma/click.ipynb#W2sZmlsZQ%3D%3D?line=4'>5</a>\u001b[0m \u001b[39mif\u001b[39;00m kbd\u001b[39m.\u001b[39mis_pressed(\u001b[39m'\u001b[39m\u001b[39mshift\u001b[39m\u001b[39m'\u001b[39m):\n\u001b[0;32m      <a href='vscode-notebook-cell:/c%3A/jupyter_workspace/Diploma/click.ipynb#W2sZmlsZQ%3D%3D?line=5'>6</a>\u001b[0m     \u001b[39mbreak\u001b[39;00m\n\u001b[1;32m----> <a href='vscode-notebook-cell:/c%3A/jupyter_workspace/Diploma/click.ipynb#W2sZmlsZQ%3D%3D?line=6'>7</a>\u001b[0m pyautogui\u001b[39m.\u001b[39;49mleftClick(x1, y)  \n\u001b[0;32m      <a href='vscode-notebook-cell:/c%3A/jupyter_workspace/Diploma/click.ipynb#W2sZmlsZQ%3D%3D?line=7'>8</a>\u001b[0m time\u001b[39m.\u001b[39msleep(\u001b[39m1\u001b[39m)\n\u001b[0;32m      <a href='vscode-notebook-cell:/c%3A/jupyter_workspace/Diploma/click.ipynb#W2sZmlsZQ%3D%3D?line=8'>9</a>\u001b[0m \u001b[39mif\u001b[39;00m kbd\u001b[39m.\u001b[39mis_pressed(\u001b[39m'\u001b[39m\u001b[39mshift\u001b[39m\u001b[39m'\u001b[39m):\n",
      "File \u001b[1;32mc:\\Users\\waclo\\AppData\\Local\\Programs\\Python\\Python310\\lib\\site-packages\\pyautogui\\__init__.py:598\u001b[0m, in \u001b[0;36m_genericPyAutoGUIChecks.<locals>.wrapper\u001b[1;34m(*args, **kwargs)\u001b[0m\n\u001b[0;32m    595\u001b[0m \u001b[39m@functools\u001b[39m\u001b[39m.\u001b[39mwraps(wrappedFunction)\n\u001b[0;32m    596\u001b[0m \u001b[39mdef\u001b[39;00m \u001b[39mwrapper\u001b[39m(\u001b[39m*\u001b[39margs, \u001b[39m*\u001b[39m\u001b[39m*\u001b[39mkwargs):\n\u001b[0;32m    597\u001b[0m     failSafeCheck()\n\u001b[1;32m--> 598\u001b[0m     returnVal \u001b[39m=\u001b[39m wrappedFunction(\u001b[39m*\u001b[39margs, \u001b[39m*\u001b[39m\u001b[39m*\u001b[39mkwargs)\n\u001b[0;32m    599\u001b[0m     _handlePause(kwargs\u001b[39m.\u001b[39mget(\u001b[39m\"\u001b[39m\u001b[39m_pause\u001b[39m\u001b[39m\"\u001b[39m, \u001b[39mTrue\u001b[39;00m))\n\u001b[0;32m    600\u001b[0m     \u001b[39mreturn\u001b[39;00m returnVal\n",
      "File \u001b[1;32mc:\\Users\\waclo\\AppData\\Local\\Programs\\Python\\Python310\\lib\\site-packages\\pyautogui\\__init__.py:1028\u001b[0m, in \u001b[0;36mleftClick\u001b[1;34m(x, y, interval, duration, tween, logScreenshot, _pause)\u001b[0m\n\u001b[0;32m   1003\u001b[0m \u001b[39m\"\"\"Performs a left mouse button click.\u001b[39;00m\n\u001b[0;32m   1004\u001b[0m \n\u001b[0;32m   1005\u001b[0m \u001b[39mThis is a wrapper function for click('left', x, y).\u001b[39;00m\n\u001b[1;32m   (...)\u001b[0m\n\u001b[0;32m   1024\u001b[0m \u001b[39m  None\u001b[39;00m\n\u001b[0;32m   1025\u001b[0m \u001b[39m\"\"\"\u001b[39;00m\n\u001b[0;32m   1027\u001b[0m \u001b[39m# TODO - Do we need the decorator for this function? Should click() handle this? (Also applies to other alias functions.)\u001b[39;00m\n\u001b[1;32m-> 1028\u001b[0m click(x, y, \u001b[39m1\u001b[39;49m, interval, LEFT, duration, tween, logScreenshot, _pause\u001b[39m=\u001b[39;49m_pause)\n",
      "File \u001b[1;32mc:\\Users\\waclo\\AppData\\Local\\Programs\\Python\\Python310\\lib\\site-packages\\pyautogui\\__init__.py:598\u001b[0m, in \u001b[0;36m_genericPyAutoGUIChecks.<locals>.wrapper\u001b[1;34m(*args, **kwargs)\u001b[0m\n\u001b[0;32m    595\u001b[0m \u001b[39m@functools\u001b[39m\u001b[39m.\u001b[39mwraps(wrappedFunction)\n\u001b[0;32m    596\u001b[0m \u001b[39mdef\u001b[39;00m \u001b[39mwrapper\u001b[39m(\u001b[39m*\u001b[39margs, \u001b[39m*\u001b[39m\u001b[39m*\u001b[39mkwargs):\n\u001b[0;32m    597\u001b[0m     failSafeCheck()\n\u001b[1;32m--> 598\u001b[0m     returnVal \u001b[39m=\u001b[39m wrappedFunction(\u001b[39m*\u001b[39margs, \u001b[39m*\u001b[39m\u001b[39m*\u001b[39mkwargs)\n\u001b[0;32m    599\u001b[0m     _handlePause(kwargs\u001b[39m.\u001b[39mget(\u001b[39m\"\u001b[39m\u001b[39m_pause\u001b[39m\u001b[39m\"\u001b[39m, \u001b[39mTrue\u001b[39;00m))\n\u001b[0;32m    600\u001b[0m     \u001b[39mreturn\u001b[39;00m returnVal\n",
      "File \u001b[1;32mc:\\Users\\waclo\\AppData\\Local\\Programs\\Python\\Python310\\lib\\site-packages\\pyautogui\\__init__.py:996\u001b[0m, in \u001b[0;36mclick\u001b[1;34m(x, y, clicks, interval, button, duration, tween, logScreenshot, _pause)\u001b[0m\n\u001b[0;32m    994\u001b[0m failSafeCheck()\n\u001b[0;32m    995\u001b[0m \u001b[39mif\u001b[39;00m button \u001b[39min\u001b[39;00m (LEFT, MIDDLE, RIGHT):\n\u001b[1;32m--> 996\u001b[0m     platformModule\u001b[39m.\u001b[39;49m_click(x, y, button)\n\u001b[0;32m    998\u001b[0m time\u001b[39m.\u001b[39msleep(interval)\n",
      "File \u001b[1;32mc:\\Users\\waclo\\AppData\\Local\\Programs\\Python\\Python310\\lib\\site-packages\\pyautogui\\_pyautogui_win.py:455\u001b[0m, in \u001b[0;36m_click\u001b[1;34m(x, y, button)\u001b[0m\n\u001b[0;32m    452\u001b[0m     EV \u001b[39m=\u001b[39m MOUSEEVENTF_RIGHTCLICK\n\u001b[0;32m    454\u001b[0m \u001b[39mtry\u001b[39;00m:\n\u001b[1;32m--> 455\u001b[0m     _sendMouseEvent(EV, x, y)\n\u001b[0;32m    456\u001b[0m \u001b[39mexcept\u001b[39;00m (\u001b[39mPermissionError\u001b[39;00m, \u001b[39mOSError\u001b[39;00m):\n\u001b[0;32m    457\u001b[0m     \u001b[39m# TODO: We need to figure out how to prevent these errors, see https://github.com/asweigart/pyautogui/issues/60\u001b[39;00m\n\u001b[0;32m    458\u001b[0m     \u001b[39mpass\u001b[39;00m\n",
      "File \u001b[1;32mc:\\Users\\waclo\\AppData\\Local\\Programs\\Python\\Python310\\lib\\site-packages\\pyautogui\\_pyautogui_win.py:495\u001b[0m, in \u001b[0;36m_sendMouseEvent\u001b[1;34m(ev, x, y, dwData)\u001b[0m\n\u001b[0;32m    493\u001b[0m convertedX \u001b[39m=\u001b[39m \u001b[39m65536\u001b[39m \u001b[39m*\u001b[39m x \u001b[39m/\u001b[39m\u001b[39m/\u001b[39m width \u001b[39m+\u001b[39m \u001b[39m1\u001b[39m\n\u001b[0;32m    494\u001b[0m convertedY \u001b[39m=\u001b[39m \u001b[39m65536\u001b[39m \u001b[39m*\u001b[39m y \u001b[39m/\u001b[39m\u001b[39m/\u001b[39m height \u001b[39m+\u001b[39m \u001b[39m1\u001b[39m\n\u001b[1;32m--> 495\u001b[0m ctypes\u001b[39m.\u001b[39;49mwindll\u001b[39m.\u001b[39;49muser32\u001b[39m.\u001b[39;49mmouse_event(ev, ctypes\u001b[39m.\u001b[39;49mc_long(convertedX), ctypes\u001b[39m.\u001b[39;49mc_long(convertedY), dwData, \u001b[39m0\u001b[39;49m)\n",
      "\u001b[1;31mKeyboardInterrupt\u001b[0m: "
     ]
    }
   ],
   "source": [
    "x1=530\n",
    "y=538\n",
    "x2=1290\n",
    "while 666:\n",
    "    if kbd.is_pressed('shift'):\n",
    "        break\n",
    "    pyautogui.leftClick(x1, y)  \n",
    "    time.sleep(1)\n",
    "    if kbd.is_pressed('shift'):\n",
    "        break\n",
    "    pyautogui.leftClick(x2, y)  \n",
    "    time.sleep(1)\n",
    "    if kbd.is_pressed('shift'):\n",
    "        break\n",
    "    \n"
   ]
  },
  {
   "cell_type": "code",
   "execution_count": 3,
   "metadata": {},
   "outputs": [
    {
     "name": "stdout",
     "output_type": "stream",
     "text": [
      "Point(x=530, y=538)\n"
     ]
    }
   ],
   "source": [
    "print(pyautogui.position())"
   ]
  },
  {
   "cell_type": "code",
   "execution_count": 4,
   "metadata": {},
   "outputs": [
    {
     "name": "stdout",
     "output_type": "stream",
     "text": [
      "Point(x=1290, y=533)\n"
     ]
    }
   ],
   "source": [
    "print(pyautogui.position())"
   ]
  },
  {
   "cell_type": "code",
   "execution_count": null,
   "metadata": {},
   "outputs": [],
   "source": []
  }
 ],
 "metadata": {
  "kernelspec": {
   "display_name": "Python 3.10.6 64-bit",
   "language": "python",
   "name": "python3"
  },
  "language_info": {
   "codemirror_mode": {
    "name": "ipython",
    "version": 3
   },
   "file_extension": ".py",
   "mimetype": "text/x-python",
   "name": "python",
   "nbconvert_exporter": "python",
   "pygments_lexer": "ipython3",
   "version": "3.10.6 (tags/v3.10.6:9c7b4bd, Aug  1 2022, 21:53:49) [MSC v.1932 64 bit (AMD64)]"
  },
  "orig_nbformat": 4,
  "vscode": {
   "interpreter": {
    "hash": "89cb36189c323b41c64ff0d5c2b01ae2fa179b9d2d000353d786be008919ca00"
   }
  }
 },
 "nbformat": 4,
 "nbformat_minor": 2
}
