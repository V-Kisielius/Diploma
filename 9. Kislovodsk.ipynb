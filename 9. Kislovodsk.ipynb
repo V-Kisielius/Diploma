{
 "cells": [
  {
   "cell_type": "code",
   "execution_count": 1,
   "metadata": {},
   "outputs": [
    {
     "name": "stdout",
     "output_type": "stream",
     "text": [
      "Selected devie is cuda:0\n"
     ]
    }
   ],
   "source": [
    "import torch\n",
    "import numpy as np\n",
    "import matplotlib.pyplot as plt\n",
    "import os\n",
    "from tqdm import tqdm\n",
    "\n",
    "from model import Net, device\n",
    "from dataset import MyData\n",
    "\n",
    "samples = torch.load('Kislovodsk.pt')\n",
    "IMG_SIZE = samples[0].shape\n",
    "PATH_TO_RESULTS = './Tests/Kislovodsk/'\n",
    "num_epochs = 3e+4"
   ]
  },
  {
   "cell_type": "code",
   "execution_count": 2,
   "metadata": {},
   "outputs": [
    {
     "name": "stderr",
     "output_type": "stream",
     "text": [
      "Samples:  11%|█         | 2/18 [44:21<5:54:27, 1329.22s/it]"
     ]
    }
   ],
   "source": [
    "os.makedirs(PATH_TO_RESULTS, exist_ok=True)\n",
    "for i, sample in tqdm(enumerate(samples), desc='Samples', total=len(samples)):\n",
    "    dataset = MyData(path_or_img=sample, data_mode='img', mode_3d='cylinder', radius=1, reduce_fctor=1)\n",
    "    dataset_list = [dataset]\n",
    "    map_num = 1904 + i\n",
    "    cur_dir = os.path.join(PATH_TO_RESULTS, str(map_num))\n",
    "    os.mkdir(cur_dir)\n",
    "    res = []\n",
    "    for j in range(9):\n",
    "        model = Net(dataset_list=dataset_list, lr=1e-3, weight_decay=1e-3)\n",
    "        model.to(device)\n",
    "        model.start_training(num_epochs=num_epochs, my_weight=0.1, need_save=False, need_plot=False)\n",
    "        predictions = model.test_model(need_plot=False)\n",
    "        prediction = predictions[0].view(*IMG_SIZE).cpu().detach()\n",
    "        plt.figure(figsize=(20, 10))\n",
    "        plt.subplot(1, 2, 1)\n",
    "        plt.imshow(sample, cmap='gray')\n",
    "        plt.axis('off')\n",
    "        plt.title(f'Filaments on map №{map_num}')\n",
    "        plt.subplot(1, 2, 2)\n",
    "        plt.imshow(prediction, cmap='PuOr')\n",
    "        plt.axis('off')\n",
    "        plt.title('Model prediction')\n",
    "        plt.savefig(os.path.join(cur_dir, f'prediction_{j+1}.png'))\n",
    "        plt.close()\n",
    "        plt.clf()\n",
    "        torch.save(model.state_dict(), os.path.join(cur_dir, f'model_{j+1}.pt'))\n",
    "        res.append(prediction)\n",
    "    plt.figure(figsize=(20, 10))\n",
    "    plt.suptitle(f'All runs on map №{map_num}')\n",
    "    for n, r in enumerate(res):\n",
    "        plt.subplot(3, 3, n+1)\n",
    "        plt.imshow(r, cmap='PuOr')\n",
    "        plt.axis('off')\n",
    "    plt.savefig(os.path.join(cur_dir, 'predictions_all.png'))\n",
    "    plt.close()\n",
    "    plt.clf()"
   ]
  },
  {
   "cell_type": "code",
   "execution_count": null,
   "metadata": {},
   "outputs": [],
   "source": []
  }
 ],
 "metadata": {
  "kernelspec": {
   "display_name": ".venv",
   "language": "python",
   "name": "python3"
  },
  "language_info": {
   "codemirror_mode": {
    "name": "ipython",
    "version": 3
   },
   "file_extension": ".py",
   "mimetype": "text/x-python",
   "name": "python",
   "nbconvert_exporter": "python",
   "pygments_lexer": "ipython3",
   "version": "3.10.6"
  },
  "orig_nbformat": 4
 },
 "nbformat": 4,
 "nbformat_minor": 2
}
