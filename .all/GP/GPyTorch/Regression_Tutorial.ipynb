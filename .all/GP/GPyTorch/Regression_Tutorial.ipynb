{
 "cells": [
  {
   "cell_type": "markdown",
   "metadata": {},
   "source": [
    "We’ll be modeling the function\n",
    "$$y=\\sin(2\\pi x) + \\varepsilon$$\n",
    "$$\\varepsilon \\sim \\mathcal{N}(0,\\,0.04)  $$\n",
    "with 100 training examples, and testing on 51 test examples."
   ]
  },
  {
   "cell_type": "code",
   "execution_count": 2,
   "metadata": {},
   "outputs": [],
   "source": [
    "import math\n",
    "import torch\n",
    "import gpytorch\n",
    "from matplotlib import pyplot as plt\n",
    "\n",
    "%matplotlib inline\n",
    "%load_ext autoreload\n",
    "%autoreload 2"
   ]
  },
  {
   "cell_type": "code",
   "execution_count": 3,
   "metadata": {},
   "outputs": [],
   "source": [
    "# Training data is 100 points in [0,1] inclusive regularly spaced\n",
    "train_x = torch.linspace(0, 1, 100)\n",
    "# True function is sin(2*pi*x) with Gaussian noise\n",
    "train_y = torch.sin(train_x * (2 * math.pi)) + torch.randn(train_x.size()) * math.sqrt(0.04)"
   ]
  },
  {
   "cell_type": "code",
   "execution_count": 4,
   "metadata": {},
   "outputs": [],
   "source": [
    "# We will use the simplest form of GP model, exact inference\n",
    "class ExactGPModel(gpytorch.models.ExactGP):\n",
    "    def __init__(self, train_x, train_y, likelihood):\n",
    "        super(ExactGPModel, self).__init__(train_x, train_y, likelihood)\n",
    "        self.mean_module = gpytorch.means.ConstantMean()\n",
    "        self.covar_module = gpytorch.kernels.ScaleKernel(gpytorch.kernels.RBFKernel())\n",
    "\n",
    "    def forward(self, x):\n",
    "        mean_x = self.mean_module(x)\n",
    "        covar_x = self.covar_module(x)\n",
    "        return gpytorch.distributions.MultivariateNormal(mean_x, covar_x)\n",
    "\n",
    "# initialize likelihood and model\n",
    "likelihood = gpytorch.likelihoods.GaussianLikelihood()\n",
    "model = ExactGPModel(train_x, train_y, likelihood)"
   ]
  },
  {
   "cell_type": "code",
   "execution_count": 5,
   "metadata": {},
   "outputs": [
    {
     "name": "stdout",
     "output_type": "stream",
     "text": [
      "Iter 1/50 - Loss: 0.942   lengthscale: 0.693   noise: 0.693\n",
      "Iter 2/50 - Loss: 0.912   lengthscale: 0.644   noise: 0.644\n",
      "Iter 3/50 - Loss: 0.879   lengthscale: 0.598   noise: 0.598\n",
      "Iter 4/50 - Loss: 0.842   lengthscale: 0.555   noise: 0.554\n",
      "Iter 5/50 - Loss: 0.800   lengthscale: 0.514   noise: 0.513\n",
      "Iter 6/50 - Loss: 0.754   lengthscale: 0.476   noise: 0.474\n",
      "Iter 7/50 - Loss: 0.703   lengthscale: 0.439   noise: 0.437\n",
      "Iter 8/50 - Loss: 0.652   lengthscale: 0.405   noise: 0.402\n",
      "Iter 9/50 - Loss: 0.603   lengthscale: 0.372   noise: 0.369\n",
      "Iter 10/50 - Loss: 0.557   lengthscale: 0.342   noise: 0.339\n",
      "Iter 11/50 - Loss: 0.517   lengthscale: 0.315   noise: 0.310\n",
      "Iter 12/50 - Loss: 0.480   lengthscale: 0.292   noise: 0.284\n",
      "Iter 13/50 - Loss: 0.446   lengthscale: 0.272   noise: 0.259\n",
      "Iter 14/50 - Loss: 0.413   lengthscale: 0.255   noise: 0.237\n",
      "Iter 15/50 - Loss: 0.381   lengthscale: 0.242   noise: 0.216\n",
      "Iter 16/50 - Loss: 0.350   lengthscale: 0.232   noise: 0.196\n",
      "Iter 17/50 - Loss: 0.319   lengthscale: 0.224   noise: 0.179\n",
      "Iter 18/50 - Loss: 0.288   lengthscale: 0.219   noise: 0.163\n",
      "Iter 19/50 - Loss: 0.259   lengthscale: 0.215   noise: 0.148\n",
      "Iter 20/50 - Loss: 0.229   lengthscale: 0.214   noise: 0.135\n",
      "Iter 21/50 - Loss: 0.201   lengthscale: 0.214   noise: 0.122\n",
      "Iter 22/50 - Loss: 0.174   lengthscale: 0.215   noise: 0.111\n",
      "Iter 23/50 - Loss: 0.149   lengthscale: 0.218   noise: 0.101\n",
      "Iter 24/50 - Loss: 0.125   lengthscale: 0.221   noise: 0.092\n",
      "Iter 25/50 - Loss: 0.104   lengthscale: 0.226   noise: 0.084\n",
      "Iter 26/50 - Loss: 0.084   lengthscale: 0.232   noise: 0.077\n",
      "Iter 27/50 - Loss: 0.068   lengthscale: 0.239   noise: 0.071\n",
      "Iter 28/50 - Loss: 0.054   lengthscale: 0.247   noise: 0.065\n",
      "Iter 29/50 - Loss: 0.043   lengthscale: 0.255   noise: 0.060\n",
      "Iter 30/50 - Loss: 0.035   lengthscale: 0.264   noise: 0.055\n",
      "Iter 31/50 - Loss: 0.030   lengthscale: 0.274   noise: 0.052\n",
      "Iter 32/50 - Loss: 0.028   lengthscale: 0.283   noise: 0.048\n",
      "Iter 33/50 - Loss: 0.028   lengthscale: 0.292   noise: 0.045\n",
      "Iter 34/50 - Loss: 0.031   lengthscale: 0.301   noise: 0.043\n",
      "Iter 35/50 - Loss: 0.035   lengthscale: 0.307   noise: 0.041\n",
      "Iter 36/50 - Loss: 0.040   lengthscale: 0.312   noise: 0.039\n",
      "Iter 37/50 - Loss: 0.044   lengthscale: 0.315   noise: 0.038\n",
      "Iter 38/50 - Loss: 0.048   lengthscale: 0.315   noise: 0.037\n",
      "Iter 39/50 - Loss: 0.050   lengthscale: 0.312   noise: 0.036\n",
      "Iter 40/50 - Loss: 0.051   lengthscale: 0.308   noise: 0.036\n",
      "Iter 41/50 - Loss: 0.050   lengthscale: 0.303   noise: 0.036\n",
      "Iter 42/50 - Loss: 0.049   lengthscale: 0.297   noise: 0.036\n",
      "Iter 43/50 - Loss: 0.047   lengthscale: 0.291   noise: 0.036\n",
      "Iter 44/50 - Loss: 0.045   lengthscale: 0.285   noise: 0.037\n",
      "Iter 45/50 - Loss: 0.042   lengthscale: 0.280   noise: 0.037\n",
      "Iter 46/50 - Loss: 0.040   lengthscale: 0.276   noise: 0.038\n",
      "Iter 47/50 - Loss: 0.037   lengthscale: 0.273   noise: 0.039\n",
      "Iter 48/50 - Loss: 0.035   lengthscale: 0.271   noise: 0.040\n",
      "Iter 49/50 - Loss: 0.033   lengthscale: 0.270   noise: 0.042\n",
      "Iter 50/50 - Loss: 0.031   lengthscale: 0.269   noise: 0.043\n"
     ]
    }
   ],
   "source": [
    "# this is for running the notebook in our testing framework\n",
    "import os\n",
    "smoke_test = ('CI' in os.environ)\n",
    "training_iter = 2 if smoke_test else 50\n",
    "\n",
    "\n",
    "# Find optimal model hyperparameters\n",
    "model.train()\n",
    "likelihood.train()\n",
    "\n",
    "# Use the adam optimizer\n",
    "optimizer = torch.optim.Adam(model.parameters(), lr=0.1)  # Includes GaussianLikelihood parameters\n",
    "\n",
    "# \"Loss\" for GPs - the marginal log likelihood\n",
    "mll = gpytorch.mlls.ExactMarginalLogLikelihood(likelihood, model)\n",
    "\n",
    "for i in range(training_iter):\n",
    "    # Zero gradients from previous iteration\n",
    "    optimizer.zero_grad()\n",
    "    # Output from model\n",
    "    output = model(train_x)\n",
    "    # Calc loss and backprop gradients\n",
    "    loss = -mll(output, train_y)\n",
    "    loss.backward()\n",
    "    print('Iter %d/%d - Loss: %.3f   lengthscale: %.3f   noise: %.3f' % (\n",
    "        i + 1, training_iter, loss.item(),\n",
    "        model.covar_module.base_kernel.lengthscale.item(),\n",
    "        model.likelihood.noise.item()\n",
    "    ))\n",
    "    optimizer.step()"
   ]
  },
  {
   "cell_type": "code",
   "execution_count": 7,
   "metadata": {},
   "outputs": [],
   "source": [
    "# Get into evaluation (predictive posterior) mode\n",
    "model.eval()\n",
    "likelihood.eval()\n",
    "\n",
    "# Test points are regularly spaced along [0,1]\n",
    "# Make predictions by feeding model through likelihood\n",
    "with torch.no_grad(), gpytorch.settings.fast_pred_var():\n",
    "    test_x = torch.linspace(0, 1, 51)\n",
    "    observed_pred = likelihood(model(test_x))"
   ]
  },
  {
   "cell_type": "code",
   "execution_count": 9,
   "metadata": {},
   "outputs": [
    {
     "data": {
      "image/png": "[encoded data removed]",
      "text/plain": [
       "<Figure size 720x360 with 1 Axes>"
      ]
     },
     "metadata": {
      "needs_background": "light"
     },
     "output_type": "display_data"
    }
   ],
   "source": [
    "with torch.no_grad():\n",
    "    # Initialize plot\n",
    "    f, ax = plt.subplots(1, 1, figsize=(10, 5))\n",
    "\n",
    "    # Get upper and lower confidence bounds\n",
    "    lower, upper = observed_pred.confidence_region()\n",
    "    # Plot training data as black stars\n",
    "    ax.plot(train_x.numpy(), train_y.numpy(), 'k*')\n",
    "    # Plot predictive means as blue line\n",
    "    ax.plot(test_x.numpy(), observed_pred.mean.numpy(), 'b')\n",
    "    # Shade between the lower and upper confidence bounds\n",
    "    ax.fill_between(test_x.numpy(), lower.numpy(), upper.numpy(), alpha=0.5)\n",
    "    ax.set_ylim([-3, 3])\n",
    "    ax.legend(['Observed Data', 'Mean', 'Confidence'])"
   ]
  },
  {
   "cell_type": "code",
   "execution_count": null,
   "metadata": {},
   "outputs": [],
   "source": []
  }
 ],
 "metadata": {
  "kernelspec": {
   "display_name": "Python 3.10.6 ('.venv': venv)",
   "language": "python",
   "name": "python3"
  },
  "language_info": {
   "codemirror_mode": {
    "name": "ipython",
    "version": 3
   },
   "file_extension": ".py",
   "mimetype": "text/x-python",
   "name": "python",
   "nbconvert_exporter": "python",
   "pygments_lexer": "ipython3",
   "version": "3.10.6"
  },
  "orig_nbformat": 4,
  "vscode": {
   "interpreter": {
    "hash": "5fb51cf9843d757cbdb9ebc1600be2b33177e72e1f32e29032a1fa1cdd2d3bec"
   }
  }
 },
 "nbformat": 4,
 "nbformat_minor": 2
}
