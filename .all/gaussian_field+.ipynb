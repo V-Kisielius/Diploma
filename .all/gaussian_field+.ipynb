{
  "cells": [
    {
      "cell_type": "markdown",
      "metadata": {
        "id": "HNReFAtbLtlB"
      },
      "source": [
        "## Моделирование случайного поля"
      ]
    },
    {
      "cell_type": "markdown",
      "metadata": {
        "id": "b4ezsCcOLtlj"
      },
      "source": [
        "Типичный пример, где могут быть нужны случайные поля - хотим смоделировать 100 реализаций некоторого процесса (например, теплопроводности), для разных начальных условий. Откуда взять разнообразные начальные условия? Случайно задавать в каждой точке нехорошо, поскольку в реальных ситуациях распределение по пространству обычно обладает определенной гладкостью. За гладкость отвечает корреляционная функция. Так мы приходим к задаче моделирования случайного поля с заданной корреляционной функцей. \n",
        "\n",
        "Итак, для определенности, хотим задать случайное и (для простоты) изотропное поле $U(x, y)$ на плоскости $x, y$. Физически можно представлять, что $U$ задает распределение некоторого свойста среды, например температуры. Условие изотропности означает, что корреляция значений $U$ в двух различных точках зависит только от расстояния $r$ между этими точками. Зададим конктретный вид корреляционной функции $K(r, a)$. Параметр $a$ отвечает за характерный масштаб корреляции:"
      ]
    },
    {
      "cell_type": "code",
      "execution_count": 2,
      "metadata": {
        "id": "vuCfv4bsLtll"
      },
      "outputs": [],
      "source": [
        "import numpy as np\n",
        "import matplotlib.pyplot as plt\n",
        "from ipywidgets import interact\n",
        "\n",
        "def K(r, a=1):\n",
        "    return np.exp(-r/a)"
      ]
    },
    {
      "cell_type": "markdown",
      "metadata": {
        "id": "PR742TZjLtlp"
      },
      "source": [
        "Будем моделировать поле U в квадратной области размера 50х50:"
      ]
    },
    {
      "cell_type": "code",
      "execution_count": 3,
      "metadata": {
        "id": "fIR7PqxTLtlq"
      },
      "outputs": [],
      "source": [
        "shape = (50, 50)"
      ]
    },
    {
      "cell_type": "markdown",
      "metadata": {
        "id": "eilyyWO9Ltlr"
      },
      "source": [
        "Составим матрицу $D$, в которой содержатся все попарные расстояния для точек нашей области (матрица получится размера $50^2\\times50^2$):"
      ]
    },
    {
      "cell_type": "code",
      "execution_count": 4,
      "metadata": {
        "id": "_uHFyS4DLtls",
        "outputId": "a5104858-e4ee-43a3-b612-0a8392a1b9e7"
      },
      "outputs": [
        {
          "data": {
            "text/plain": [
              "(2500, 2500)"
            ]
          },
          "execution_count": 4,
          "metadata": {},
          "output_type": "execute_result"
        }
      ],
      "source": [
        "points = np.moveaxis(np.indices(shape), 0, -1).reshape(-1, 2).astype(np.float32)\n",
        "D = np.linalg.norm(points.reshape(1, -1, 2) - points.reshape(-1, 1, 2), axis=-1)\n",
        "D.shape"
      ]
    },
    {
      "cell_type": "markdown",
      "metadata": {
        "id": "SppnfpH9Ltlw"
      },
      "source": [
        "Теперь применим функцию K к каждому элементу матрицы D и получим матрицу корреляций для точек нашей области:"
      ]
    },
    {
      "cell_type": "code",
      "execution_count": 4,
      "metadata": {
        "id": "R_im9jFiLtly"
      },
      "outputs": [],
      "source": [
        "B = K(D, a=1000)"
      ]
    },
    {
      "cell_type": "markdown",
      "metadata": {
        "id": "BlDYi9FJLtl0"
      },
      "source": [
        "Найдем разложение матрицы $B$ в виде $B = AA^T$"
      ]
    },
    {
      "cell_type": "code",
      "execution_count": 5,
      "metadata": {
        "id": "HGpWLN0cLtl1"
      },
      "outputs": [],
      "source": [
        "A = np.linalg.cholesky(B)"
      ]
    },
    {
      "cell_type": "markdown",
      "metadata": {
        "id": "-SRRvIkWLtl2"
      },
      "source": [
        "Можно проверить, что $AA^T=B$:"
      ]
    },
    {
      "cell_type": "code",
      "execution_count": 6,
      "metadata": {
        "id": "FaxqN9HdLtl4",
        "outputId": "5ea8693a-3033-4916-a803-59377878b670"
      },
      "outputs": [
        {
          "data": {
            "text/plain": [
              "array([[ True,  True,  True, ...,  True,  True,  True],\n",
              "       [ True,  True,  True, ...,  True,  True,  True],\n",
              "       [ True,  True,  True, ...,  True,  True,  True],\n",
              "       ...,\n",
              "       [ True,  True,  True, ...,  True,  True,  True],\n",
              "       [ True,  True,  True, ...,  True,  True,  True],\n",
              "       [ True,  True,  True, ...,  True,  True,  True]])"
            ]
          },
          "execution_count": 6,
          "metadata": {},
          "output_type": "execute_result"
        }
      ],
      "source": [
        "np.isclose(A@A.T, B)"
      ]
    },
    {
      "cell_type": "markdown",
      "metadata": {
        "id": "XRo8wK4kLtl5"
      },
      "source": [
        "Теперь, чтобы смодледировать вектор $\\xi\\sim N(0, B))$, нужно взять $\\eta\\sim N(0, I)$ (т.е. вектор из n независимых N(0,1) величин) и применить к нему преобразование A, т.е. $\\xi=A\\eta$:"
      ]
    },
    {
      "cell_type": "code",
      "execution_count": 4,
      "metadata": {},
      "outputs": [
        {
          "data": {
            "application/vnd.jupyter.widget-view+json": {
              "model_id": "70eea4b6fdce4a6ab9e9bc9e490650b2",
              "version_major": 2,
              "version_minor": 0
            },
            "text/plain": [
              "interactive(children=(IntSlider(value=1000, description='correlation_scale', max=1000, min=1), IntSlider(value…"
            ]
          },
          "metadata": {},
          "output_type": "display_data"
        }
      ],
      "source": [
        "@interact(correlation_scale=(1, 1000), n=(50, 200))\n",
        "def plot_fields(correlation_scale=1000, n=150):\n",
        "    shape = (n, n)\n",
        "    points = np.moveaxis(np.indices(shape), 0, -1).reshape(-1, 2).astype(np.float32)\n",
        "    D = np.linalg.norm(points.reshape(1, -1, 2) - points.reshape(-1, 1, 2), axis=-1)\n",
        "    B = K(D, a=correlation_scale)\n",
        "    A = np.linalg.cholesky(B)\n",
        "    fig, ax = plt.subplots(1, 3, figsize=(15, 5))\n",
        "    for i in range(len(ax)):\n",
        "        normals = np.random.randn(np.prod(shape))\n",
        "        u = (A @ normals).reshape(shape)\n",
        "        ax[i].imshow(u, cmap='PuOr')"
      ]
    },
    {
      "cell_type": "markdown",
      "metadata": {
        "id": "cUqdPDEdLtl-"
      },
      "source": [
        "Чем меньше масштаб корреляции, тем в более близких точках значения поля становятся независимыми."
      ]
    },
    {
      "cell_type": "markdown",
      "metadata": {
        "id": "1Umb_m6Qjern"
      },
      "source": [
        "Немного модифицируем задачу. Пусть теперь значения поля U в некоторых точках будут заданы (например, мы провели прямые измерения) и хотим восстановить поле U в остальных точках."
      ]
    },
    {
      "cell_type": "markdown",
      "metadata": {
        "id": "c4wOzXFzjero"
      },
      "source": [
        "Зададим массив точек, в которых значения U будут фиксированы"
      ]
    },
    {
      "cell_type": "code",
      "execution_count": 5,
      "metadata": {
        "id": "89nBJAcsjero",
        "outputId": "412966d4-62c5-48cc-ca04-764e619e67ee"
      },
      "outputs": [
        {
          "data": {
            "text/plain": [
              "array([[ 1, 20],\n",
              "       [ 1, 21],\n",
              "       [ 1, 22],\n",
              "       [ 1, 23],\n",
              "       [ 1, 24],\n",
              "       [ 1, 25],\n",
              "       [ 1, 26],\n",
              "       [ 1, 27],\n",
              "       [ 1, 28],\n",
              "       [ 1, 29],\n",
              "       [ 2, 20],\n",
              "       [ 2, 21],\n",
              "       [ 2, 22],\n",
              "       [ 2, 23],\n",
              "       [ 2, 24],\n",
              "       [ 2, 25],\n",
              "       [ 2, 26],\n",
              "       [ 2, 27],\n",
              "       [ 2, 28],\n",
              "       [ 2, 29],\n",
              "       [ 3, 20],\n",
              "       [ 3, 21],\n",
              "       [ 3, 22],\n",
              "       [ 3, 23],\n",
              "       [ 3, 24],\n",
              "       [ 3, 25],\n",
              "       [ 3, 26],\n",
              "       [ 3, 27],\n",
              "       [ 3, 28],\n",
              "       [ 3, 29],\n",
              "       [ 4, 20],\n",
              "       [ 4, 21],\n",
              "       [ 4, 22],\n",
              "       [ 4, 23],\n",
              "       [ 4, 24],\n",
              "       [ 4, 25],\n",
              "       [ 4, 26],\n",
              "       [ 4, 27],\n",
              "       [ 4, 28],\n",
              "       [ 4, 29],\n",
              "       [ 5, 20],\n",
              "       [ 5, 21],\n",
              "       [ 5, 22],\n",
              "       [ 5, 23],\n",
              "       [ 5, 24],\n",
              "       [ 5, 25],\n",
              "       [ 5, 26],\n",
              "       [ 5, 27],\n",
              "       [ 5, 28],\n",
              "       [ 5, 29],\n",
              "       [ 6, 20],\n",
              "       [ 6, 21],\n",
              "       [ 6, 22],\n",
              "       [ 6, 23],\n",
              "       [ 6, 24],\n",
              "       [ 6, 25],\n",
              "       [ 6, 26],\n",
              "       [ 6, 27],\n",
              "       [ 6, 28],\n",
              "       [ 6, 29],\n",
              "       [ 7, 20],\n",
              "       [ 7, 21],\n",
              "       [ 7, 22],\n",
              "       [ 7, 23],\n",
              "       [ 7, 24],\n",
              "       [ 7, 25],\n",
              "       [ 7, 26],\n",
              "       [ 7, 27],\n",
              "       [ 7, 28],\n",
              "       [ 7, 29],\n",
              "       [ 8, 20],\n",
              "       [ 8, 21],\n",
              "       [ 8, 22],\n",
              "       [ 8, 23],\n",
              "       [ 8, 24],\n",
              "       [ 8, 25],\n",
              "       [ 8, 26],\n",
              "       [ 8, 27],\n",
              "       [ 8, 28],\n",
              "       [ 8, 29],\n",
              "       [ 9, 20],\n",
              "       [ 9, 21],\n",
              "       [ 9, 22],\n",
              "       [ 9, 23],\n",
              "       [ 9, 24],\n",
              "       [ 9, 25],\n",
              "       [ 9, 26],\n",
              "       [ 9, 27],\n",
              "       [ 9, 28],\n",
              "       [ 9, 29],\n",
              "       [10, 20],\n",
              "       [10, 21],\n",
              "       [10, 22],\n",
              "       [10, 23],\n",
              "       [10, 24],\n",
              "       [10, 25],\n",
              "       [10, 26],\n",
              "       [10, 27],\n",
              "       [10, 28],\n",
              "       [10, 29],\n",
              "       [11, 20],\n",
              "       [11, 21],\n",
              "       [11, 22],\n",
              "       [11, 23],\n",
              "       [11, 24],\n",
              "       [11, 25],\n",
              "       [11, 26],\n",
              "       [11, 27],\n",
              "       [11, 28],\n",
              "       [11, 29],\n",
              "       [12, 20],\n",
              "       [12, 21],\n",
              "       [12, 22],\n",
              "       [12, 23],\n",
              "       [12, 24],\n",
              "       [12, 25],\n",
              "       [12, 26],\n",
              "       [12, 27],\n",
              "       [12, 28],\n",
              "       [12, 29],\n",
              "       [13, 20],\n",
              "       [13, 21],\n",
              "       [13, 22],\n",
              "       [13, 23],\n",
              "       [13, 24],\n",
              "       [13, 25],\n",
              "       [13, 26],\n",
              "       [13, 27],\n",
              "       [13, 28],\n",
              "       [13, 29],\n",
              "       [14, 20],\n",
              "       [14, 21],\n",
              "       [14, 22],\n",
              "       [14, 23],\n",
              "       [14, 24],\n",
              "       [14, 25],\n",
              "       [14, 26],\n",
              "       [14, 27],\n",
              "       [14, 28],\n",
              "       [14, 29],\n",
              "       [15, 20],\n",
              "       [15, 21],\n",
              "       [15, 22],\n",
              "       [15, 23],\n",
              "       [15, 24],\n",
              "       [15, 25],\n",
              "       [15, 26],\n",
              "       [15, 27],\n",
              "       [15, 28],\n",
              "       [15, 29],\n",
              "       [16, 20],\n",
              "       [16, 21],\n",
              "       [16, 22],\n",
              "       [16, 23],\n",
              "       [16, 24],\n",
              "       [16, 25],\n",
              "       [16, 26],\n",
              "       [16, 27],\n",
              "       [16, 28],\n",
              "       [16, 29],\n",
              "       [17, 20],\n",
              "       [17, 21],\n",
              "       [17, 22],\n",
              "       [17, 23],\n",
              "       [17, 24],\n",
              "       [17, 25],\n",
              "       [17, 26],\n",
              "       [17, 27],\n",
              "       [17, 28],\n",
              "       [17, 29],\n",
              "       [18, 20],\n",
              "       [18, 21],\n",
              "       [18, 22],\n",
              "       [18, 23],\n",
              "       [18, 24],\n",
              "       [18, 25],\n",
              "       [18, 26],\n",
              "       [18, 27],\n",
              "       [18, 28],\n",
              "       [18, 29],\n",
              "       [19, 20],\n",
              "       [19, 21],\n",
              "       [19, 22],\n",
              "       [19, 23],\n",
              "       [19, 24],\n",
              "       [19, 25],\n",
              "       [19, 26],\n",
              "       [19, 27],\n",
              "       [19, 28],\n",
              "       [19, 29],\n",
              "       [20, 20],\n",
              "       [20, 21],\n",
              "       [20, 22],\n",
              "       [20, 23],\n",
              "       [20, 24],\n",
              "       [20, 25],\n",
              "       [20, 26],\n",
              "       [20, 27],\n",
              "       [20, 28],\n",
              "       [20, 29],\n",
              "       [21, 20],\n",
              "       [21, 21],\n",
              "       [21, 22],\n",
              "       [21, 23],\n",
              "       [21, 24],\n",
              "       [21, 25],\n",
              "       [21, 26],\n",
              "       [21, 27],\n",
              "       [21, 28],\n",
              "       [21, 29],\n",
              "       [22, 20],\n",
              "       [22, 21],\n",
              "       [22, 22],\n",
              "       [22, 23],\n",
              "       [22, 24],\n",
              "       [22, 25],\n",
              "       [22, 26],\n",
              "       [22, 27],\n",
              "       [22, 28],\n",
              "       [22, 29],\n",
              "       [23, 20],\n",
              "       [23, 21],\n",
              "       [23, 22],\n",
              "       [23, 23],\n",
              "       [23, 24],\n",
              "       [23, 25],\n",
              "       [23, 26],\n",
              "       [23, 27],\n",
              "       [23, 28],\n",
              "       [23, 29],\n",
              "       [24, 20],\n",
              "       [24, 21],\n",
              "       [24, 22],\n",
              "       [24, 23],\n",
              "       [24, 24],\n",
              "       [24, 25],\n",
              "       [24, 26],\n",
              "       [24, 27],\n",
              "       [24, 28],\n",
              "       [24, 29],\n",
              "       [25, 20],\n",
              "       [25, 21],\n",
              "       [25, 22],\n",
              "       [25, 23],\n",
              "       [25, 24],\n",
              "       [25, 25],\n",
              "       [25, 26],\n",
              "       [25, 27],\n",
              "       [25, 28],\n",
              "       [25, 29],\n",
              "       [26, 20],\n",
              "       [26, 21],\n",
              "       [26, 22],\n",
              "       [26, 23],\n",
              "       [26, 24],\n",
              "       [26, 25],\n",
              "       [26, 26],\n",
              "       [26, 27],\n",
              "       [26, 28],\n",
              "       [26, 29],\n",
              "       [27, 20],\n",
              "       [27, 21],\n",
              "       [27, 22],\n",
              "       [27, 23],\n",
              "       [27, 24],\n",
              "       [27, 25],\n",
              "       [27, 26],\n",
              "       [27, 27],\n",
              "       [27, 28],\n",
              "       [27, 29],\n",
              "       [28, 20],\n",
              "       [28, 21],\n",
              "       [28, 22],\n",
              "       [28, 23],\n",
              "       [28, 24],\n",
              "       [28, 25],\n",
              "       [28, 26],\n",
              "       [28, 27],\n",
              "       [28, 28],\n",
              "       [28, 29],\n",
              "       [29, 20],\n",
              "       [29, 21],\n",
              "       [29, 22],\n",
              "       [29, 23],\n",
              "       [29, 24],\n",
              "       [29, 25],\n",
              "       [29, 26],\n",
              "       [29, 27],\n",
              "       [29, 28],\n",
              "       [29, 29],\n",
              "       [30, 20],\n",
              "       [30, 21],\n",
              "       [30, 22],\n",
              "       [30, 23],\n",
              "       [30, 24],\n",
              "       [30, 25],\n",
              "       [30, 26],\n",
              "       [30, 27],\n",
              "       [30, 28],\n",
              "       [30, 29],\n",
              "       [31, 20],\n",
              "       [31, 21],\n",
              "       [31, 22],\n",
              "       [31, 23],\n",
              "       [31, 24],\n",
              "       [31, 25],\n",
              "       [31, 26],\n",
              "       [31, 27],\n",
              "       [31, 28],\n",
              "       [31, 29],\n",
              "       [32, 20],\n",
              "       [32, 21],\n",
              "       [32, 22],\n",
              "       [32, 23],\n",
              "       [32, 24],\n",
              "       [32, 25],\n",
              "       [32, 26],\n",
              "       [32, 27],\n",
              "       [32, 28],\n",
              "       [32, 29],\n",
              "       [33, 20],\n",
              "       [33, 21],\n",
              "       [33, 22],\n",
              "       [33, 23],\n",
              "       [33, 24],\n",
              "       [33, 25],\n",
              "       [33, 26],\n",
              "       [33, 27],\n",
              "       [33, 28],\n",
              "       [33, 29],\n",
              "       [34, 20],\n",
              "       [34, 21],\n",
              "       [34, 22],\n",
              "       [34, 23],\n",
              "       [34, 24],\n",
              "       [34, 25],\n",
              "       [34, 26],\n",
              "       [34, 27],\n",
              "       [34, 28],\n",
              "       [34, 29],\n",
              "       [35, 20],\n",
              "       [35, 21],\n",
              "       [35, 22],\n",
              "       [35, 23],\n",
              "       [35, 24],\n",
              "       [35, 25],\n",
              "       [35, 26],\n",
              "       [35, 27],\n",
              "       [35, 28],\n",
              "       [35, 29],\n",
              "       [36, 20],\n",
              "       [36, 21],\n",
              "       [36, 22],\n",
              "       [36, 23],\n",
              "       [36, 24],\n",
              "       [36, 25],\n",
              "       [36, 26],\n",
              "       [36, 27],\n",
              "       [36, 28],\n",
              "       [36, 29],\n",
              "       [37, 20],\n",
              "       [37, 21],\n",
              "       [37, 22],\n",
              "       [37, 23],\n",
              "       [37, 24],\n",
              "       [37, 25],\n",
              "       [37, 26],\n",
              "       [37, 27],\n",
              "       [37, 28],\n",
              "       [37, 29],\n",
              "       [38, 20],\n",
              "       [38, 21],\n",
              "       [38, 22],\n",
              "       [38, 23],\n",
              "       [38, 24],\n",
              "       [38, 25],\n",
              "       [38, 26],\n",
              "       [38, 27],\n",
              "       [38, 28],\n",
              "       [38, 29],\n",
              "       [39, 20],\n",
              "       [39, 21],\n",
              "       [39, 22],\n",
              "       [39, 23],\n",
              "       [39, 24],\n",
              "       [39, 25],\n",
              "       [39, 26],\n",
              "       [39, 27],\n",
              "       [39, 28],\n",
              "       [39, 29],\n",
              "       [40, 20],\n",
              "       [40, 21],\n",
              "       [40, 22],\n",
              "       [40, 23],\n",
              "       [40, 24],\n",
              "       [40, 25],\n",
              "       [40, 26],\n",
              "       [40, 27],\n",
              "       [40, 28],\n",
              "       [40, 29],\n",
              "       [41, 20],\n",
              "       [41, 21],\n",
              "       [41, 22],\n",
              "       [41, 23],\n",
              "       [41, 24],\n",
              "       [41, 25],\n",
              "       [41, 26],\n",
              "       [41, 27],\n",
              "       [41, 28],\n",
              "       [41, 29],\n",
              "       [42, 20],\n",
              "       [42, 21],\n",
              "       [42, 22],\n",
              "       [42, 23],\n",
              "       [42, 24],\n",
              "       [42, 25],\n",
              "       [42, 26],\n",
              "       [42, 27],\n",
              "       [42, 28],\n",
              "       [42, 29],\n",
              "       [43, 20],\n",
              "       [43, 21],\n",
              "       [43, 22],\n",
              "       [43, 23],\n",
              "       [43, 24],\n",
              "       [43, 25],\n",
              "       [43, 26],\n",
              "       [43, 27],\n",
              "       [43, 28],\n",
              "       [43, 29],\n",
              "       [44, 20],\n",
              "       [44, 21],\n",
              "       [44, 22],\n",
              "       [44, 23],\n",
              "       [44, 24],\n",
              "       [44, 25],\n",
              "       [44, 26],\n",
              "       [44, 27],\n",
              "       [44, 28],\n",
              "       [44, 29],\n",
              "       [45, 20],\n",
              "       [45, 21],\n",
              "       [45, 22],\n",
              "       [45, 23],\n",
              "       [45, 24],\n",
              "       [45, 25],\n",
              "       [45, 26],\n",
              "       [45, 27],\n",
              "       [45, 28],\n",
              "       [45, 29],\n",
              "       [46, 20],\n",
              "       [46, 21],\n",
              "       [46, 22],\n",
              "       [46, 23],\n",
              "       [46, 24],\n",
              "       [46, 25],\n",
              "       [46, 26],\n",
              "       [46, 27],\n",
              "       [46, 28],\n",
              "       [46, 29],\n",
              "       [47, 20],\n",
              "       [47, 21],\n",
              "       [47, 22],\n",
              "       [47, 23],\n",
              "       [47, 24],\n",
              "       [47, 25],\n",
              "       [47, 26],\n",
              "       [47, 27],\n",
              "       [47, 28],\n",
              "       [47, 29],\n",
              "       [48, 20],\n",
              "       [48, 21],\n",
              "       [48, 22],\n",
              "       [48, 23],\n",
              "       [48, 24],\n",
              "       [48, 25],\n",
              "       [48, 26],\n",
              "       [48, 27],\n",
              "       [48, 28],\n",
              "       [48, 29],\n",
              "       [49, 20],\n",
              "       [49, 21],\n",
              "       [49, 22],\n",
              "       [49, 23],\n",
              "       [49, 24],\n",
              "       [49, 25],\n",
              "       [49, 26],\n",
              "       [49, 27],\n",
              "       [49, 28],\n",
              "       [49, 29]])"
            ]
          },
          "execution_count": 5,
          "metadata": {},
          "output_type": "execute_result"
        }
      ],
      "source": [
        "# given_points = np.array([[i, j] for i in range(1, 50) for j in range(1, 50) if abs((i - 25) ** 2 + (j - 25) ** 2 - 36) <= 10])\n",
        "given_points = np.array([[i, j] for i in range (1, 50) for j in range(20, 30)])\n",
        "given_points"
      ]
    },
    {
      "cell_type": "markdown",
      "metadata": {
        "id": "MyxOqeiDjerp"
      },
      "source": [
        "Зададим значения поля U в этих точках:"
      ]
    },
    {
      "cell_type": "code",
      "execution_count": 9,
      "metadata": {},
      "outputs": [],
      "source": [
        "from PIL import Image, ImageOps\n",
        "\n",
        "def get_grayscale_image_arr(path):\n",
        "    img_array = np.array(ImageOps.grayscale(Image.open(path))).astype(int)\n",
        "    img_array[img_array != 255] = 0\n",
        "    return img_array.astype(bool).astype(int)"
      ]
    },
    {
      "cell_type": "code",
      "execution_count": 46,
      "metadata": {},
      "outputs": [
        {
          "data": {
            "text/plain": [
              "array([[ 24, 277],\n",
              "       [ 24, 278],\n",
              "       [ 24, 279],\n",
              "       ...,\n",
              "       [171, 278],\n",
              "       [171, 279],\n",
              "       [172, 277]], dtype=int64)"
            ]
          },
          "execution_count": 46,
          "metadata": {},
          "output_type": "execute_result"
        }
      ],
      "source": [
        "given_points = np.where(get_grayscale_image_arr('./imgs/input/0001.png') == 0)\n",
        "given_points = list(zip(given_points[0], given_points[1]))\n",
        "given_points = np.array([list(x) for x in given_points])\n",
        "given_points"
      ]
    },
    {
      "cell_type": "code",
      "execution_count": 47,
      "metadata": {
        "id": "GARL0HQhjerp",
        "outputId": "be25ce9b-3a99-4604-a40b-7ce0f42a2b1b"
      },
      "outputs": [
        {
          "data": {
            "text/plain": [
              "array([-2., -2., -2., -2., -2., -2., -2., -2., -2., -2., -2., -2., -2.,\n",
              "       -2., -2., -2., -2., -2., -2., -2., -2., -2., -2., -2., -2., -2.,\n",
              "       -2., -2., -2., -2., -2., -2., -2., -2., -2., -2., -2., -2., -2.,\n",
              "       -2., -2., -2., -2., -2., -2., -2., -2., -2., -2., -2., -2., -2.,\n",
              "       -2., -2., -2., -2., -2., -2., -2., -2., -2., -2., -2., -2., -2.,\n",
              "       -2., -2., -2., -2., -2., -2., -2., -2., -2., -2., -2., -2., -2.,\n",
              "       -2., -2., -2., -2., -2., -2., -2., -2., -2., -2., -2., -2., -2.,\n",
              "       -2., -2., -2., -2., -2., -2., -2., -2., -2., -2., -2., -2., -2.,\n",
              "       -2., -2., -2., -2., -2., -2., -2., -2., -2., -2., -2., -2., -2.,\n",
              "       -2., -2., -2., -2., -2., -2., -2., -2., -2., -2., -2., -2., -2.,\n",
              "       -2., -2., -2., -2., -2., -2., -2., -2., -2., -2., -2., -2., -2.,\n",
              "       -2., -2., -2., -2., -2., -2., -2., -2., -2., -2., -2., -2., -2.,\n",
              "       -2., -2., -2., -2., -2., -2., -2., -2., -2., -2., -2., -2., -2.,\n",
              "       -2., -2., -2., -2., -2., -2., -2., -2., -2., -2., -2., -2., -2.,\n",
              "       -2., -2., -2., -2., -2., -2., -2., -2., -2., -2., -2., -2., -2.,\n",
              "       -2., -2., -2., -2., -2., -2., -2., -2., -2., -2., -2., -2., -2.,\n",
              "       -2., -2., -2., -2., -2., -2., -2., -2., -2., -2., -2., -2., -2.,\n",
              "       -2., -2., -2., -2., -2., -2., -2., -2., -2., -2., -2., -2., -2.,\n",
              "       -2., -2., -2., -2., -2., -2., -2., -2., -2., -2., -2., -2., -2.,\n",
              "       -2., -2., -2., -2., -2., -2., -2., -2., -2., -2., -2., -2., -2.,\n",
              "       -2., -2., -2., -2., -2., -2., -2., -2., -2., -2., -2., -2., -2.,\n",
              "       -2., -2., -2., -2., -2., -2., -2., -2., -2., -2., -2., -2., -2.,\n",
              "       -2., -2., -2., -2., -2., -2., -2., -2., -2., -2., -2., -2., -2.,\n",
              "       -2., -2., -2., -2., -2., -2., -2., -2., -2., -2., -2., -2., -2.,\n",
              "       -2., -2., -2., -2., -2., -2., -2., -2., -2., -2., -2., -2., -2.,\n",
              "       -2., -2., -2., -2., -2., -2., -2., -2., -2., -2., -2., -2., -2.,\n",
              "       -2., -2., -2., -2., -2., -2., -2., -2., -2., -2., -2., -2., -2.,\n",
              "       -2., -2., -2., -2., -2., -2., -2., -2., -2., -2., -2., -2., -2.,\n",
              "       -2., -2., -2., -2., -2., -2., -2., -2., -2., -2., -2., -2., -2.,\n",
              "       -2., -2., -2., -2., -2., -2., -2., -2., -2., -2., -2., -2., -2.,\n",
              "       -2., -2., -2., -2., -2., -2., -2., -2., -2., -2., -2., -2., -2.,\n",
              "       -2., -2., -2., -2., -2., -2., -2., -2., -2., -2., -2., -2., -2.,\n",
              "       -2., -2., -2., -2., -2., -2., -2., -2., -2., -2., -2., -2., -2.,\n",
              "       -2., -2., -2., -2., -2., -2., -2., -2., -2., -2., -2., -2., -2.,\n",
              "       -2., -2., -2., -2., -2., -2., -2., -2., -2., -2., -2., -2., -2.,\n",
              "       -2., -2., -2., -2., -2., -2., -2., -2., -2., -2., -2., -2., -2.,\n",
              "       -2., -2., -2., -2., -2., -2., -2., -2., -2., -2., -2., -2., -2.,\n",
              "       -2., -2., -2., -2., -2., -2., -2., -2., -2., -2., -2., -2., -2.,\n",
              "       -2., -2., -2., -2., -2., -2., -2., -2., -2., -2., -2., -2., -2.,\n",
              "       -2., -2., -2., -2., -2., -2., -2., -2., -2., -2., -2., -2., -2.,\n",
              "       -2., -2., -2., -2., -2., -2., -2., -2., -2., -2., -2., -2., -2.,\n",
              "       -2., -2., -2., -2., -2., -2., -2., -2., -2., -2., -2., -2., -2.,\n",
              "       -2., -2., -2., -2., -2., -2., -2., -2., -2., -2., -2., -2., -2.,\n",
              "       -2., -2., -2., -2., -2., -2., -2., -2., -2., -2., -2., -2., -2.,\n",
              "       -2., -2., -2., -2., -2., -2., -2., -2., -2., -2., -2., -2., -2.,\n",
              "       -2., -2., -2., -2., -2., -2., -2., -2., -2., -2., -2., -2., -2.,\n",
              "       -2., -2., -2., -2., -2., -2., -2., -2., -2., -2., -2., -2., -2.,\n",
              "       -2., -2., -2., -2., -2., -2., -2., -2., -2., -2., -2., -2., -2.,\n",
              "       -2., -2., -2., -2., -2., -2., -2., -2., -2., -2., -2., -2., -2.,\n",
              "       -2., -2., -2., -2., -2., -2., -2., -2., -2., -2., -2., -2., -2.,\n",
              "       -2., -2., -2., -2., -2., -2., -2., -2., -2., -2., -2., -2., -2.,\n",
              "       -2., -2., -2., -2., -2., -2., -2., -2., -2., -2., -2., -2., -2.,\n",
              "       -2., -2., -2., -2., -2., -2., -2., -2., -2., -2., -2., -2., -2.,\n",
              "       -2., -2., -2., -2., -2., -2., -2., -2., -2., -2., -2., -2., -2.,\n",
              "       -2., -2., -2., -2., -2., -2., -2., -2., -2., -2., -2., -2., -2.,\n",
              "       -2., -2., -2., -2., -2., -2., -2., -2., -2., -2., -2., -2., -2.,\n",
              "       -2., -2., -2., -2., -2., -2., -2., -2., -2., -2., -2., -2., -2.,\n",
              "       -2., -2., -2., -2., -2., -2., -2., -2., -2., -2., -2., -2., -2.,\n",
              "       -2., -2., -2., -2., -2., -2., -2., -2., -2., -2., -2., -2., -2.,\n",
              "       -2., -2., -2., -2., -2., -2., -2., -2., -2., -2., -2., -2., -2.,\n",
              "       -2., -2., -2., -2., -2., -2., -2., -2., -2., -2., -2., -2., -2.,\n",
              "       -2., -2., -2., -2., -2., -2., -2., -2., -2., -2., -2., -2., -2.,\n",
              "       -2., -2., -2., -2., -2., -2., -2., -2., -2., -2., -2., -2., -2.,\n",
              "       -2., -2., -2., -2., -2., -2., -2., -2., -2., -2., -2., -2., -2.,\n",
              "       -2., -2., -2., -2., -2., -2., -2., -2., -2., -2., -2., -2., -2.,\n",
              "       -2., -2., -2., -2., -2., -2., -2., -2., -2., -2., -2., -2., -2.,\n",
              "       -2., -2., -2., -2., -2., -2., -2., -2., -2., -2., -2., -2., -2.,\n",
              "       -2., -2., -2., -2., -2., -2., -2., -2., -2., -2., -2., -2., -2.,\n",
              "       -2., -2., -2., -2., -2., -2., -2., -2., -2., -2., -2., -2., -2.,\n",
              "       -2., -2., -2., -2., -2., -2., -2., -2., -2., -2., -2., -2., -2.,\n",
              "       -2., -2., -2., -2., -2., -2., -2., -2., -2., -2., -2., -2., -2.,\n",
              "       -2., -2., -2., -2., -2., -2., -2., -2., -2., -2., -2., -2., -2.,\n",
              "       -2., -2., -2., -2., -2., -2., -2., -2., -2., -2., -2., -2., -2.,\n",
              "       -2., -2., -2., -2., -2., -2., -2., -2., -2., -2., -2., -2., -2.,\n",
              "       -2., -2., -2., -2., -2., -2., -2., -2., -2., -2., -2., -2., -2.,\n",
              "       -2., -2., -2., -2., -2., -2., -2., -2., -2., -2., -2., -2., -2.,\n",
              "       -2., -2., -2., -2., -2., -2., -2., -2., -2., -2., -2.])"
            ]
          },
          "execution_count": 47,
          "metadata": {},
          "output_type": "execute_result"
        }
      ],
      "source": [
        "given_values = np.zeros(len(given_points)) - 2\n",
        "given_values"
      ]
    },
    {
      "cell_type": "markdown",
      "metadata": {
        "id": "mi3X4T4hjerp"
      },
      "source": [
        "Изобразим данные нам точки и значения на карте:"
      ]
    },
    {
      "cell_type": "code",
      "execution_count": 50,
      "metadata": {
        "id": "LM2YC15cjerp",
        "outputId": "5b6b48d4-146e-45fa-e19e-de20aa7ddbcc"
      },
      "outputs": [
        {
          "data": {
            "text/plain": [
              "<matplotlib.colorbar.Colorbar at 0x27b32a5a800>"
            ]
          },
          "execution_count": 50,
          "metadata": {},
          "output_type": "execute_result"
        },
        {
          "data": {
            "image/png": "[encoded data removed]",
            "text/plain": [
              "<Figure size 432x288 with 2 Axes>"
            ]
          },
          "metadata": {
            "needs_background": "light"
          },
          "output_type": "display_data"
        }
      ],
      "source": [
        "shape=(200, 400)\n",
        "points = np.moveaxis(np.indices(shape), 0, -1).reshape(-1, 2).astype(np.float32)\n",
        "\n",
        "u = np.zeros(shape)\n",
        "u[given_points[:, 0], given_points[:, 1]] = given_values\n",
        "plt.imshow(u, cmap='seismic', vmin=-2, vmax=2)\n",
        "plt.colorbar()"
      ]
    },
    {
      "cell_type": "markdown",
      "metadata": {
        "id": "hAgCjezCjerq"
      },
      "source": [
        "Следующий шаг - смодилировать несколько реализаций поля U вокруг заданных точек и значений. Идея в том, что если поле U является гауссовским, т.е. совместное распределение значений поля $u_1, ..., u_n$ в точках $x_1, ..., x_n$ -- гауссовское:\n",
        "$$p(u_1, ..., u_n) = N(0, \\Sigma),$$\n",
        "то условные распределения тоже будут гауссовскими:\n",
        "$$p(u_1, ..., u_k | u_{k+1}, ...,  u_n) = N(\\mu, \\tilde\\Sigma).$$\n",
        "Можно выписать конкретную формулу:"
      ]
    },
    {
      "cell_type": "markdown",
      "metadata": {
        "id": "E03BBfMojerq"
      },
      "source": [
        "<img src='data:image/png;base64,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'/>"
      ]
    },
    {
      "cell_type": "markdown",
      "metadata": {
        "id": "ObfrfWi-jert"
      },
      "source": [
        "Код ниже реализует эту идею и сэмплирует 3 случайные реализации из условного распределения:"
      ]
    },
    {
      "cell_type": "code",
      "execution_count": 55,
      "metadata": {
        "id": "Ar8We956jert",
        "outputId": "e99e6079-a4e7-4ccf-cb56-d6b542175f39"
      },
      "outputs": [
        {
          "ename": "MemoryError",
          "evalue": "Unable to allocate 23.8 GiB for an array with shape (3199960000,) and data type float64",
          "output_type": "error",
          "traceback": [
            "\u001b[1;31m---------------------------------------------------------------------------\u001b[0m",
            "\u001b[1;31mMemoryError\u001b[0m                               Traceback (most recent call last)",
            "\u001b[1;32mc:\\jupyter_workspace\\_Diploma\\gaussian_field+.ipynb Cell 29\u001b[0m in \u001b[0;36m<cell line: 8>\u001b[1;34m()\u001b[0m\n\u001b[0;32m      <a href='vscode-notebook-cell:/c%3A/jupyter_workspace/_Diploma/gaussian_field%2B.ipynb#X35sZmlsZQ%3D%3D?line=4'>5</a>\u001b[0m gp\u001b[39m.\u001b[39mfit(given_points, given_values)\n\u001b[0;32m      <a href='vscode-notebook-cell:/c%3A/jupyter_workspace/_Diploma/gaussian_field%2B.ipynb#X35sZmlsZQ%3D%3D?line=6'>7</a>\u001b[0m plt\u001b[39m.\u001b[39mfigure(figsize\u001b[39m=\u001b[39m(\u001b[39m15\u001b[39m, \u001b[39m5\u001b[39m))\n\u001b[1;32m----> <a href='vscode-notebook-cell:/c%3A/jupyter_workspace/_Diploma/gaussian_field%2B.ipynb#X35sZmlsZQ%3D%3D?line=7'>8</a>\u001b[0m predicted \u001b[39m=\u001b[39m gp\u001b[39m.\u001b[39;49msample_y(points, n_samples\u001b[39m=\u001b[39;49m\u001b[39m1\u001b[39;49m)\n\u001b[0;32m      <a href='vscode-notebook-cell:/c%3A/jupyter_workspace/_Diploma/gaussian_field%2B.ipynb#X35sZmlsZQ%3D%3D?line=8'>9</a>\u001b[0m plt\u001b[39m.\u001b[39mimshow(predicted[\u001b[39m.\u001b[39m\u001b[39m.\u001b[39m\u001b[39m.\u001b[39m, i]\u001b[39m.\u001b[39mreshape(shape), vmin\u001b[39m=\u001b[39m\u001b[39m-\u001b[39m\u001b[39m2\u001b[39m, vmax\u001b[39m=\u001b[39m\u001b[39m2\u001b[39m, cmap\u001b[39m=\u001b[39m\u001b[39m'\u001b[39m\u001b[39mPuOr\u001b[39m\u001b[39m'\u001b[39m)\n",
            "File \u001b[1;32mc:\\jupyter_workspace\\_Diploma\\.venv\\lib\\site-packages\\sklearn\\gaussian_process\\_gpr.py:477\u001b[0m, in \u001b[0;36mGaussianProcessRegressor.sample_y\u001b[1;34m(self, X, n_samples, random_state)\u001b[0m\n\u001b[0;32m    452\u001b[0m \u001b[39m\"\"\"Draw samples from Gaussian process and evaluate at X.\u001b[39;00m\n\u001b[0;32m    453\u001b[0m \n\u001b[0;32m    454\u001b[0m \u001b[39mParameters\u001b[39;00m\n\u001b[1;32m   (...)\u001b[0m\n\u001b[0;32m    473\u001b[0m \u001b[39m    evaluated at query points.\u001b[39;00m\n\u001b[0;32m    474\u001b[0m \u001b[39m\"\"\"\u001b[39;00m\n\u001b[0;32m    475\u001b[0m rng \u001b[39m=\u001b[39m check_random_state(random_state)\n\u001b[1;32m--> 477\u001b[0m y_mean, y_cov \u001b[39m=\u001b[39m \u001b[39mself\u001b[39;49m\u001b[39m.\u001b[39;49mpredict(X, return_cov\u001b[39m=\u001b[39;49m\u001b[39mTrue\u001b[39;49;00m)\n\u001b[0;32m    478\u001b[0m \u001b[39mif\u001b[39;00m y_mean\u001b[39m.\u001b[39mndim \u001b[39m==\u001b[39m \u001b[39m1\u001b[39m:\n\u001b[0;32m    479\u001b[0m     y_samples \u001b[39m=\u001b[39m rng\u001b[39m.\u001b[39mmultivariate_normal(y_mean, y_cov, n_samples)\u001b[39m.\u001b[39mT\n",
            "File \u001b[1;32mc:\\jupyter_workspace\\_Diploma\\.venv\\lib\\site-packages\\sklearn\\gaussian_process\\_gpr.py:409\u001b[0m, in \u001b[0;36mGaussianProcessRegressor.predict\u001b[1;34m(self, X, return_std, return_cov)\u001b[0m\n\u001b[0;32m    403\u001b[0m V \u001b[39m=\u001b[39m solve_triangular(\n\u001b[0;32m    404\u001b[0m     \u001b[39mself\u001b[39m\u001b[39m.\u001b[39mL_, K_trans\u001b[39m.\u001b[39mT, lower\u001b[39m=\u001b[39mGPR_CHOLESKY_LOWER, check_finite\u001b[39m=\u001b[39m\u001b[39mFalse\u001b[39;00m\n\u001b[0;32m    405\u001b[0m )\n\u001b[0;32m    407\u001b[0m \u001b[39mif\u001b[39;00m return_cov:\n\u001b[0;32m    408\u001b[0m     \u001b[39m# Alg 2.1, page 19, line 6 -> K(X_test, X_test) - v^T. v\u001b[39;00m\n\u001b[1;32m--> 409\u001b[0m     y_cov \u001b[39m=\u001b[39m \u001b[39mself\u001b[39;49m\u001b[39m.\u001b[39;49mkernel_(X) \u001b[39m-\u001b[39m V\u001b[39m.\u001b[39mT \u001b[39m@\u001b[39m V\n\u001b[0;32m    411\u001b[0m     \u001b[39m# undo normalisation\u001b[39;00m\n\u001b[0;32m    412\u001b[0m     y_cov \u001b[39m=\u001b[39m np\u001b[39m.\u001b[39mouter(y_cov, \u001b[39mself\u001b[39m\u001b[39m.\u001b[39m_y_train_std\u001b[39m*\u001b[39m\u001b[39m*\u001b[39m\u001b[39m2\u001b[39m)\u001b[39m.\u001b[39mreshape(\n\u001b[0;32m    413\u001b[0m         \u001b[39m*\u001b[39my_cov\u001b[39m.\u001b[39mshape, \u001b[39m-\u001b[39m\u001b[39m1\u001b[39m\n\u001b[0;32m    414\u001b[0m     )\n",
            "File \u001b[1;32mc:\\jupyter_workspace\\_Diploma\\.venv\\lib\\site-packages\\sklearn\\gaussian_process\\kernels.py:1537\u001b[0m, in \u001b[0;36mRBF.__call__\u001b[1;34m(self, X, Y, eval_gradient)\u001b[0m\n\u001b[0;32m   1535\u001b[0m \u001b[39mif\u001b[39;00m Y \u001b[39mis\u001b[39;00m \u001b[39mNone\u001b[39;00m:\n\u001b[0;32m   1536\u001b[0m     dists \u001b[39m=\u001b[39m pdist(X \u001b[39m/\u001b[39m length_scale, metric\u001b[39m=\u001b[39m\u001b[39m\"\u001b[39m\u001b[39msqeuclidean\u001b[39m\u001b[39m\"\u001b[39m)\n\u001b[1;32m-> 1537\u001b[0m     K \u001b[39m=\u001b[39m np\u001b[39m.\u001b[39mexp(\u001b[39m-\u001b[39;49m\u001b[39m0.5\u001b[39;49m \u001b[39m*\u001b[39;49m dists)\n\u001b[0;32m   1538\u001b[0m     \u001b[39m# convert from upper-triangular matrix to square matrix\u001b[39;00m\n\u001b[0;32m   1539\u001b[0m     K \u001b[39m=\u001b[39m squareform(K)\n",
            "\u001b[1;31mMemoryError\u001b[0m: Unable to allocate 23.8 GiB for an array with shape (3199960000,) and data type float64"
          ]
        },
        {
          "data": {
            "text/plain": [
              "<Figure size 1080x360 with 0 Axes>"
            ]
          },
          "metadata": {},
          "output_type": "display_data"
        }
      ],
      "source": [
        "from sklearn.gaussian_process import GaussianProcessRegressor\n",
        "from sklearn.gaussian_process.kernels import RBF\n",
        "\n",
        "gp = GaussianProcessRegressor(RBF(4, length_scale_bounds='fixed'))\n",
        "gp.fit(given_points, given_values)\n",
        "\n",
        "plt.figure(figsize=(15, 5))\n",
        "predicted = gp.sample_y(points, n_samples=1)\n",
        "plt.imshow(predicted[..., i].reshape(shape), vmin=-2, vmax=2, cmap='PuOr')"
      ]
    },
    {
      "cell_type": "code",
      "execution_count": null,
      "metadata": {},
      "outputs": [],
      "source": [
        "def plot_gpr():\n",
        "    given_points = np.array([[i, j] for i in range(1, 50) for j in range(1, 50) if abs((i - 25) ** 2 + (j - 25) ** 2 - 36) <= 10])\n",
        "    given_values = np.zeros(len(given_points)) - 2\n",
        "    \n",
        "    gp = GaussianProcessRegressor(RBF(4, length_scale_bounds='fixed'))\n",
        "    gp.fit(given_points, given_values)\n",
        "\n",
        "    fig, ax = plt.subplots(1, 3, figsize=(15, 5))\n",
        "    predicted = gp.sample_y(points, n_samples=len(ax))\n",
        "    for i in range(len(ax)):\n",
        "        ax[i].imshow(predicted[..., i].reshape(shape), vmin=-2, vmax=2, cmap='seismic')"
      ]
    },
    {
      "cell_type": "markdown",
      "metadata": {
        "id": "-iruglWvjeru"
      },
      "source": [
        "Обратите внимание, что на всех картинках значения в точках given_points совпадает с теми значениями given_values, которые мы сами задали. Это можно проверить и непосредственно, например, возьмем значения в точках given_points из самой левой картинки:"
      ]
    },
    {
      "cell_type": "code",
      "execution_count": 21,
      "metadata": {
        "id": "hX5P2HG8jeru",
        "outputId": "b163a154-36b7-4718-aa35-016d36086139"
      },
      "outputs": [
        {
          "data": {
            "text/plain": [
              "array([ 0.45367773,  1.83887354, -1.17439593, -1.73091697, -0.91685328,\n",
              "        1.13485395,  1.6804039 , -1.34613208,  0.96251582,  0.12927732,\n",
              "        1.00268343, -1.78521928, -1.73687368,  0.11679371, -0.46602484,\n",
              "        1.60294162])"
            ]
          },
          "execution_count": 21,
          "metadata": {},
          "output_type": "execute_result"
        }
      ],
      "source": [
        "predicted[..., 0].reshape(shape)[given_points[:, 0], given_points[:, 1]]"
      ]
    },
    {
      "cell_type": "markdown",
      "metadata": {
        "id": "HAq57eiujeru"
      },
      "source": [
        "и увидим, что они совпадают (почти, небольшая разница объяснима деталями реализации рауссовской регрессии) с исходными given_values:"
      ]
    },
    {
      "cell_type": "code",
      "execution_count": 22,
      "metadata": {
        "id": "oULDOQBZjeru",
        "outputId": "811fadd0-e5bc-4d46-fd7e-9026cd704c70"
      },
      "outputs": [
        {
          "data": {
            "text/plain": [
              "array([ 0.45368438,  1.83887715, -1.17439297, -1.7309098 , -0.91686909,\n",
              "        1.13484801,  1.68040864, -1.34613204,  0.96251232,  0.12927931,\n",
              "        1.00267842, -1.78522615, -1.73687419,  0.11678197, -0.46602585,\n",
              "        1.60295123])"
            ]
          },
          "execution_count": 22,
          "metadata": {},
          "output_type": "execute_result"
        }
      ],
      "source": [
        "given_values"
      ]
    },
    {
      "cell_type": "markdown",
      "metadata": {
        "id": "7mnQhNJTjeru"
      },
      "source": [
        "Если рассматривать не случайные реализации U, а среднее по большому числу реализаций, то результат регрессии будет как на картинке ниже:"
      ]
    },
    {
      "cell_type": "code",
      "execution_count": 12,
      "metadata": {
        "id": "TdjJzML8jerv",
        "outputId": "609eb91d-9052-46bd-b98f-6f269ca912b6"
      },
      "outputs": [
        {
          "data": {
            "text/plain": [
              "<matplotlib.image.AxesImage at 0x265a7b79780>"
            ]
          },
          "execution_count": 12,
          "metadata": {},
          "output_type": "execute_result"
        },
        {
          "data": {
            "image/png": "[encoded data removed]",
            "text/plain": [
              "<Figure size 432x288 with 1 Axes>"
            ]
          },
          "metadata": {
            "needs_background": "light"
          },
          "output_type": "display_data"
        }
      ],
      "source": [
        "mean = gp.predict(points).reshape(shape)\n",
        "plt.imshow(mean, vmin=-2, vmax=2, cmap='seismic')"
      ]
    },
    {
      "cell_type": "markdown",
      "metadata": {
        "id": "s-px4ydBjerv"
      },
      "source": [
        "Упражнение: проверьте, как параметр ядра RBF(4, length_scale_bounds='fixed') влияет на результат регрессии."
      ]
    },
    {
      "cell_type": "markdown",
      "metadata": {
        "id": "ErvQJ3giN8VO"
      },
      "source": [
        "Дальше разберем домашнюю задачу, в которой для гауссовского распределения с ковариационной матрицей [[40, -2], [-2, 17]] нужно было найти представление в виде линейной комбинации независимых нормальных величин.\n",
        "\n",
        "Такое представление не единственно и ниже приведено три разных способа решения:"
      ]
    },
    {
      "cell_type": "code",
      "execution_count": null,
      "metadata": {
        "id": "RLt0AQGTjerv"
      },
      "outputs": [],
      "source": [
        "S = np.array([[40, -2], [-2, 17]])"
      ]
    },
    {
      "cell_type": "markdown",
      "metadata": {
        "id": "71ebtUEIjerw"
      },
      "source": [
        "Вариант 1: угадать"
      ]
    },
    {
      "cell_type": "code",
      "execution_count": null,
      "metadata": {
        "id": "ss1T1bU7jerw",
        "outputId": "f722b7d7-6073-45e0-f7b4-8e0488ee82f3"
      },
      "outputs": [
        {
          "data": {
            "text/plain": [
              "array([[40, -2],\n",
              "       [-2, 17]])"
            ]
          },
          "execution_count": 20,
          "metadata": {},
          "output_type": "execute_result"
        }
      ],
      "source": [
        "a = np.array([[2, 6], [-4, 1]])\n",
        "a@a.T"
      ]
    },
    {
      "cell_type": "markdown",
      "metadata": {
        "id": "5TS7KaIKjerw"
      },
      "source": [
        "Вариант 2: разложение Холецкого "
      ]
    },
    {
      "cell_type": "code",
      "execution_count": null,
      "metadata": {
        "id": "9q4NbcU8jerw",
        "outputId": "3beb60d6-1f15-47b5-eb61-6c600e0f7e23"
      },
      "outputs": [
        {
          "data": {
            "text/plain": [
              "array([[40., -2.],\n",
              "       [-2., 17.]])"
            ]
          },
          "execution_count": 21,
          "metadata": {},
          "output_type": "execute_result"
        }
      ],
      "source": [
        "b = np.linalg.cholesky(S)\n",
        "b@b.T"
      ]
    },
    {
      "cell_type": "markdown",
      "metadata": {
        "id": "tgvy2TThjerw"
      },
      "source": [
        "Вариант 3: SVD разложение"
      ]
    },
    {
      "cell_type": "code",
      "execution_count": null,
      "metadata": {
        "id": "qq-61Jm3jerx",
        "outputId": "1e9363b1-702a-48c9-cf43-bc49e73bdfb8"
      },
      "outputs": [
        {
          "data": {
            "text/plain": [
              "array([[40., -2.],\n",
              "       [-2., 17.]])"
            ]
          },
          "execution_count": 22,
          "metadata": {},
          "output_type": "execute_result"
        }
      ],
      "source": [
        "v, d, w = np.linalg.svd(S)\n",
        "v@np.diag(d)@w.T"
      ]
    },
    {
      "cell_type": "markdown",
      "metadata": {
        "id": "yH3Ej82Ejerx"
      },
      "source": [
        "Все три варианта приводят к одному и тому же распределению:"
      ]
    },
    {
      "cell_type": "code",
      "execution_count": null,
      "metadata": {
        "id": "Ifh8GqsSjerx",
        "outputId": "72d6d42b-4733-4781-c13e-0bc166ae5706"
      },
      "outputs": [
        {
          "data": {
            "image/png": "[encoded data removed]",
            "text/plain": [
              "<Figure size 1080x504 with 3 Axes>"
            ]
          },
          "metadata": {},
          "output_type": "display_data"
        }
      ],
      "source": [
        "normals = np.random.randn(2, 1000000)\n",
        "\n",
        "fig, ax = plt.subplots(1, 3, figsize=(15, 7))\n",
        "fig.patch.set_facecolor('xkcd:white')\n",
        "\n",
        "samples = a @ normals\n",
        "ax[0].hist2d(*samples, bins=40)\n",
        "ax[0].set_aspect('equal')\n",
        "\n",
        "samples = b @ normals\n",
        "ax[1].hist2d(*samples, bins=40)\n",
        "ax[1].set_aspect('equal')\n",
        "\n",
        "samples = v @ np.diag(np.sqrt(d)) @ normals\n",
        "ax[2].hist2d(*samples, bins=40)\n",
        "ax[2].set_aspect('equal')\n",
        "plt.show()"
      ]
    },
    {
      "cell_type": "markdown",
      "metadata": {
        "id": "jFr5OgaLjerx"
      },
      "source": [
        "Теперь нарисуем эллипсы, содержащие 50%, 95% и 99% плотности. \n",
        "\n",
        "Предварительно находим собственные значения и вектора для ковариационной матрицы"
      ]
    },
    {
      "cell_type": "code",
      "execution_count": null,
      "metadata": {
        "id": "4w59tGSrjerx",
        "outputId": "6d5f2c95-977a-4fcd-d95e-4116607c61f3"
      },
      "outputs": [
        {
          "name": "stdout",
          "output_type": "stream",
          "text": [
            "Eigenvals [40.17261753 16.82738247]\n",
            "Eigenvecs [ 0.99629608 -0.08598908] [0.08598908 0.99629608]\n"
          ]
        }
      ],
      "source": [
        "eig_vals, eig_vecs = np.linalg.eig(S)\n",
        "print('Eigenvals', eig_vals)\n",
        "print('Eigenvecs', eig_vecs[:, 0], eig_vecs[:, 1])"
      ]
    },
    {
      "cell_type": "markdown",
      "metadata": {
        "id": "20vhX8abjerx"
      },
      "source": [
        "Дальше нам потребуются квантили хи-квадрат распредедения. Например, квантиль уровня 0.95 для хи-квадрат распределения с двумя степенями свободы"
      ]
    },
    {
      "cell_type": "code",
      "execution_count": null,
      "metadata": {
        "id": "EAsaa2Znjery",
        "outputId": "9adc79ff-0b94-4ce6-dacd-9555a7758cc7"
      },
      "outputs": [
        {
          "data": {
            "text/plain": [
              "5.991464547107979"
            ]
          },
          "execution_count": 25,
          "metadata": {},
          "output_type": "execute_result"
        }
      ],
      "source": [
        "import scipy.stats as stats\n",
        "\n",
        "stats.chi2.ppf(0.95, 2)"
      ]
    },
    {
      "cell_type": "markdown",
      "metadata": {
        "id": "0QSIjWl4jery"
      },
      "source": [
        "Теперь можно рисовать эллипсы. На картинке ниже построены эллипсы для 50%, 95%  и 99% вероятности: "
      ]
    },
    {
      "cell_type": "code",
      "execution_count": null,
      "metadata": {
        "id": "98aC-jQ9jery",
        "outputId": "d89b2a5a-6990-41f3-852e-0b5cfc212227"
      },
      "outputs": [
        {
          "data": {
            "image/png": "[encoded data removed]",
            "text/plain": [
              "<Figure size 720x504 with 1 Axes>"
            ]
          },
          "metadata": {},
          "output_type": "display_data"
        }
      ],
      "source": [
        "t = np.linspace(0, 2*np.pi, 1000);\n",
        "ellipsis = eig_vecs @ np.diag(np.sqrt(eig_vals)) @ np.array([np.sin(t), np.cos(t)])\n",
        "\n",
        "fig, ax = plt.subplots(1, 1, figsize=(10, 7))\n",
        "fig.patch.set_facecolor('xkcd:white')\n",
        "plt.hist2d(*samples, bins=40, density=True)\n",
        "\n",
        "for p in [0.5, 0.95, 0.99]:\n",
        "    q = stats.chi2.ppf(p, 2)\n",
        "    plt.plot(*(np.sqrt(q) * ellipsis), c='w')\n",
        "\n",
        "plt.arrow(0, 0, *eig_vecs[:, 0]*np.sqrt(eig_vals[0])*np.sqrt(q), \n",
        "          color='r', head_width=1, lw=3, length_includes_head=True)\n",
        "plt.arrow(0, 0, *eig_vecs[:, 1]*np.sqrt(eig_vals[1])*np.sqrt(q),\n",
        "          color='#7CFC00', head_width=1, lw=3, length_includes_head=True)\n",
        "\n",
        "plt.axis('equal')\n",
        "plt.show()"
      ]
    },
    {
      "cell_type": "markdown",
      "metadata": {
        "id": "VboGSwpljery"
      },
      "source": [
        "Продолжение следует..."
      ]
    },
    {
      "cell_type": "code",
      "execution_count": null,
      "metadata": {
        "id": "KNiELC5jjerz"
      },
      "outputs": [],
      "source": []
    }
  ],
  "metadata": {
    "colab": {
      "provenance": []
    },
    "kernelspec": {
      "display_name": ".venv",
      "language": "python",
      "name": "python3"
    },
    "language_info": {
      "codemirror_mode": {
        "name": "ipython",
        "version": 3
      },
      "file_extension": ".py",
      "mimetype": "text/x-python",
      "name": "python",
      "nbconvert_exporter": "python",
      "pygments_lexer": "ipython3",
      "version": "3.10.6 (tags/v3.10.6:9c7b4bd, Aug  1 2022, 21:53:49) [MSC v.1932 64 bit (AMD64)]"
    },
    "vscode": {
      "interpreter": {
        "hash": "850244c8638196155f69ccd644181272b4a42cc2d794d5c02d6df1253ef9f395"
      }
    }
  },
  "nbformat": 4,
  "nbformat_minor": 0
}
