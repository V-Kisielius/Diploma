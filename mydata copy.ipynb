{
 "cells": [
  {
   "cell_type": "code",
   "execution_count": 1,
   "metadata": {},
   "outputs": [
    {
     "name": "stdout",
     "output_type": "stream",
     "text": [
      "cuda:0\n"
     ]
    }
   ],
   "source": [
    "import numpy as np\n",
    "import torch\n",
    "import torch.nn as nn\n",
    "import os\n",
    "\n",
    "from PIL import Image, ImageOps\n",
    "from IPython.display import clear_output\n",
    "import matplotlib.pyplot as plt\n",
    "%matplotlib inline\n",
    "\n",
    "from make_gif_from_folder import make_gif\n",
    "\n",
    "path_to_image = 'imgs/x.bmp'\n",
    "device = torch.device(\"cuda:0\" if torch.cuda.is_available() else \"cpu\")\n",
    "\n",
    "torch.cuda.set_device(0)\n",
    "print(device)\n"
   ]
  },
  {
   "cell_type": "code",
   "execution_count": 15,
   "metadata": {},
   "outputs": [],
   "source": [
    "filename = './data/sn1996k1904eng.abz'\n",
    "with open(filename) as f:\n",
    "    lines = [line.rstrip() for line in f]\n",
    "my_shape = [int(x) for x in lines[0].split()[-6:-4]]\n",
    "my_shape.reverse()\n",
    "img_array = np.full(shape=my_shape, fill_value=255)\n",
    "for line in lines[3:]:\n",
    "    line = [int(x) for x in line.split()]\n",
    "    if len(line) == 3:\n",
    "        y = line[0]\n",
    "        x1 = line[1]\n",
    "        x2 = -line[2]\n",
    "        for i in range(x1, x2 + 1):\n",
    "            img_array[min(y, my_shape[0] - 1), min(i, my_shape[1] - 1)] = 0\n",
    "    elif len(line) == 5:\n",
    "        y = line[0]\n",
    "        x1 = line[1]\n",
    "        x2 = -line[2]\n",
    "        x3 = line[3]\n",
    "        x4 = -line[4]\n",
    "        for i in range(x1, x2 + 1):\n",
    "            img_array[min(y, my_shape[0] - 1), min(i, my_shape[1] - 1)] = 0\n",
    "        for i in range(x3, x4 + 1):\n",
    "            img_array[min(y, my_shape[0] - 1), min(i, my_shape[1] - 1)] = 0\n",
    "\n",
    "filename = './data/CL_23.txt'\n",
    "\n",
    "\n",
    "with open(filename) as f:\n",
    "    lines = [line.rstrip() for line in f]\n",
    "i = 10\n",
    "for line in lines[2:38]:\n",
    "    line = [int(x) for x in line.split()]\n",
    "    for el in line[1:]:\n",
    "        img_array[int((el)*639./180.), int(i * 1277. / 360.)] = 0\n",
    "    i += 10"
   ]
  },
  {
   "cell_type": "code",
   "execution_count": 16,
   "metadata": {},
   "outputs": [
    {
     "data": {
      "text/plain": [
       "<matplotlib.image.AxesImage at 0x1eb0fa75c30>"
      ]
     },
     "execution_count": 16,
     "metadata": {},
     "output_type": "execute_result"
    },
    {
     "data": {
      "image/png": "[encoded data removed]",
      "text/plain": [
       "<Figure size 432x288 with 1 Axes>"
      ]
     },
     "metadata": {
      "needs_background": "light"
     },
     "output_type": "display_data"
    }
   ],
   "source": [
    "plt.imshow(img_array, cmap='inferno')"
   ]
  },
  {
   "cell_type": "code",
   "execution_count": null,
   "metadata": {},
   "outputs": [],
   "source": []
  }
 ],
 "metadata": {
  "kernelspec": {
   "display_name": "Python 3.10.6 ('.venv': venv)",
   "language": "python",
   "name": "python3"
  },
  "language_info": {
   "codemirror_mode": {
    "name": "ipython",
    "version": 3
   },
   "file_extension": ".py",
   "mimetype": "text/x-python",
   "name": "python",
   "nbconvert_exporter": "python",
   "pygments_lexer": "ipython3",
   "version": "3.10.6"
  },
  "orig_nbformat": 4,
  "vscode": {
   "interpreter": {
    "hash": "5fb51cf9843d757cbdb9ebc1600be2b33177e72e1f32e29032a1fa1cdd2d3bec"
   }
  }
 },
 "nbformat": 4,
 "nbformat_minor": 2
}
