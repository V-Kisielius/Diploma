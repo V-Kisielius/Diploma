{
  "cells": [
    {
      "cell_type": "markdown",
      "metadata": {
        "colab_type": "text",
        "id": "oH-9p-nlCM7J"
      },
      "source": [
        "# GPyTorch Regression Tutorial\n",
        "\n",
        "<a href=\"https://colab.research.google.com/github/jwangjie/gpytorch/blob/master/examples/01_Exact_GPs/Simple_GP_Regression.ipynb\" target=\"_parent\"><img src=\"https://colab.research.google.com/assets/colab-badge.svg\" alt=\"Open In Colab\"/></a>\n",
        "\n",
        "## Introduction\n",
        "\n",
        "In this notebook, we demonstrate many of the design features of GPyTorch using the simplest example, training an RBF kernel Gaussian process on a simple function. We'll be modeling the function\n",
        "\n",
        "\\begin{align}\n",
        "y &= \\sin(2\\pi x) + \\epsilon \\\\\n",
        "  \\epsilon &\\sim \\mathcal{N}(0, 0.04) \n",
        "\\end{align}\n",
        "\n",
        "with 100 training examples, and testing on 51 test examples.\n",
        "\n",
        "**Note:** this notebook is not necessarily intended to teach the mathematical background of Gaussian processes, but rather how to train a simple one and make predictions in GPyTorch. For a mathematical treatment, Chapter 2 of Gaussian Processes for Machine Learning provides a very thorough introduction to GP regression (this entire text is highly recommended): http://www.gaussianprocess.org/gpml/chapters/RW2.pdf"
      ]
    },
    {
      "cell_type": "code",
      "execution_count": 1,
      "metadata": {
        "colab": {
          "base_uri": "https://localhost:8080/",
          "height": 185
        },
        "colab_type": "code",
        "id": "3NZkYMG9CSHY",
        "outputId": "2e11f9d2-9938-45aa-9fcc-809a5bd83c1c"
      },
      "outputs": [
        {
          "name": "stdout",
          "output_type": "stream",
          "text": [
            "Collecting gpytorch\n",
            "\u001b[?25l  Downloading https://files.pythonhosted.org/packages/9c/5f/ce79e35c1a36deb25a0eac0f67bfe85fb8350eb8e19223950c3d615e5e9a/gpytorch-1.0.1.tar.gz (229kB)\n",
            "\u001b[K     |████████████████████████████████| 235kB 2.8MB/s \n",
            "\u001b[?25hBuilding wheels for collected packages: gpytorch\n",
            "  Building wheel for gpytorch (setup.py) ... \u001b[?25l\u001b[?25hdone\n",
            "  Created wheel for gpytorch: filename=gpytorch-1.0.1-py2.py3-none-any.whl size=390441 sha256=4c1c86a4228d2a6b7a30cf734f9a1b61de06c54de6177c0c84e34ae7d7b02939\n",
            "  Stored in directory: /root/.cache/pip/wheels/10/2f/7a/3328e5713d796daeec2ce8ded141d5f3837253fc3c2a5c62e0\n",
            "Successfully built gpytorch\n",
            "Installing collected packages: gpytorch\n",
            "Successfully installed gpytorch-1.0.1\n"
          ]
        }
      ],
      "source": [
        "# COMMENT this if not used in colab\n",
        "# !pip3 install gpytorch"
      ]
    },
    {
      "cell_type": "code",
      "execution_count": 2,
      "metadata": {
        "colab": {},
        "colab_type": "code",
        "id": "vRuTAmukCM7K"
      },
      "outputs": [],
      "source": [
        "import math\n",
        "import torch\n",
        "import gpytorch\n",
        "from matplotlib import pyplot as plt\n",
        "\n",
        "%matplotlib inline\n",
        "%load_ext autoreload\n",
        "%autoreload 2"
      ]
    },
    {
      "cell_type": "markdown",
      "metadata": {
        "colab_type": "text",
        "id": "jGJW4y7sCM7R"
      },
      "source": [
        "### Set up training data\n",
        "\n",
        "In the next cell, we set up the training data for this example. We'll be using 100 regularly spaced points on [0,1] which we evaluate the function on and add Gaussian noise to get the training labels."
      ]
    },
    {
      "cell_type": "code",
      "execution_count": 3,
      "metadata": {
        "colab": {},
        "colab_type": "code",
        "id": "jvktWT4cCM7S"
      },
      "outputs": [],
      "source": [
        "# Training data is 100 points in [0,1] inclusive regularly spaced\n",
        "train_x = torch.linspace(0, 1, 10)\n",
        "# True function is sin(2*pi*x) with Gaussian noise\n",
        "train_y = torch.sin(train_x * (2 * math.pi)) + torch.randn(train_x.size()) * math.sqrt(0.04)"
      ]
    },
    {
      "cell_type": "code",
      "execution_count": 4,
      "metadata": {
        "colab": {
          "base_uri": "https://localhost:8080/",
          "height": 265
        },
        "colab_type": "code",
        "id": "CVL7OOtDQq94",
        "outputId": "92f32261-5a36-477e-b251-bf7309bd50f4"
      },
      "outputs": [
        {
          "data": {
            "image/png": "[encoded data removed]",
            "text/plain": [
              "<Figure size 432x288 with 1 Axes>"
            ]
          },
          "metadata": {
            "needs_background": "light"
          },
          "output_type": "display_data"
        }
      ],
      "source": [
        "plt.plot(train_x.numpy(), train_y.numpy())\n",
        "plt.show()"
      ]
    },
    {
      "cell_type": "markdown",
      "metadata": {
        "colab_type": "text",
        "id": "SFl2jcoMCM7X"
      },
      "source": [
        "## Setting up the model\n",
        "\n",
        "The next cell demonstrates the most critical features of a user-defined Gaussian process model in GPyTorch. Building a GP model in GPyTorch is different in a number of ways.\n",
        "\n",
        "First in contrast to many existing GP packages, we do not provide full GP models for the user. Rather, we provide *the tools necessary to quickly construct one*. This is because we believe, analogous to building a neural network in standard PyTorch, it is important to have the flexibility to include whatever components are necessary. As can be seen in more complicated examples, this allows the user great flexibility in designing custom models.\n",
        "\n",
        "For most GP regression models, you will need to construct the following GPyTorch objects:\n",
        "\n",
        "1. A **GP Model** (`gpytorch.models.ExactGP`) -  This handles most of the inference.\n",
        "1. A **Likelihood** (`gpytorch.likelihoods.GaussianLikelihood`) - This is the most common likelihood used for GP regression.\n",
        "1. A **Mean** - This defines the prior mean of the GP.(If you don't know which mean to use, a `gpytorch.means.ConstantMean()` is a good place to start.)\n",
        "1. A **Kernel** - This defines the prior covariance of the GP.(If you don't know which kernel to use, a `gpytorch.kernels.ScaleKernel(gpytorch.kernels.RBFKernel())` is a good place to start).\n",
        "1. A **MultivariateNormal** Distribution (`gpytorch.distributions.MultivariateNormal`) - This is the object used to represent multivariate normal distributions.\n",
        "  \n",
        "  \n",
        "### The GP Model\n",
        "  \n",
        "The components of a user built (Exact, i.e. non-variational) GP model in GPyTorch are, broadly speaking:\n",
        "\n",
        "1. An `__init__` method that takes the training data and a likelihood, and constructs whatever objects are necessary for the model's `forward` method. This will most commonly include things like a mean module and a kernel module.\n",
        "\n",
        "2. A `forward` method that takes in some $n \\times d$ data `x` and returns a `MultivariateNormal` with the *prior* mean and covariance evaluated at `x`. In other words, we return the vector $\\mu(x)$ and the $n \\times n$ matrix $K_{xx}$ representing the prior mean and covariance matrix of the GP. \n",
        "\n",
        "This specification leaves a large amount of flexibility when defining a model. For example, to compose two kernels via addition, you can either add the kernel modules directly:\n",
        "\n",
        "```python\n",
        "self.covar_module = ScaleKernel(RBFKernel() + WhiteNoiseKernel())\n",
        "```\n",
        "\n",
        "Or you can add the outputs of the kernel in the forward method:\n",
        "\n",
        "```python\n",
        "covar_x = self.rbf_kernel_module(x) + self.white_noise_module(x)\n",
        "```"
      ]
    },
    {
      "cell_type": "code",
      "execution_count": 5,
      "metadata": {
        "colab": {},
        "colab_type": "code",
        "id": "gWqLQMrxCM7Y"
      },
      "outputs": [],
      "source": [
        "# We will use the simplest form of GP model, exact inference\n",
        "class ExactGPModel(gpytorch.models.ExactGP):\n",
        "    def __init__(self, train_x, train_y, likelihood):\n",
        "        super(ExactGPModel, self).__init__(train_x, train_y, likelihood)\n",
        "        self.mean_module = gpytorch.means.ConstantMean()\n",
        "        self.covar_module = gpytorch.kernels.ScaleKernel(gpytorch.kernels.RBFKernel())\n",
        "    \n",
        "    def forward(self, x):\n",
        "        mean_x = self.mean_module(x)\n",
        "        covar_x = self.covar_module(x)\n",
        "        return gpytorch.distributions.MultivariateNormal(mean_x, covar_x)\n",
        "\n",
        "# initialize likelihood and model\n",
        "likelihood = gpytorch.likelihoods.GaussianLikelihood()\n",
        "model = ExactGPModel(train_x, train_y, likelihood)"
      ]
    },
    {
      "cell_type": "markdown",
      "metadata": {
        "colab_type": "text",
        "id": "fGNzFkFgr95H"
      },
      "source": [
        "### Plot before optimizing the hyperparamters\n",
        "\n",
        "Let's take a look at the model parameters. More information is <a href=\"https://colab.research.google.com/github/jwangjie/gpytorch/blob/master/examples/00_Basic_Usage/Hyperparameters.ipynb\">here</a>."
      ]
    },
    {
      "cell_type": "code",
      "execution_count": 6,
      "metadata": {
        "colab": {
          "base_uri": "https://localhost:8080/",
          "height": 84
        },
        "colab_type": "code",
        "id": "Kk2WBgZere5m",
        "outputId": "ae1d5331-5cb5-4da7-854d-b536a73b871d"
      },
      "outputs": [
        {
          "data": {
            "text/plain": [
              "OrderedDict([('likelihood.noise_covar.raw_noise', tensor([0.])),\n",
              "             ('likelihood.noise_covar.raw_noise_constraint.lower_bound',\n",
              "              tensor(1.0000e-04)),\n",
              "             ('likelihood.noise_covar.raw_noise_constraint.upper_bound',\n",
              "              tensor(inf)),\n",
              "             ('mean_module.raw_constant', tensor(0.)),\n",
              "             ('covar_module.raw_outputscale', tensor(0.)),\n",
              "             ('covar_module.base_kernel.raw_lengthscale', tensor([[0.]])),\n",
              "             ('covar_module.base_kernel.raw_lengthscale_constraint.lower_bound',\n",
              "              tensor(0.)),\n",
              "             ('covar_module.base_kernel.raw_lengthscale_constraint.upper_bound',\n",
              "              tensor(inf)),\n",
              "             ('covar_module.raw_outputscale_constraint.lower_bound',\n",
              "              tensor(0.)),\n",
              "             ('covar_module.raw_outputscale_constraint.upper_bound',\n",
              "              tensor(inf))])"
            ]
          },
          "execution_count": 6,
          "metadata": {},
          "output_type": "execute_result"
        }
      ],
      "source": [
        "model.state_dict()"
      ]
    },
    {
      "cell_type": "markdown",
      "metadata": {
        "colab_type": "text",
        "id": "M5E_p1R8sNYI"
      },
      "source": [
        "Goes to run [Make predictions with the model](https://colab.research.google.com/github/jwangjie/gpytorch/blob/master/examples/01_Exact_GPs/Simple_GP_Regression.ipynb#scrollTo=S1gMlb1TCM7i), and then run `Plot the model fit`. "
      ]
    },
    {
      "cell_type": "code",
      "execution_count": 7,
      "metadata": {
        "colab": {
          "base_uri": "https://localhost:8080/",
          "height": 378
        },
        "colab_type": "code",
        "id": "7h-14WOcpdge",
        "outputId": "dbbe5d83-5bd7-44f1-ca1f-9dfd29241e87"
      },
      "outputs": [
        {
          "data": {
            "image/png": "[encoded data removed]",
            "text/plain": [
              "<Figure size 576x432 with 1 Axes>"
            ]
          },
          "metadata": {
            "needs_background": "light"
          },
          "output_type": "display_data"
        }
      ],
      "source": [
        "# Get into evaluation (predictive posterior) mode\n",
        "model.eval()\n",
        "likelihood.eval()\n",
        "\n",
        "# Test points are regularly spaced along [0,1]\n",
        "# Make predictions by feeding model through likelihood\n",
        "with torch.no_grad(), gpytorch.settings.fast_pred_var():\n",
        "    test_x = torch.linspace(0, 1, 51)\n",
        "    observed_pred = likelihood(model(test_x))\n",
        "\n",
        "with torch.no_grad():\n",
        "    # Initialize plot\n",
        "    f, ax = plt.subplots(1, 1, figsize=(8, 6))\n",
        "\n",
        "    # Get upper and lower confidence bounds\n",
        "    lower, upper = observed_pred.confidence_region()\n",
        "    # Plot training data as black stars\n",
        "    ax.plot(train_x.numpy(), train_y.numpy(), 'k*')\n",
        "    # Plot predictive means as blue line\n",
        "    ax.plot(test_x.numpy(), observed_pred.mean.numpy(), 'r')\n",
        "    # Shade between the lower and upper confidence bounds\n",
        "    ax.fill_between(test_x.numpy(), lower.numpy(), upper.numpy(), alpha=0.3)\n",
        "    ax.set_ylim([-3, 3])\n",
        "    ax.legend(['Observed Data', 'Mean', 'Confidence'])"
      ]
    },
    {
      "cell_type": "markdown",
      "metadata": {
        "colab_type": "text",
        "id": "bdnWsAh1CM7c"
      },
      "source": [
        "### Model modes\n",
        "\n",
        "Like most PyTorch modules, the `ExactGP` has a `.train()` and `.eval()` mode.\n",
        "- `.train()` mode is for optimizing model hyperameters.\n",
        "- `.eval()` mode is for computing predictions through the model posterior."
      ]
    },
    {
      "cell_type": "markdown",
      "metadata": {
        "colab_type": "text",
        "id": "FkClX5a7CM7d"
      },
      "source": [
        "## Training the model\n",
        "\n",
        "In the next cell, we handle using Type-II MLE to train the hyperparameters of the Gaussian process.\n",
        "\n",
        "The most obvious difference here compared to many other GP implementations is that, as in standard PyTorch, the core training loop is written by the user. In GPyTorch, we make use of the standard PyTorch optimizers as from `torch.optim`, and all trainable parameters of the model should be of type `torch.nn.Parameter`. Because GP models directly extend `torch.nn.Module`, calls to methods like `model.parameters()` or `model.named_parameters()` function as you might expect coming from PyTorch.\n",
        "\n",
        "In most cases, the boilerplate code below will work well. It has the same basic components as the standard PyTorch training loop:\n",
        "\n",
        "1. Zero all parameter gradients\n",
        "2. Call the model and compute the loss\n",
        "3. Call backward on the loss to fill in gradients\n",
        "4. Take a step on the optimizer\n",
        "\n",
        "However, defining custom training loops allows for greater flexibility. For example, it is easy to save the parameters at each step of training, or use different learning rates for different parameters (which may be useful in deep kernel learning for example)."
      ]
    },
    {
      "cell_type": "code",
      "execution_count": 8,
      "metadata": {
        "colab": {
          "base_uri": "https://localhost:8080/",
          "height": 857
        },
        "colab_type": "code",
        "id": "fY58dyAYCM7e",
        "outputId": "d512bf45-3911-47e1-e2ab-b4a8157395a3",
        "scrolled": false
      },
      "outputs": [
        {
          "name": "stdout",
          "output_type": "stream",
          "text": [
            "Iter 1/50 - Loss: 1.231   lengthscale: 0.693   noise: 0.693\n",
            "Iter 2/50 - Loss: 1.211   lengthscale: 0.644   noise: 0.644\n",
            "Iter 3/50 - Loss: 1.193   lengthscale: 0.598   noise: 0.598\n",
            "Iter 4/50 - Loss: 1.174   lengthscale: 0.554   noise: 0.555\n",
            "Iter 5/50 - Loss: 1.154   lengthscale: 0.513   noise: 0.514\n",
            "Iter 6/50 - Loss: 1.134   lengthscale: 0.473   noise: 0.475\n",
            "Iter 7/50 - Loss: 1.111   lengthscale: 0.436   noise: 0.439\n",
            "Iter 8/50 - Loss: 1.086   lengthscale: 0.401   noise: 0.406\n",
            "Iter 9/50 - Loss: 1.059   lengthscale: 0.369   noise: 0.374\n",
            "Iter 10/50 - Loss: 1.028   lengthscale: 0.338   noise: 0.344\n",
            "Iter 11/50 - Loss: 0.997   lengthscale: 0.309   noise: 0.316\n",
            "Iter 12/50 - Loss: 0.966   lengthscale: 0.282   noise: 0.290\n",
            "Iter 13/50 - Loss: 0.941   lengthscale: 0.258   noise: 0.265\n",
            "Iter 14/50 - Loss: 0.922   lengthscale: 0.236   noise: 0.242\n",
            "Iter 15/50 - Loss: 0.909   lengthscale: 0.218   noise: 0.220\n",
            "Iter 16/50 - Loss: 0.899   lengthscale: 0.203   noise: 0.200\n",
            "Iter 17/50 - Loss: 0.891   lengthscale: 0.193   noise: 0.182\n",
            "Iter 18/50 - Loss: 0.883   lengthscale: 0.187   noise: 0.166\n",
            "Iter 19/50 - Loss: 0.874   lengthscale: 0.184   noise: 0.151\n",
            "Iter 20/50 - Loss: 0.866   lengthscale: 0.184   noise: 0.138\n",
            "Iter 21/50 - Loss: 0.858   lengthscale: 0.186   noise: 0.126\n",
            "Iter 22/50 - Loss: 0.853   lengthscale: 0.190   noise: 0.116\n",
            "Iter 23/50 - Loss: 0.850   lengthscale: 0.195   noise: 0.107\n",
            "Iter 24/50 - Loss: 0.848   lengthscale: 0.202   noise: 0.099\n",
            "Iter 25/50 - Loss: 0.848   lengthscale: 0.208   noise: 0.092\n",
            "Iter 26/50 - Loss: 0.848   lengthscale: 0.215   noise: 0.087\n",
            "Iter 27/50 - Loss: 0.849   lengthscale: 0.221   noise: 0.083\n",
            "Iter 28/50 - Loss: 0.850   lengthscale: 0.226   noise: 0.080\n",
            "Iter 29/50 - Loss: 0.850   lengthscale: 0.229   noise: 0.077\n",
            "Iter 30/50 - Loss: 0.849   lengthscale: 0.231   noise: 0.076\n",
            "Iter 31/50 - Loss: 0.847   lengthscale: 0.231   noise: 0.075\n",
            "Iter 32/50 - Loss: 0.846   lengthscale: 0.231   noise: 0.075\n",
            "Iter 33/50 - Loss: 0.845   lengthscale: 0.230   noise: 0.076\n",
            "Iter 34/50 - Loss: 0.845   lengthscale: 0.229   noise: 0.077\n",
            "Iter 35/50 - Loss: 0.844   lengthscale: 0.229   noise: 0.078\n",
            "Iter 36/50 - Loss: 0.843   lengthscale: 0.230   noise: 0.080\n",
            "Iter 37/50 - Loss: 0.842   lengthscale: 0.231   noise: 0.083\n",
            "Iter 38/50 - Loss: 0.841   lengthscale: 0.233   noise: 0.085\n",
            "Iter 39/50 - Loss: 0.840   lengthscale: 0.236   noise: 0.088\n",
            "Iter 40/50 - Loss: 0.839   lengthscale: 0.239   noise: 0.091\n",
            "Iter 41/50 - Loss: 0.838   lengthscale: 0.242   noise: 0.094\n",
            "Iter 42/50 - Loss: 0.838   lengthscale: 0.244   noise: 0.096\n",
            "Iter 43/50 - Loss: 0.838   lengthscale: 0.245   noise: 0.099\n",
            "Iter 44/50 - Loss: 0.838   lengthscale: 0.245   noise: 0.102\n",
            "Iter 45/50 - Loss: 0.838   lengthscale: 0.244   noise: 0.104\n",
            "Iter 46/50 - Loss: 0.838   lengthscale: 0.242   noise: 0.105\n",
            "Iter 47/50 - Loss: 0.838   lengthscale: 0.239   noise: 0.107\n",
            "Iter 48/50 - Loss: 0.837   lengthscale: 0.236   noise: 0.108\n",
            "Iter 49/50 - Loss: 0.837   lengthscale: 0.233   noise: 0.109\n",
            "Iter 50/50 - Loss: 0.837   lengthscale: 0.230   noise: 0.109\n"
          ]
        }
      ],
      "source": [
        "# this is for running the notebook in our testing framework\n",
        "import os\n",
        "smoke_test = ('CI' in os.environ)\n",
        "training_iter = 2 if smoke_test else 50\n",
        "\n",
        "\n",
        "# Find optimal model hyperparameters\n",
        "model.train()\n",
        "likelihood.train()\n",
        "\n",
        "# Use the adam optimizer\n",
        "optimizer = torch.optim.Adam([\n",
        "    {'params': model.parameters()},  # Includes GaussianLikelihood parameters\n",
        "], lr=0.1)\n",
        "\n",
        "# \"Loss\" for GPs - the marginal log likelihood\n",
        "mll = gpytorch.mlls.ExactMarginalLogLikelihood(likelihood, model)\n",
        "\n",
        "for i in range(training_iter):\n",
        "    # Zero gradients from previous iteration\n",
        "    optimizer.zero_grad()\n",
        "    # Output from model\n",
        "    output = model(train_x)\n",
        "    # Calc loss and backprop gradients\n",
        "    loss = -mll(output, train_y)\n",
        "    loss.backward()\n",
        "    print('Iter %d/%d - Loss: %.3f   lengthscale: %.3f   noise: %.3f' % (\n",
        "        i + 1, training_iter, loss.item(),\n",
        "        model.covar_module.base_kernel.lengthscale.item(),\n",
        "        model.likelihood.noise.item()\n",
        "    ))\n",
        "    optimizer.step()"
      ]
    },
    {
      "cell_type": "code",
      "execution_count": 9,
      "metadata": {
        "colab": {
          "base_uri": "https://localhost:8080/",
          "height": 101
        },
        "colab_type": "code",
        "id": "RiDmqGItrRyz",
        "outputId": "8eab6948-103f-4504-feda-95eea87f0649"
      },
      "outputs": [
        {
          "data": {
            "text/plain": [
              "OrderedDict([('likelihood.noise_covar.raw_noise', tensor([-2.1645])),\n",
              "             ('likelihood.noise_covar.raw_noise_constraint.lower_bound',\n",
              "              tensor(1.0000e-04)),\n",
              "             ('likelihood.noise_covar.raw_noise_constraint.upper_bound',\n",
              "              tensor(inf)),\n",
              "             ('mean_module.raw_constant', tensor(0.1069)),\n",
              "             ('covar_module.raw_outputscale', tensor(-0.0999)),\n",
              "             ('covar_module.base_kernel.raw_lengthscale', tensor([[-1.3631]])),\n",
              "             ('covar_module.base_kernel.raw_lengthscale_constraint.lower_bound',\n",
              "              tensor(0.)),\n",
              "             ('covar_module.base_kernel.raw_lengthscale_constraint.upper_bound',\n",
              "              tensor(inf)),\n",
              "             ('covar_module.raw_outputscale_constraint.lower_bound',\n",
              "              tensor(0.)),\n",
              "             ('covar_module.raw_outputscale_constraint.upper_bound',\n",
              "              tensor(inf))])"
            ]
          },
          "execution_count": 9,
          "metadata": {},
          "output_type": "execute_result"
        }
      ],
      "source": [
        "model.state_dict()"
      ]
    },
    {
      "cell_type": "markdown",
      "metadata": {
        "colab_type": "text",
        "id": "S1gMlb1TCM7i"
      },
      "source": [
        "## Make predictions with the model\n",
        "\n",
        "In the next cell, we make predictions with the model. To do this, we simply put the model and likelihood in eval mode, and call both modules on the test data.\n",
        "\n",
        "Just as a user defined GP model returns a `MultivariateNormal` containing the prior mean and covariance from forward, a trained GP model in eval mode returns a `MultivariateNormal` containing the posterior mean and covariance. Thus, getting the predictive mean and variance, and then sampling functions from the GP at the given test points could be accomplished with calls like:\n",
        "\n",
        "```python\n",
        "f_preds = model(test_x)\n",
        "y_preds = likelihood(model(test_x))\n",
        "\n",
        "f_mean = f_preds.mean\n",
        "f_var = f_preds.variance\n",
        "f_covar = f_preds.covariance_matrix\n",
        "f_samples = f_preds.sample(sample_shape=torch.Size(1000,))\n",
        "```\n",
        "\n",
        "The `gpytorch.settings.fast_pred_var` context is not needed, but here we are giving a preview of using one of our cool features, getting faster predictive distributions using [LOVE](https://arxiv.org/abs/1803.06058)."
      ]
    },
    {
      "cell_type": "code",
      "execution_count": 16,
      "metadata": {
        "colab": {},
        "colab_type": "code",
        "id": "m-uGslvNCM7j"
      },
      "outputs": [],
      "source": [
        "# Get into evaluation (predictive posterior) mode\n",
        "model.eval()\n",
        "likelihood.eval()\n",
        "\n",
        "# Test points are regularly spaced along [0,1]\n",
        "# Make predictions by feeding model through likelihood\n",
        "with torch.no_grad(), gpytorch.settings.fast_pred_var():\n",
        "    test_x = torch.linspace(0, 1, 20)\n",
        "    observed_pred = likelihood(model(test_x))"
      ]
    },
    {
      "cell_type": "markdown",
      "metadata": {
        "colab_type": "text",
        "id": "yaRD80ENCM7m"
      },
      "source": [
        "## Plot the model fit\n",
        "\n",
        "In the next cell, we plot the mean and confidence region of the Gaussian process model. The `confidence_region` method is a helper method that returns 2 standard deviations above and below the mean."
      ]
    },
    {
      "cell_type": "code",
      "execution_count": 17,
      "metadata": {
        "colab": {
          "base_uri": "https://localhost:8080/",
          "height": 378
        },
        "colab_type": "code",
        "id": "aC29j3yLCM7n",
        "outputId": "bba21f81-310f-4f9a-b081-8a3d0e67e318",
        "scrolled": false
      },
      "outputs": [
        {
          "data": {
            "image/png": "[encoded data removed]",
            "text/plain": [
              "<Figure size 576x432 with 1 Axes>"
            ]
          },
          "metadata": {
            "needs_background": "light"
          },
          "output_type": "display_data"
        }
      ],
      "source": [
        "with torch.no_grad():\n",
        "    # Initialize plot\n",
        "    f, ax = plt.subplots(1, 1, figsize=(8, 6))\n",
        "\n",
        "    # Get upper and lower confidence bounds\n",
        "    lower, upper = observed_pred.confidence_region()\n",
        "    # Plot training data as black stars\n",
        "    ax.plot(train_x.numpy(), train_y.numpy(), 'k*')\n",
        "    # Plot predictive means as blue line\n",
        "    ax.plot(test_x.numpy(), observed_pred.mean.numpy(), 'r')\n",
        "    # Shade between the lower and upper confidence bounds\n",
        "    ax.fill_between(test_x.numpy(), lower.numpy(), upper.numpy(), alpha=0.3)\n",
        "    ax.set_ylim([-3, 3])\n",
        "    ax.legend(['Observed Data', 'Mean', 'Confidence'])"
      ]
    },
    {
      "cell_type": "code",
      "execution_count": null,
      "metadata": {
        "colab": {},
        "colab_type": "code",
        "id": "_8GvDdbbCM7t"
      },
      "outputs": [],
      "source": []
    }
  ],
  "metadata": {
    "anaconda-cloud": {},
    "colab": {
      "name": "Simple_GP_Regression.ipynb",
      "provenance": []
    },
    "kernelspec": {
      "display_name": "Python 3.10.6 ('.venv': venv)",
      "language": "python",
      "name": "python3"
    },
    "language_info": {
      "codemirror_mode": {
        "name": "ipython",
        "version": 3
      },
      "file_extension": ".py",
      "mimetype": "text/x-python",
      "name": "python",
      "nbconvert_exporter": "python",
      "pygments_lexer": "ipython3",
      "version": "3.10.6"
    },
    "vscode": {
      "interpreter": {
        "hash": "5fb51cf9843d757cbdb9ebc1600be2b33177e72e1f32e29032a1fa1cdd2d3bec"
      }
    }
  },
  "nbformat": 4,
  "nbformat_minor": 0
}
