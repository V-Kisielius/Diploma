{
 "cells": [
  {
   "cell_type": "code",
   "execution_count": 178,
   "metadata": {},
   "outputs": [
    {
     "name": "stdout",
     "output_type": "stream",
     "text": [
      "cuda:0\n"
     ]
    }
   ],
   "source": [
    "import numpy as np\n",
    "import torch\n",
    "import torch.nn as nn\n",
    "import os\n",
    "\n",
    "from PIL import Image, ImageOps\n",
    "from IPython.display import clear_output\n",
    "import matplotlib.pyplot as plt\n",
    "%matplotlib inline\n",
    "\n",
    "from make_gif_from_folder import make_gif\n",
    "\n",
    "\n",
    "device = torch.device(\"cuda:0\" if torch.cuda.is_available() else \"cpu\")\n",
    "\n",
    "torch.cuda.set_device(0)\n",
    "print(device)\n",
    "\n"
   ]
  },
  {
   "cell_type": "code",
   "execution_count": 180,
   "metadata": {},
   "outputs": [],
   "source": [
    "class Net(nn.Module):\n",
    "    def __init__(self, lr, img_path):\n",
    "        super(Net, self).__init__()\n",
    "\n",
    "        self.net = nn.Sequential(\n",
    "            nn.Linear(2, 4), nn.ELU(),\n",
    "            nn.Linear(4, 8), nn.ELU(),\n",
    "            nn.Linear(8, 16), nn.ELU(),\n",
    "            nn.Linear(16, 32), nn.ELU(),\n",
    "            # nn.Linear(32, 64), nn.ELU(),\n",
    "            # nn.Linear(64, 128), nn.ELU(),\n",
    "            # nn.Linear(128, 128), nn.ELU(),\n",
    "            # nn.Linear(128, 128), nn.ELU(),\n",
    "            # nn.Linear(128, 128), nn.ELU(),\n",
    "            # nn.Linear(128, 128), nn.ELU(),\n",
    "            # nn.Linear(128, 128), nn.ELU(),\n",
    "            # nn.Linear(128, 128), nn.ELU(),\n",
    "            # nn.Linear(128, 64), nn.ELU(),\n",
    "            # nn.Linear(64, 32), nn.ELU(),\n",
    "            # nn.Linear(32, 16), nn.ELU(),\n",
    "            # nn.Linear(16, 8), nn.ELU(),\n",
    "            nn.Linear(32, 1), nn.Tanh())\n",
    "        \n",
    "        self.lr = lr\n",
    "        self.img_path = img_path\n",
    "        \n",
    "    def forward(self, x):\n",
    "        #x = x.cuda()\n",
    "        output = self.net(x)\n",
    "        return output\n"
   ]
  },
  {
   "cell_type": "code",
   "execution_count": 181,
   "metadata": {},
   "outputs": [],
   "source": [
    "def get_grayscale_image_arr(path):\n",
    "    im = ImageOps.grayscale(Image.open(path))\n",
    "    image_array = np.array(im).astype(int)\n",
    "    return image_array\n"
   ]
  },
  {
   "cell_type": "code",
   "execution_count": 182,
   "metadata": {},
   "outputs": [
    {
     "data": {
      "text/plain": [
       "Net(\n",
       "  (net): Sequential(\n",
       "    (0): Linear(in_features=2, out_features=4, bias=True)\n",
       "    (1): ELU(alpha=1.0)\n",
       "    (2): Linear(in_features=4, out_features=8, bias=True)\n",
       "    (3): ELU(alpha=1.0)\n",
       "    (4): Linear(in_features=8, out_features=16, bias=True)\n",
       "    (5): ELU(alpha=1.0)\n",
       "    (6): Linear(in_features=16, out_features=32, bias=True)\n",
       "    (7): ELU(alpha=1.0)\n",
       "    (8): Linear(in_features=32, out_features=1, bias=True)\n",
       "    (9): Tanh()\n",
       "  )\n",
       ")"
      ]
     },
     "execution_count": 182,
     "metadata": {},
     "output_type": "execute_result"
    }
   ],
   "source": [
    "model = Net(lr=1e-3, img_path='./imgs/x.bmp')\n",
    "model.to(device)\n",
    "model"
   ]
  },
  {
   "cell_type": "code",
   "execution_count": 183,
   "metadata": {},
   "outputs": [
    {
     "name": "stdout",
     "output_type": "stream",
     "text": [
      "Total pixels: 45720, bound length: 3110, percent of bound pixels: 6.802274715660542%\n"
     ]
    }
   ],
   "source": [
    "img_arr = get_grayscale_image_arr(model.img_path)\n",
    "width, height = img_arr.shape\n",
    "pix_num = width * height\n",
    "bound_length = len(np.where(img_arr < 255)[0])\n",
    "print(f'Total pixels: {pix_num}, bound length: {bound_length}, percent of bound pixels: {100 * bound_length / pix_num}%')"
   ]
  },
  {
   "cell_type": "code",
   "execution_count": 184,
   "metadata": {},
   "outputs": [],
   "source": [
    "optimizer = torch.optim.Adam(model.parameters(), lr=model.lr, weight_decay=1e-3)\n",
    "#scheduler = torch.optim.lr_scheduler.ReduceLROnPlateau(optimizer, mode='min', verbose=True, patience=100)"
   ]
  },
  {
   "cell_type": "code",
   "execution_count": 185,
   "metadata": {},
   "outputs": [],
   "source": [
    "def loss_fn(y, data, epoch):\n",
    "    mask = np.where(img_arr == 255)\n",
    "    bound_mask = np.where(img_arr < 255)\n",
    "    \n",
    "    first_integral = 1 - (y[mask].abs()).sum() / (pix_num - bound_length) # хочу НЕ границу +-1\n",
    "    #d_bound = (data.grad[d_bound_mask, :].abs() / data.grad[d_bound_mask, :].max()).sum() / len(data.grad[d_bound_mask, :]) if epoch else 0\n",
    "    #d_bound = ((data.grad[d_bound_mask, :] / data.grad[d_bound_mask, :].max()) / len(data.grad[d_bound_mask, :])).sum() if epoch else 0\n",
    "    #if epoch > 1000:\n",
    "    # boundgrad = data.grad[np.where(img_arr.reshape(-1, 1) < 255), :]\n",
    "    # boundgrad = 1. / boundgrad.view(-1, 1).abs().sum() \n",
    "    # outgrad = data.grad[np.where(img_arr.reshape(-1, 1) == 255), :]\n",
    "    # outgrad = outgrad.view(-1, 1).abs().sum() / (len(outgrad.view(-1, 1)))\n",
    "    # else:\n",
    "    #     mygrad = 0\n",
    "    second_integral = y.sum().abs() / pix_num #if epoch < 5000 else 0\n",
    "    bound_intgegral = (y[bound_mask] ** 2).sum() / bound_length # хочу на границе 0\n",
    "\n",
    "    \n",
    "    return bound_intgegral + first_integral #+ 1e-1*second_integral# + boundgrad + outgrad #second_integral #+ mygrad \n"
   ]
  },
  {
   "cell_type": "code",
   "execution_count": 186,
   "metadata": {},
   "outputs": [],
   "source": [
    "def train_model(model, num_epochs):\n",
    "    loss_trace = []\n",
    "\n",
    "    batch = torch.tensor(np.array(np.stack(np.indices((width, height)), axis=2)).reshape(-1,2), device=device).float()\n",
    "    batch[:, 0] -= batch[:, 0].mean()\n",
    "    batch[:, 0] /= batch[:, 0].max()\n",
    "    batch[:, 1] -= batch[:, 1].mean()\n",
    "    batch[:, 1] /= batch[:, 1].max()\n",
    "    #permutation = torch.randperm(batch.size()[0])\n",
    "    #batch = batch[permutation]\n",
    "    #batch.requires_grad_()\n",
    "    \n",
    "    dir_path = 'epoch_outs'\n",
    "    if not os.path.exists(dir_path):\n",
    "        os.mkdir(dir_path)\n",
    "\n",
    "    for epoch in range(num_epochs):\n",
    "        y_pred = model(batch)\n",
    "        #y_pred.sum().backward(retain_graph=True)\n",
    "        y_pred = y_pred.view((width, height))\n",
    "        \n",
    "        optimizer.zero_grad() \n",
    "        \n",
    "        loss = loss_fn(y_pred, batch, epoch)#, permutation) \n",
    "        loss_trace.append(loss.item())\n",
    "        loss.backward()\n",
    "         \n",
    "        optimizer.step() \n",
    "        #scheduler.step(loss)\n",
    "        \n",
    "        if (epoch + 1) % 100 == 0:\n",
    "            clear_output(wait=True)\n",
    "            plt.figure(figsize=(10, 5))\n",
    "            plt.subplot(1, 2, 1)\n",
    "            plt.xlabel('Epoch')\n",
    "            plt.ylabel('Loss')\n",
    "            #plt.ylim((0, 1))\n",
    "            plt.plot(loss_trace)\n",
    "            plt.subplot(1, 2, 2)\n",
    "            plt.imshow(y_pred.cpu().detach().numpy(), cmap='gray', vmin=-1, vmax=1)\n",
    "            plt.title(f'Epoch {epoch + 1}')\n",
    "            plt.savefig(dir_path + '/epoch%06d.png' % (epoch + 1))\n",
    "            plt.show()\n",
    "            \n",
    "    return y_pred"
   ]
  },
  {
   "cell_type": "code",
   "execution_count": 187,
   "metadata": {},
   "outputs": [],
   "source": [
    "# for g in optimizer.param_groups:\n",
    "#     g['lr'] = 1e-4"
   ]
  },
  {
   "cell_type": "code",
   "execution_count": 188,
   "metadata": {},
   "outputs": [
    {
     "data": {
      "image/png": "[encoded data removed]",
      "text/plain": [
       "<Figure size 720x360 with 2 Axes>"
      ]
     },
     "metadata": {
      "needs_background": "light"
     },
     "output_type": "display_data"
    },
    {
     "ename": "KeyboardInterrupt",
     "evalue": "",
     "output_type": "error",
     "traceback": [
      "\u001b[1;31m---------------------------------------------------------------------------\u001b[0m",
      "\u001b[1;31mKeyboardInterrupt\u001b[0m                         Traceback (most recent call last)",
      "\u001b[1;32m~\\AppData\\Local\\Temp/ipykernel_8472/176237061.py\u001b[0m in \u001b[0;36m<module>\u001b[1;34m\u001b[0m\n\u001b[0;32m      1\u001b[0m \u001b[1;31m# import os\u001b[0m\u001b[1;33m\u001b[0m\u001b[1;33m\u001b[0m\u001b[0m\n\u001b[0;32m      2\u001b[0m \u001b[1;31m# os.environ['CUDA_LAUNCH_BLOCKING'] = '1'\u001b[0m\u001b[1;33m\u001b[0m\u001b[1;33m\u001b[0m\u001b[0m\n\u001b[1;32m----> 3\u001b[1;33m \u001b[0my_pred\u001b[0m \u001b[1;33m=\u001b[0m \u001b[0mtrain_model\u001b[0m\u001b[1;33m(\u001b[0m\u001b[0mmodel\u001b[0m\u001b[1;33m=\u001b[0m\u001b[0mmodel\u001b[0m\u001b[1;33m,\u001b[0m \u001b[0mnum_epochs\u001b[0m\u001b[1;33m=\u001b[0m\u001b[1;36m100000\u001b[0m\u001b[1;33m)\u001b[0m\u001b[1;33m\u001b[0m\u001b[1;33m\u001b[0m\u001b[0m\n\u001b[0m",
      "\u001b[1;32m~\\AppData\\Local\\Temp/ipykernel_8472/2945866544.py\u001b[0m in \u001b[0;36mtrain_model\u001b[1;34m(model, num_epochs)\u001b[0m\n\u001b[0;32m     22\u001b[0m         \u001b[0moptimizer\u001b[0m\u001b[1;33m.\u001b[0m\u001b[0mzero_grad\u001b[0m\u001b[1;33m(\u001b[0m\u001b[1;33m)\u001b[0m\u001b[1;33m\u001b[0m\u001b[1;33m\u001b[0m\u001b[0m\n\u001b[0;32m     23\u001b[0m \u001b[1;33m\u001b[0m\u001b[0m\n\u001b[1;32m---> 24\u001b[1;33m         \u001b[0mloss\u001b[0m \u001b[1;33m=\u001b[0m \u001b[0mloss_fn\u001b[0m\u001b[1;33m(\u001b[0m\u001b[0my_pred\u001b[0m\u001b[1;33m,\u001b[0m \u001b[0mbatch\u001b[0m\u001b[1;33m,\u001b[0m \u001b[0mepoch\u001b[0m\u001b[1;33m)\u001b[0m\u001b[1;31m#, permutation)\u001b[0m\u001b[1;33m\u001b[0m\u001b[1;33m\u001b[0m\u001b[0m\n\u001b[0m\u001b[0;32m     25\u001b[0m         \u001b[0mloss_trace\u001b[0m\u001b[1;33m.\u001b[0m\u001b[0mappend\u001b[0m\u001b[1;33m(\u001b[0m\u001b[0mloss\u001b[0m\u001b[1;33m.\u001b[0m\u001b[0mitem\u001b[0m\u001b[1;33m(\u001b[0m\u001b[1;33m)\u001b[0m\u001b[1;33m)\u001b[0m\u001b[1;33m\u001b[0m\u001b[1;33m\u001b[0m\u001b[0m\n\u001b[0;32m     26\u001b[0m         \u001b[0mloss\u001b[0m\u001b[1;33m.\u001b[0m\u001b[0mbackward\u001b[0m\u001b[1;33m(\u001b[0m\u001b[1;33m)\u001b[0m\u001b[1;33m\u001b[0m\u001b[1;33m\u001b[0m\u001b[0m\n",
      "\u001b[1;32m~\\AppData\\Local\\Temp/ipykernel_8472/2580210013.py\u001b[0m in \u001b[0;36mloss_fn\u001b[1;34m(y, data, epoch)\u001b[0m\n\u001b[0;32m      1\u001b[0m \u001b[1;32mdef\u001b[0m \u001b[0mloss_fn\u001b[0m\u001b[1;33m(\u001b[0m\u001b[0my\u001b[0m\u001b[1;33m,\u001b[0m \u001b[0mdata\u001b[0m\u001b[1;33m,\u001b[0m \u001b[0mepoch\u001b[0m\u001b[1;33m)\u001b[0m\u001b[1;33m:\u001b[0m\u001b[1;33m\u001b[0m\u001b[1;33m\u001b[0m\u001b[0m\n\u001b[1;32m----> 2\u001b[1;33m     \u001b[0mmask\u001b[0m \u001b[1;33m=\u001b[0m \u001b[0mnp\u001b[0m\u001b[1;33m.\u001b[0m\u001b[0mwhere\u001b[0m\u001b[1;33m(\u001b[0m\u001b[0mimg_arr\u001b[0m \u001b[1;33m==\u001b[0m \u001b[1;36m255\u001b[0m\u001b[1;33m)\u001b[0m\u001b[1;33m\u001b[0m\u001b[1;33m\u001b[0m\u001b[0m\n\u001b[0m\u001b[0;32m      3\u001b[0m     \u001b[0mbound_mask\u001b[0m \u001b[1;33m=\u001b[0m \u001b[0mnp\u001b[0m\u001b[1;33m.\u001b[0m\u001b[0mwhere\u001b[0m\u001b[1;33m(\u001b[0m\u001b[0mimg_arr\u001b[0m \u001b[1;33m<\u001b[0m \u001b[1;36m255\u001b[0m\u001b[1;33m)\u001b[0m\u001b[1;33m\u001b[0m\u001b[1;33m\u001b[0m\u001b[0m\n\u001b[0;32m      4\u001b[0m \u001b[1;33m\u001b[0m\u001b[0m\n\u001b[0;32m      5\u001b[0m     \u001b[0mfirst_integral\u001b[0m \u001b[1;33m=\u001b[0m \u001b[1;36m1\u001b[0m \u001b[1;33m-\u001b[0m \u001b[1;33m(\u001b[0m\u001b[0my\u001b[0m\u001b[1;33m[\u001b[0m\u001b[0mmask\u001b[0m\u001b[1;33m]\u001b[0m\u001b[1;33m.\u001b[0m\u001b[0mabs\u001b[0m\u001b[1;33m(\u001b[0m\u001b[1;33m)\u001b[0m\u001b[1;33m)\u001b[0m\u001b[1;33m.\u001b[0m\u001b[0msum\u001b[0m\u001b[1;33m(\u001b[0m\u001b[1;33m)\u001b[0m \u001b[1;33m/\u001b[0m \u001b[1;33m(\u001b[0m\u001b[0mpix_num\u001b[0m \u001b[1;33m-\u001b[0m \u001b[0mbound_length\u001b[0m\u001b[1;33m)\u001b[0m \u001b[1;31m# хочу НЕ границу +-1\u001b[0m\u001b[1;33m\u001b[0m\u001b[1;33m\u001b[0m\u001b[0m\n",
      "\u001b[1;32m<__array_function__ internals>\u001b[0m in \u001b[0;36mwhere\u001b[1;34m(*args, **kwargs)\u001b[0m\n",
      "\u001b[1;31mKeyboardInterrupt\u001b[0m: "
     ]
    }
   ],
   "source": [
    "# import os\n",
    "# os.environ['CUDA_LAUNCH_BLOCKING'] = '1'\n",
    "y_pred = train_model(model=model, num_epochs=100000)"
   ]
  },
  {
   "cell_type": "code",
   "execution_count": 90,
   "metadata": {},
   "outputs": [],
   "source": [
    "make_gif(dir_path='./epoch_outs', gifname='6_test')"
   ]
  },
  {
   "cell_type": "code",
   "execution_count": 11,
   "metadata": {},
   "outputs": [
    {
     "data": {
      "text/plain": [
       "tensor([[-1.0000, -1.0000],\n",
       "        [-1.0000, -0.9747],\n",
       "        [-1.0000, -0.9494],\n",
       "        ...,\n",
       "        [ 1.0000,  0.9494],\n",
       "        [ 1.0000,  0.9747],\n",
       "        [ 1.0000,  1.0000]], device='cuda:0', requires_grad=True)"
      ]
     },
     "execution_count": 11,
     "metadata": {},
     "output_type": "execute_result"
    }
   ],
   "source": [
    "batch = torch.tensor(np.array(np.stack(np.indices((width, height)), axis=2)).reshape(-1,2), device=device).float()\n",
    "batch[:, 0] -= batch[:, 0].mean()\n",
    "batch[:, 0] /= batch[:, 0].max()\n",
    "batch[:, 1] -= batch[:, 1].mean()\n",
    "batch[:, 1] /= batch[:, 1].max()\n",
    "batch.requires_grad_()"
   ]
  },
  {
   "cell_type": "code",
   "execution_count": 12,
   "metadata": {},
   "outputs": [],
   "source": [
    "y_pred = model(batch)\n",
    "y_pred = y_pred.view((width, height))"
   ]
  },
  {
   "cell_type": "code",
   "execution_count": 13,
   "metadata": {},
   "outputs": [],
   "source": [
    "a = loss_fn(y_pred, batch, 0)"
   ]
  },
  {
   "cell_type": "code",
   "execution_count": 14,
   "metadata": {},
   "outputs": [],
   "source": [
    "a.backward()"
   ]
  },
  {
   "cell_type": "code",
   "execution_count": 15,
   "metadata": {},
   "outputs": [],
   "source": [
    "mask = np.where(img_arr == 255)\n",
    "bound_mask = np.where(img_arr < 255)\n",
    "d_bound_mask = np.where(img_arr.reshape(-1, 1) == 255)"
   ]
  },
  {
   "cell_type": "code",
   "execution_count": 17,
   "metadata": {},
   "outputs": [
    {
     "data": {
      "text/plain": [
       "tensor(1.2670, device='cuda:0')"
      ]
     },
     "execution_count": 17,
     "metadata": {},
     "output_type": "execute_result"
    }
   ],
   "source": [
    "batch.grad[d_bound_mask, :].abs().sum()"
   ]
  },
  {
   "cell_type": "code",
   "execution_count": 84,
   "metadata": {},
   "outputs": [],
   "source": [
    "batch = torch.tensor(np.array(np.stack(np.indices((width, height)), axis=2)).reshape(-1,2), device=device).float()\n",
    "batch[:, 0] -= batch[:, 0].mean()\n",
    "batch[:, 0] /= batch[:, 0].max()\n",
    "batch[:, 1] -= batch[:, 1].mean()\n",
    "batch[:, 1] /= batch[:, 1].max()"
   ]
  },
  {
   "cell_type": "code",
   "execution_count": 65,
   "metadata": {},
   "outputs": [],
   "source": [
    "import random"
   ]
  },
  {
   "cell_type": "code",
   "execution_count": 76,
   "metadata": {},
   "outputs": [],
   "source": [
    "random.shuffle(batch)"
   ]
  },
  {
   "cell_type": "code",
   "execution_count": 80,
   "metadata": {},
   "outputs": [
    {
     "data": {
      "text/plain": [
       "tensor([-1.0000, -1.0000], device='cuda:0')"
      ]
     },
     "execution_count": 80,
     "metadata": {},
     "output_type": "execute_result"
    }
   ],
   "source": [
    "batch[1]"
   ]
  },
  {
   "cell_type": "code",
   "execution_count": 86,
   "metadata": {},
   "outputs": [
    {
     "data": {
      "text/plain": [
       "tensor([[ 0.1955,  0.4071],\n",
       "        [ 0.4637,  0.3597],\n",
       "        [ 0.3408, -0.7154],\n",
       "        ...,\n",
       "        [-0.5419, -0.6522],\n",
       "        [-0.5866, -0.9605],\n",
       "        [ 0.3296,  0.2253]], device='cuda:0')"
      ]
     },
     "execution_count": 86,
     "metadata": {},
     "output_type": "execute_result"
    }
   ],
   "source": [
    "batch[torch.randperm(batch.size()[0]), :]"
   ]
  },
  {
   "cell_type": "code",
   "execution_count": 140,
   "metadata": {},
   "outputs": [],
   "source": [
    "batch = torch.tensor(np.array(np.stack(np.indices((width, height)), axis=2)).reshape(-1,2), device=device).float()\n",
    "batch[:, 0] -= batch[:, 0].mean()\n",
    "batch[:, 0] /= batch[:, 0].max()\n",
    "batch[:, 1] -= batch[:, 1].mean()\n",
    "batch[:, 1] /= batch[:, 1].max()\n",
    "batch = batch[torch.randperm(batch.size()[0])]"
   ]
  },
  {
   "cell_type": "code",
   "execution_count": 141,
   "metadata": {},
   "outputs": [
    {
     "data": {
      "text/plain": [
       "torch.Size([45720, 2])"
      ]
     },
     "execution_count": 141,
     "metadata": {},
     "output_type": "execute_result"
    }
   ],
   "source": [
    "batch.size()"
   ]
  },
  {
   "cell_type": "code",
   "execution_count": null,
   "metadata": {},
   "outputs": [],
   "source": []
  }
 ],
 "metadata": {
  "kernelspec": {
   "display_name": "Python 3.9.7 ('base')",
   "language": "python",
   "name": "python3"
  },
  "language_info": {
   "codemirror_mode": {
    "name": "ipython",
    "version": 3
   },
   "file_extension": ".py",
   "mimetype": "text/x-python",
   "name": "python",
   "nbconvert_exporter": "python",
   "pygments_lexer": "ipython3",
   "version": "3.9.7"
  },
  "orig_nbformat": 4,
  "vscode": {
   "interpreter": {
    "hash": "6f5583cf1d9466b5c27e75c89cc6b383bed5736d6b16c51c8074d8690011a952"
   }
  }
 },
 "nbformat": 4,
 "nbformat_minor": 2
}
