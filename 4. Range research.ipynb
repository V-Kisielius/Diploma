{
 "cells": [
  {
   "attachments": {},
   "cell_type": "markdown",
   "metadata": {},
   "source": [
    "# Imports"
   ]
  },
  {
   "cell_type": "code",
   "execution_count": 4,
   "metadata": {},
   "outputs": [],
   "source": [
    "from dataset import MyData\n",
    "from model import Net\n",
    "from config import device\n",
    "\n",
    "import torch\n",
    "import numpy as np\n",
    "import matplotlib.pyplot as plt\n",
    "from ipywidgets import interact"
   ]
  },
  {
   "attachments": {},
   "cell_type": "markdown",
   "metadata": {},
   "source": [
    "### Research of range of $f(x,y,z)$\n"
   ]
  },
  {
   "cell_type": "code",
   "execution_count": 8,
   "metadata": {},
   "outputs": [],
   "source": [
    "def make_data(mode_3d, radius):\n",
    "    x, y = torch.from_numpy(np.stack(np.indices((200, 400)), axis=2).reshape(-1, 2)).float().T\n",
    "    x -= x.mean()\n",
    "    x /= x.abs().max()\n",
    "    y -= y.mean()\n",
    "    y /= y.abs().max()\n",
    "    match mode_3d:\n",
    "        case 'sphere':\n",
    "            z = x\n",
    "            x = torch.cos(torch.pi * y) * (1 - z.pow(2)).pow(0.5)\n",
    "            y = torch.sin(torch.pi * y) * (1 - z.pow(2)).pow(0.5)\n",
    "            data_3d = radius * torch.stack((x, y, z), dim=1)\n",
    "        case 'cylinder':\n",
    "            z = x\n",
    "            x = torch.cos(torch.pi * y)\n",
    "            y = torch.sin(torch.pi * y)\n",
    "            data_3d = radius * torch.stack((x, y, z), dim=1)\n",
    "        case _:\n",
    "            print('Incorrect mode\\n')\n",
    "            raise SystemError(f'Incorrect mode: {mode_3d}\\n')\n",
    "    return data_3d"
   ]
  },
  {
   "cell_type": "code",
   "execution_count": 9,
   "metadata": {},
   "outputs": [
    {
     "data": {
      "text/plain": [
       "<All keys matched successfully>"
      ]
     },
     "execution_count": 9,
     "metadata": {},
     "output_type": "execute_result"
    }
   ],
   "source": [
    "dataset1 = MyData(path_to_file='../imgs/2.png', mode='img', mode_3d='cylinder', radius=5, reduce_fctor=1, need_help=False)\n",
    "dataset_list = [dataset1]\n",
    "model = Net(dataset_list=dataset_list, lr=1e-3)\n",
    "model.to(device)\n",
    "model.load_state_dict(torch.load('./state_dict/test.pt'))"
   ]
  },
  {
   "cell_type": "code",
   "execution_count": 11,
   "metadata": {},
   "outputs": [
    {
     "data": {
      "application/vnd.jupyter.widget-view+json": {
       "model_id": "1068971b9ef34721a15b9c484cb6fc01",
       "version_major": 2,
       "version_minor": 0
      },
      "text/plain": [
       "interactive(children=(FloatSlider(value=1.0, description='radius', max=20.0, step=0.01), Dropdown(description=…"
      ]
     },
     "metadata": {},
     "output_type": "display_data"
    }
   ],
   "source": [
    "@interact(radius=(0, 20, 0.01), mode_3d=['cylinder', 'sphere'])\n",
    "def my_homotopy(radius=1, mode_3d='cylinder'):\n",
    "    batch_list = [make_data(mode_3d=mode_3d, radius=radius)]\n",
    "    prediction_list = model.test_model(batch_list)\n",
    "    for prediction in prediction_list:\n",
    "        plt.figure(figsize=(12, 6))\n",
    "        plt.title(f'Visualization of the function $f(x,y,z)$ on {mode_3d} with $r={radius}$')\n",
    "        plt.imshow(prediction.view((200, 400)), cmap='PuOr', vmin=-1, vmax=1)"
   ]
  },
  {
   "cell_type": "code",
   "execution_count": null,
   "metadata": {},
   "outputs": [],
   "source": []
  }
 ],
 "metadata": {
  "kernelspec": {
   "display_name": ".venv",
   "language": "python",
   "name": "python3"
  },
  "language_info": {
   "codemirror_mode": {
    "name": "ipython",
    "version": 3
   },
   "file_extension": ".py",
   "mimetype": "text/x-python",
   "name": "python",
   "nbconvert_exporter": "python",
   "pygments_lexer": "ipython3",
   "version": "3.10.6"
  },
  "orig_nbformat": 4,
  "vscode": {
   "interpreter": {
    "hash": "850244c8638196155f69ccd644181272b4a42cc2d794d5c02d6df1253ef9f395"
   }
  }
 },
 "nbformat": 4,
 "nbformat_minor": 2
}
