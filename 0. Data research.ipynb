{
 "cells": [
  {
   "attachments": {},
   "cell_type": "markdown",
   "metadata": {},
   "source": [
    "# Imports"
   ]
  },
  {
   "cell_type": "code",
   "execution_count": 11,
   "metadata": {},
   "outputs": [],
   "source": [
    "from dataset import MyData\n",
    "from model import Net\n",
    "from config import device\n",
    "\n",
    "import torch\n",
    "import numpy as np\n",
    "import matplotlib.pyplot as plt"
   ]
  },
  {
   "attachments": {},
   "cell_type": "markdown",
   "metadata": {},
   "source": [
    "# 4: Given data research"
   ]
  },
  {
   "cell_type": "code",
   "execution_count": null,
   "metadata": {},
   "outputs": [],
   "source": [
    "dataset1.show_pm_list()"
   ]
  },
  {
   "cell_type": "code",
   "execution_count": null,
   "metadata": {},
   "outputs": [],
   "source": [
    "a = [(el-0.5).sum() for el in dataset1.pm_list]\n",
    "a"
   ]
  },
  {
   "cell_type": "code",
   "execution_count": null,
   "metadata": {},
   "outputs": [],
   "source": [
    "with open('./data/sn1996k1904eng.abz') as f:\n",
    "    lines = [line.rstrip() for line in f]\n",
    "    my_shape = [int(x) for x in lines[0].split()[-6:-4]]\n",
    "    my_shape.reverse()\n",
    "    width, height = my_shape[0], my_shape[1]\n",
    "    img_array = np.full(shape=my_shape, fill_value=255)\n",
    "    for line in lines[3:]:\n",
    "        line = [int(x) for x in line.split()]\n",
    "        if len(line) == 3:\n",
    "            y = line[0]\n",
    "            x1 = line[1]\n",
    "            x2 = -line[2]\n",
    "            for i in range(x1, x2 + 1):\n",
    "                img_array[min(y, width - 1), min(i, height - 1)] = 0\n",
    "        elif len(line) == 5:\n",
    "            y = line[0]\n",
    "            x1 = line[1]\n",
    "            x2 = -line[2]\n",
    "            x3 = line[3]\n",
    "            x4 = -line[4]\n",
    "            for i in range(x1, x2 + 1):\n",
    "                img_array[min(y, width - 1), min(i, height - 1)] = 0\n",
    "            for i in range(x3, x4 + 1):\n",
    "                img_array[min(y, width - 1), min(i, height - 1)] = 0\n",
    "        elif len(line) > 6:\n",
    "            vol_number = line[0]\n",
    "            plt.imshow(img_array, cmap='gray')\n",
    "            plt.title(f'{vol_number}')\n",
    "            plt.show()\n",
    "            \n",
    "    \n",
    "plt.imshow(img_array, cmap='gray')"
   ]
  },
  {
   "cell_type": "code",
   "execution_count": null,
   "metadata": {},
   "outputs": [],
   "source": [
    "out_list = [dataset1.img_array.reshape(-1, 1) / 255]\n",
    "out_list"
   ]
  }
 ],
 "metadata": {
  "kernelspec": {
   "display_name": ".venv",
   "language": "python",
   "name": "python3"
  },
  "language_info": {
   "codemirror_mode": {
    "name": "ipython",
    "version": 3
   },
   "file_extension": ".py",
   "mimetype": "text/x-python",
   "name": "python",
   "nbconvert_exporter": "python",
   "pygments_lexer": "ipython3",
   "version": "3.10.6 (tags/v3.10.6:9c7b4bd, Aug  1 2022, 21:53:49) [MSC v.1932 64 bit (AMD64)]"
  },
  "orig_nbformat": 4,
  "vscode": {
   "interpreter": {
    "hash": "850244c8638196155f69ccd644181272b4a42cc2d794d5c02d6df1253ef9f395"
   }
  }
 },
 "nbformat": 4,
 "nbformat_minor": 2
}
