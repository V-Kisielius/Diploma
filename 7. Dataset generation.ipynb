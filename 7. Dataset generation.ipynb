{
 "cells": [
  {
   "attachments": {},
   "cell_type": "markdown",
   "metadata": {},
   "source": [
    "# Imports"
   ]
  },
  {
   "cell_type": "code",
   "execution_count": 1,
   "metadata": {},
   "outputs": [
    {
     "name": "stdout",
     "output_type": "stream",
     "text": [
      "cuda:0\n"
     ]
    }
   ],
   "source": [
    "import torch\n",
    "import gpytorch\n",
    "from gpytorch.constraints import Interval\n",
    "import matplotlib.pyplot as plt \n",
    "from tqdm import tqdm\n",
    "import os\n",
    "\n",
    "from ipywidgets import interact\n",
    "import glob\n",
    "import numpy as np\n",
    "from helper import open_img_as_array\n",
    "from skimage.measure import label\n",
    "\n",
    "PATH_TO_DATA = './CloC/'\n",
    "\n",
    "IMG_SIZE = (50, 100)\n",
    "device = torch.device(\"cuda:0\" if torch.cuda.is_available() else \"cpu\")\n",
    "print(device)"
   ]
  },
  {
   "attachments": {},
   "cell_type": "markdown",
   "metadata": {},
   "source": [
    "# Helper functions"
   ]
  },
  {
   "cell_type": "code",
   "execution_count": 2,
   "metadata": {},
   "outputs": [],
   "source": [
    "def map_to_cylinder(points):\n",
    "    return torch.stack((torch.cos(2 * torch.pi * points[:, 1]), torch.sin(2 * torch.pi * points[:, 1]), torch.pi * points[:, 0]), -1)\n",
    "\n",
    "def clear_small_groups(img, min_size=100):\n",
    "    img = img.copy()\n",
    "    cimg = img.copy()\n",
    "    cimg[img < img.max()] = 0\n",
    "    cimg[img == img.max()] = 1\n",
    "    limg = label(cimg, background=1)\n",
    "    unique, counts = np.unique(limg, return_counts=True)\n",
    "    for i, count in zip(unique, counts):\n",
    "        if count < min_size:\n",
    "            img[limg == i] = 0\n",
    "    return img"
   ]
  },
  {
   "attachments": {},
   "cell_type": "markdown",
   "metadata": {},
   "source": [
    "# GPModel class"
   ]
  },
  {
   "cell_type": "code",
   "execution_count": 3,
   "metadata": {},
   "outputs": [],
   "source": [
    "class ExactGPModel(gpytorch.models.ExactGP):\n",
    "    def __init__(self, train_x, train_y, likelihood, RBF_lengthscale_constraint=None, Periodic_lengthscale_constraint=None):\n",
    "        super(ExactGPModel, self).__init__(train_x, train_y, likelihood)\n",
    "        self.likelihood = likelihood\n",
    "        self.mean_module = gpytorch.means.ZeroMean()\n",
    "        self.RBF = gpytorch.kernels.RBFKernel(\n",
    "            ard_num_dims=3, lengthscale_constraint=RBF_lengthscale_constraint)\n",
    "        self.Periodic = gpytorch.kernels.PeriodicKernel(\n",
    "            ard_num_dims=3, lengthscale_constraint=Periodic_lengthscale_constraint)\n",
    "        self.covar_module = gpytorch.kernels.ScaleKernel(\n",
    "            self.RBF) + gpytorch.kernels.ScaleKernel(self.Periodic)\n",
    "\n",
    "    def forward(self, x):\n",
    "        mean_x = self.mean_module(x)\n",
    "        covar_x = self.covar_module(x)\n",
    "        return gpytorch.distributions.MultivariateNormal(mean_x, covar_x)\n",
    "\n",
    "    def start_training(self, train_x, train_y, num_iter=100, need_plot=True):\n",
    "        self.train()\n",
    "        self.likelihood.train()\n",
    "        # Includes GaussianLikelihood parameters\n",
    "        optimizer = torch.optim.Adam(self.parameters(), lr=0.1)\n",
    "\n",
    "        # \"Loss\" for GPs - the marginal log likelihood\n",
    "        my_loss = gpytorch.mlls.ExactMarginalLogLikelihood(\n",
    "            self.likelihood, self)\n",
    "\n",
    "        history = {\"loss\": [],\n",
    "                   \"lengthscale\": [],\n",
    "                   \"noise\": []}\n",
    "\n",
    "        for _ in tqdm(range(num_iter), desc='Training'):\n",
    "            optimizer.zero_grad()\n",
    "            output = self(train_x)\n",
    "            loss = -my_loss(output, train_y)\n",
    "            loss.backward()\n",
    "            history[\"loss\"].append(loss.item())\n",
    "            # lengthscale = self.covar_module.base_kernel.lengthscale.item()\n",
    "            # history[\"lengthscale\"].append(lengthscale)\n",
    "            # history[\"noise\"].append(self.likelihood.noise.item())\n",
    "            optimizer.step()\n",
    "\n",
    "        if need_plot:\n",
    "            plt.figure(figsize=(10, 5))\n",
    "            plt.plot(history[\"loss\"])\n",
    "            plt.title(f'Loss')\n",
    "            plt.xlabel('Iteration')\n",
    "            plt.ylabel('Loss')\n",
    "            plt.show()\n",
    "\n",
    "    def predict(self, data, num_samples=16, need_plot=True):\n",
    "        self.eval()\n",
    "        self.likelihood.eval()\n",
    "\n",
    "        with torch.no_grad(), gpytorch.settings.fast_pred_var():\n",
    "            sampled_preds = self(data.to(device)).rsample(\n",
    "                sample_shape=torch.Size((num_samples,)))\n",
    "\n",
    "        if need_plot:\n",
    "            n = int(num_samples ** 0.5)\n",
    "            _, axs = plt.subplots(n, n, figsize=(20, 10))\n",
    "            plt.suptitle(f'Samples')\n",
    "            for i in range(n):\n",
    "                for j in range(n):\n",
    "                    axs[i, j].imshow(\n",
    "                        sampled_preds[i*n+j].cpu().detach().numpy().reshape(IMG_SIZE), cmap='PuOr')\n",
    "                    axs[i, j].contour(\n",
    "                        sampled_preds[i*n+j].cpu().detach().numpy().reshape(IMG_SIZE), levels=0, colors='k')\n",
    "                    axs[i, j].axis('off')\n",
    "            plt.show()\n",
    "\n",
    "        return sampled_preds"
   ]
  },
  {
   "attachments": {},
   "cell_type": "markdown",
   "metadata": {},
   "source": [
    "# Generation of the dataset"
   ]
  },
  {
   "cell_type": "code",
   "execution_count": 4,
   "metadata": {},
   "outputs": [],
   "source": [
    "def default_train():\n",
    "    # Train set and test set initialization\n",
    "    dx, dy = 1 / IMG_SIZE[0], 1 / IMG_SIZE[1]\n",
    "    xv, yv = torch.meshgrid(torch.linspace(0, 1-dx, IMG_SIZE[0]), torch.linspace(0, 1-dy, IMG_SIZE[1]), indexing=\"ij\")\n",
    "    x_test = torch.cat((\n",
    "        xv.contiguous().view(xv.numel(), 1),\n",
    "        yv.contiguous().view(yv.numel(), 1)),\n",
    "        dim=1)\n",
    "\n",
    "    x_train = torch.cat((x_test[:5*IMG_SIZE[1], :], x_test[-5*IMG_SIZE[1]:, :]), 0)\n",
    "    x_train = map_to_cylinder(x_train)\n",
    "    x_test = map_to_cylinder(x_test)\n",
    "    y_train = torch.cat((torch.ones(5*IMG_SIZE[1]), -torch.ones(5*IMG_SIZE[1])))\n",
    "\n",
    "    # Model initialization and training\n",
    "    rbf_lengthscale_right = Interval(0.01, 0.32)\n",
    "    periodic_lengthscale_right = Interval(0.01, 0.15)\n",
    "\n",
    "    likelihood = gpytorch.likelihoods.GaussianLikelihood()\n",
    "    model = ExactGPModel(x_train, y_train, likelihood, RBF_lengthscale_constraint=rbf_lengthscale_right, Periodic_lengthscale_constraint=periodic_lengthscale_right)\n",
    "\n",
    "    model = model.to(device)\n",
    "    x_train = x_train.to(device)\n",
    "    y_train = y_train.to(device)\n",
    "\n",
    "    model.start_training(x_train, y_train, num_iter=100, need_plot=True)\n",
    "    \n",
    "    return model, x_test\n"
   ]
  },
  {
   "attachments": {},
   "cell_type": "markdown",
   "metadata": {},
   "source": [
    "## Sampling"
   ]
  },
  {
   "attachments": {},
   "cell_type": "markdown",
   "metadata": {},
   "source": [
    "### Prediction"
   ]
  },
  {
   "cell_type": "code",
   "execution_count": 5,
   "metadata": {},
   "outputs": [
    {
     "name": "stderr",
     "output_type": "stream",
     "text": [
      "Training: 100%|██████████| 100/100 [00:08<00:00, 12.35it/s]\n"
     ]
    },
    {
     "data": {
      "image/png": "[encoded data removed]",
      "text/plain": [
       "<Figure size 720x360 with 1 Axes>"
      ]
     },
     "metadata": {
      "needs_background": "light"
     },
     "output_type": "display_data"
    }
   ],
   "source": [
    "model, x_test = default_train()"
   ]
  },
  {
   "cell_type": "code",
   "execution_count": 6,
   "metadata": {},
   "outputs": [],
   "source": [
    "samples = model.predict(x_test.to(device), num_samples=1000, need_plot=False)\n",
    "samples = samples.view(-1, *IMG_SIZE).cpu().detach()"
   ]
  },
  {
   "attachments": {},
   "cell_type": "markdown",
   "metadata": {},
   "source": [
    "### Saving results"
   ]
  },
  {
   "cell_type": "code",
   "execution_count": null,
   "metadata": {},
   "outputs": [],
   "source": [
    "os.makedirs(PATH_TO_DATA, exist_ok=True)\n",
    "\n",
    "for i, sample in enumerate(samples):\n",
    "    plt.imshow(sample * 0, cmap='gray_r')\n",
    "    plt.contour(sample, levels=0, colors='k')\n",
    "    plt.axis('off')\n",
    "    plt.savefig(PATH_TO_DATA + f'/{i+1:05}.png', bbox_inches='tight', pad_inches=0, facecolor='white')\n",
    "    # don't display image\n",
    "    # plt.clf()\n",
    "    break\n"
   ]
  },
  {
   "attachments": {},
   "cell_type": "markdown",
   "metadata": {},
   "source": [
    "# Splitting, clearing and getting targets"
   ]
  },
  {
   "cell_type": "code",
   "execution_count": 7,
   "metadata": {},
   "outputs": [],
   "source": [
    "def split_map(path, x_parts, scale_coef, color, p, need_plot=False):\n",
    "    img = open_img_as_array(path) if isinstance(path, str) else path\n",
    "    splitted = img.copy()\n",
    "    imax = img.max()\n",
    "\n",
    "    width, height = img.shape\n",
    "    ratio = height / width\n",
    "\n",
    "    sq_size = width // x_parts\n",
    "    delta = int(scale_coef * sq_size / 2)\n",
    "    \n",
    "    # for x in range(sq_size // 2, width, sq_size):\n",
    "    #     for y in range(sq_size // 2, height, sq_size):\n",
    "    #         splitted[x-delta:x+delta, y-delta:y+delta] = color\n",
    "\n",
    "    # the loop above colors the uniform squares with the same color\n",
    "    # now i want to do the same but shift all squares by a random unit vector\n",
    "\n",
    "    for x in range(sq_size // 2, width, sq_size):\n",
    "        for y in range(sq_size // 2, height, sq_size):\n",
    "            # do the next with probability p:\n",
    "            if np.random.rand() < p:\n",
    "                shift = np.random.randint(-delta // 2, delta // 2, 2)\n",
    "                splitted[x+shift[0]-delta:x+shift[0]+delta, y+shift[1]-delta:y+shift[1]+delta] = color\n",
    "\n",
    "    # black_pixs = np.sum(splitted < imax)\n",
    "    # cleared = clear_small_groups(splitted, min_size)\n",
    "    # print(np.unique(cleared))\n",
    "    # percent_of_cleared = 100 * (1 - np.sum(cleared < imax) / black_pixs)\n",
    "    # print(f'percent_of_cleared = {percent_of_cleared:.2f}%')\n",
    "    # if need_plot:\n",
    "    #     plt.subplot(1, 3, 3)\n",
    "    #     plt.imshow(cleared, cmap='gray')\n",
    "    #     plt.title(f'After clearing {percent_of_cleared:.2f}% of black pixels')\n",
    "\n",
    "    return splitted"
   ]
  },
  {
   "cell_type": "code",
   "execution_count": 8,
   "metadata": {},
   "outputs": [
    {
     "data": {
      "application/vnd.jupyter.widget-view+json": {
       "model_id": "76f1052f018943c2b56a71291ea18e46",
       "version_major": 2,
       "version_minor": 0
      },
      "text/plain": [
       "interactive(children=(IntSlider(value=0, description='i', max=999), IntSlider(value=5, description='x_parts', …"
      ]
     },
     "metadata": {},
     "output_type": "display_data"
    }
   ],
   "source": [
    "@interact(i=(0, len(samples) - 1), x_parts=(2, 10), scale_coef=(0.5, 1, 0.05), p=(0, 1, 0.1), color=(0, 1, 0.05))\n",
    "def real_time(i=0, x_parts=5, scale_coef=0.85, p=0.5, color=0):\n",
    "    img = samples[i]\n",
    "    # normalize to [-1, 1]\n",
    "    img = (img - img.min()) / (img.max() - img.min()) * 2 - 1\n",
    "    # print(img.min(), img.max())\n",
    "    # # img = (img - img.min()) / (img.max() - img.min()) * 255\n",
    "    sign = img > 0\n",
    "    # values of sign are True or False\n",
    "    # for every True value if at least one of its neighbours is False then it is a border\n",
    "    # find all borders and make a new array with the same shape as img where borders are True and others are False\n",
    "    original = np.zeros_like(img)\n",
    "    for x in range(1, img.shape[0]-1):\n",
    "        for y in range(1, img.shape[1]-1):\n",
    "            original[x, y] = sign[x, y] and (not sign[x-1, y] or not sign[x+1, y] or not sign[x, y-1] or not sign[x, y+1])\n",
    "    splitted = 1 - split_map(path=original, x_parts=x_parts, scale_coef=scale_coef, color=color, p=p, need_plot=False)\n",
    "    plt.figure(figsize=(20, 5))\n",
    "    # original image\n",
    "    plt.subplot(1, 3, 1)\n",
    "    plt.imshow(1 - original, cmap='gray')\n",
    "    plt.title('Original')\n",
    "    # sign distribution\n",
    "    plt.subplot(1, 3, 2)\n",
    "    plt.imshow(sign, cmap='gray')\n",
    "    plt.title('Sign distribution')\n",
    "    # split map\n",
    "    plt.subplot(1, 3, 3)\n",
    "    plt.imshow(splitted, cmap='gray')\n",
    "    plt.title('Splitted')"
   ]
  },
  {
   "attachments": {},
   "cell_type": "markdown",
   "metadata": {},
   "source": [
    "# Downscaling"
   ]
  },
  {
   "cell_type": "code",
   "execution_count": 2,
   "metadata": {},
   "outputs": [
    {
     "data": {
      "application/vnd.jupyter.widget-view+json": {
       "model_id": "33b466c0285244f4b7a985634add60aa",
       "version_major": 2,
       "version_minor": 0
      },
      "text/plain": [
       "interactive(children=(Dropdown(description='path', options=('./CloC\\\\00001.png', './CloC\\\\00002.png', './CloC\\…"
      ]
     },
     "metadata": {},
     "output_type": "display_data"
    }
   ],
   "source": [
    "def downscale_map(img, sq_size):\n",
    "    width, height = img.shape\n",
    "    x_parts = width // sq_size\n",
    "    y_parts = height // sq_size\n",
    "    downsampled = np.zeros((x_parts, y_parts))\n",
    "    for x in range(x_parts):\n",
    "        for y in range(y_parts):\n",
    "            downsampled[x, y] = np.sum(img[x*sq_size:(x+1)*sq_size, y*sq_size:(y+1)*sq_size] < 255) == 0\n",
    "    return downsampled\n",
    "\n",
    "@interact(path=glob.glob(PATH_TO_DATA+'*'), sq_size=(1, 25))\n",
    "def _(path=PATH_TO_DATA+'00001.png', sq_size=5):\n",
    "    img = open_img_as_array(path)\n",
    "    downsampled = downscale_map(img, sq_size)\n",
    "    plt.figure(figsize=(20, 10))\n",
    "    plt.subplot(1, 2, 1)\n",
    "    plt.imshow(img, cmap='gray')\n",
    "    plt.title(f'Original shape = {img.shape}')\n",
    "    plt.subplot(1, 2, 2)\n",
    "    plt.imshow(downsampled, cmap='gray')\n",
    "    plt.title(f'Downsampled shape = {downsampled.shape}')\n"
   ]
  },
  {
   "cell_type": "code",
   "execution_count": null,
   "metadata": {},
   "outputs": [],
   "source": []
  }
 ],
 "metadata": {
  "kernelspec": {
   "display_name": ".venv",
   "language": "python",
   "name": "python3"
  },
  "language_info": {
   "codemirror_mode": {
    "name": "ipython",
    "version": 3
   },
   "file_extension": ".py",
   "mimetype": "text/x-python",
   "name": "python",
   "nbconvert_exporter": "python",
   "pygments_lexer": "ipython3",
   "version": "3.10.6"
  },
  "orig_nbformat": 4,
  "vscode": {
   "interpreter": {
    "hash": "850244c8638196155f69ccd644181272b4a42cc2d794d5c02d6df1253ef9f395"
   }
  }
 },
 "nbformat": 4,
 "nbformat_minor": 2
}
