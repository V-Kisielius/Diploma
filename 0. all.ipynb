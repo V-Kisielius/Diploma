{
 "cells": [
  {
   "attachments": {},
   "cell_type": "markdown",
   "metadata": {},
   "source": [
    "# 1: Import required libraries and initialization of global variables"
   ]
  },
  {
   "cell_type": "code",
   "execution_count": 1,
   "metadata": {},
   "outputs": [
    {
     "name": "stdout",
     "output_type": "stream",
     "text": [
      "Selected devie is cuda:0\n"
     ]
    }
   ],
   "source": [
    "#! pip install -r requirements.txt\n",
    "#! pip install --force-reinstall -r requirements.txt\n",
    "\n",
    "import math\n",
    "import numpy as np\n",
    "import pandas as pd\n",
    "import torch\n",
    "import torch.nn as nn\n",
    "from torchsummary import summary\n",
    "import os\n",
    "import glob\n",
    "from PIL import Image, ImageOps\n",
    "from IPython.display import clear_output\n",
    "import matplotlib.pyplot as plt\n",
    "import matplotlib.gridspec as gridspec\n",
    "import matplotlib.image as mpimg\n",
    "%matplotlib inline\n",
    "import plotly.express as px\n",
    "from ipywidgets import interact\n",
    "from itertools import islice\n",
    "\n",
    "from make_gif_from_folder import make_gif\n",
    "\n",
    "device = torch.device(\"cuda:0\" if torch.cuda.is_available() else \"cpu\")\n",
    "# os.environ['CUDA_LAUNCH_BLOCKING'] = '1'\n",
    "torch.cuda.set_device(0)\n",
    "print(f'Selected devie is {device}')\n",
    "\n",
    "BOUND_THRASHOLD = 0.3\n",
    "PATH_TO_PM_DATA = './data/pm_format'\n",
    "PATH_TO_MARKUP_DATA = './data/CL_23.txt'\n",
    "PATH_TO_EPOCH_OUTS = './imgs/epoch_outs'\n",
    "PATH_TO_TARGET0 = './imgs/target0/'\n",
    "PATH_TO_TARGET = './imgs/target/'\n",
    "PATH_TO_INPUT = './imgs/input/'"
   ]
  },
  {
   "attachments": {},
   "cell_type": "markdown",
   "metadata": {},
   "source": [
    "# 2: Neural network approach"
   ]
  },
  {
   "attachments": {},
   "cell_type": "markdown",
   "metadata": {},
   "source": [
    "## 2.1: Creating the model and dataset"
   ]
  },
  {
   "attachments": {},
   "cell_type": "markdown",
   "metadata": {},
   "source": [
    "#### 2.1.1: Dataset calss"
   ]
  },
  {
   "cell_type": "code",
   "execution_count": 2,
   "metadata": {},
   "outputs": [],
   "source": [
    "class MyData(torch.utils.data.Dataset):\n",
    "    def __init__(self, path_to_file, mode, mode_3d, radius, reduce_fctor=1, need_help=False, need_info=False):\n",
    "        self.need_help = need_help\n",
    "        self.mode_3d = mode_3d\n",
    "        self.radius = radius\n",
    "        self.maps_markup = self.make_markup()\n",
    "        self.pm_list = self.get_pm_list()\n",
    "        self.reduce_factor = reduce_fctor\n",
    "        if mode == 'img':\n",
    "            self.map_number = ''\n",
    "            self.img_array = self.get_img_array(path_to_file) \n",
    "        elif mode == 'abz':\n",
    "            self.map_number = path_to_file[-11:-7]\n",
    "            self.img_array, self.help_array = self.read_from_abz(path_to_file)\n",
    "        else:\n",
    "            self.map_number = ''\n",
    "            self.img_array = path_to_file\n",
    "        \n",
    "        self.width, self.height = self.img_array.shape\n",
    "        self.total_pixel = self.width * self.height\n",
    "\n",
    "        self.bound_mask = np.where(self.img_array.reshape(-1, 1) < 255)[0]\n",
    "        self.bound_length = len(np.where(self.img_array.reshape(-1, 1) < 255)[0])\n",
    "        self.mask = np.where(self.img_array.reshape(-1, 1) == 255)[0]\n",
    "        self.row_numbers = 1 * self.height\n",
    "        # self.sign_mask = np.where((self._add_grad_label() * self.img_array).reshape(-1, 1) != 0)[0]\n",
    "\n",
    "        self.data_2d, self.data_3d = self.make_data(mode_3d=self.mode_3d)\n",
    "        self.data_3d.x, self.data_3d.y, self.data_3d.z = self.data_3d.T\n",
    "        if need_info:\n",
    "            print(f'width: {self.width}\\n' +\n",
    "                  f'height: {self.height}\\n' +\n",
    "                  f'total_pixel: {self.total_pixel}\\n' +\n",
    "                  f'bound length: {self.bound_length}\\n' +\n",
    "                  f'percent of bound pixels: {(100 * self.bound_length / self.total_pixel):.1f}%')\n",
    "\n",
    "    def __len__(self):\n",
    "        return len(self.data)\n",
    "\n",
    "    def __getitem__(self, idx):\n",
    "        return self.data_2d[idx], self.data_3d[idx]\n",
    "\n",
    "    def get_img_array(self, path_to_file):\n",
    "        return np.array(ImageOps.grayscale(Image.open(path_to_file))).astype(int)\n",
    "        \n",
    "    def get_pm_list(self):\n",
    "        filenames = [filename for filename in glob.glob(f'{PATH_TO_PM_DATA}/*.dat')]\n",
    "        pm_list = []\n",
    "        for filename in filenames:\n",
    "            with open(filename) as f:\n",
    "                lines = [line[4:].replace('-1', '0').replace('+1', '1').rstrip() for line in f]\n",
    "            pm_list.append(np.array([list(x) for x in lines], dtype = 'int'))\n",
    "        return pm_list\n",
    "\n",
    "    def _add_grad_label(self):\n",
    "        tmp = self.img_array / self.img_array.max()\n",
    "\n",
    "        left_shift, right_shift, up_shift, down_shift = np.ones((4, self.width, self.height))\n",
    "\n",
    "        result = np.zeros(self.img_array.shape)\n",
    "\n",
    "        left_shift[:, :-1] = tmp[:, 1:]\n",
    "        right_shift[:, 1:] = tmp[:, :-1]\n",
    "        up_shift[1:, :] = tmp[:-1, :]\n",
    "        down_shift[:-1, :] = tmp[1:, :]\n",
    "\n",
    "        result = left_shift + right_shift + down_shift + up_shift - 4 * tmp\n",
    "        result = np.zeros(self.img_array.shape) != result\n",
    "        return result.astype(int)\n",
    "\n",
    "    def show_pm_list(self):\n",
    "        plt.figure(figsize=(20, 30))\n",
    "        maps_number = len(self.pm_list)\n",
    "        for i in range(maps_number):\n",
    "            plt.subplot(maps_number /  5, 5, i + 1) if maps_number % 5 == 0 else plt.subplot(maps_number // 5 + 1, 5, i + 1)\n",
    "            plt.title(f'Map №{1904 + i}')\n",
    "            plt.gca().axes.get_xaxis().set_visible(False)\n",
    "            plt.gca().axes.get_yaxis().set_visible(False)\n",
    "            plt.imshow(self.pm_list[i], cmap='gray')\n",
    "        plt.show()\n",
    "            \n",
    "    def make_markup(self):\n",
    "        res = {}\n",
    "        current = 0\n",
    "        with open(PATH_TO_MARKUP_DATA, 'r', encoding='windows-1251') as file:\n",
    "            for line in file:\n",
    "                try:\n",
    "                    temp = list(map(int, line.rstrip().split()))\n",
    "                except:\n",
    "                    continue\n",
    "                if len(temp) == 1:\n",
    "                    current = temp[0]\n",
    "                elif len(temp) == 0:\n",
    "                    continue\n",
    "                else:\n",
    "                    if current not in res.keys():\n",
    "                        res[current] = [temp[1:]] \n",
    "                    else:\n",
    "                        res[current].append(temp[1:])\n",
    "        return res\n",
    "        \n",
    "    def show_image(self):\n",
    "        plt.figure(figsize=(10, 5))\n",
    "        plt.title(f'Input Image №{self.map_number}')\n",
    "        plt.imshow(self.img_array, cmap='gray', vmin=0, vmax=255)\n",
    "    \n",
    "    def read_from_abz(self, filename):\n",
    "        with open(filename) as f:\n",
    "            lines = [line.rstrip() for line in f]\n",
    "        my_shape = [int(x) for x in lines[0].split()[-6:-4]]\n",
    "        my_shape.reverse()\n",
    "        width, height = my_shape[0], my_shape[1]\n",
    "        img_array = np.full(shape=my_shape, fill_value=255)\n",
    "        for line in lines[3:]:\n",
    "            line = [int(x) for x in line.split()]\n",
    "            if len(line) == 3:\n",
    "                y = line[0]\n",
    "                x1 = line[1]\n",
    "                x2 = -line[2]\n",
    "                for i in range(x1, x2 + 1):\n",
    "                    img_array[min(y, width - 1), min(i, height - 1)] = 0\n",
    "            elif len(line) == 5:\n",
    "                y = line[0]\n",
    "                x1 = line[1]\n",
    "                x2 = -line[2]\n",
    "                x3 = line[3]\n",
    "                x4 = -line[4]\n",
    "                for i in range(x1, x2 + 1):\n",
    "                    img_array[min(y, width - 1), min(i, height - 1)] = 0\n",
    "                for i in range(x3, x4 + 1):\n",
    "                    img_array[min(y, width - 1), min(i, height - 1)] = 0\n",
    "        if self.need_help:\n",
    "            map_number = int(filename[-11:-7])\n",
    "            i = 10\n",
    "            help_array = np.full(shape=my_shape, fill_value=255)\n",
    "            for line in self.maps_markup[map_number]:    \n",
    "                for el in line:\n",
    "                    x, y = int(el * (width - 1) / 180.), int(i * (height - 1) / 360.)\n",
    "                    help_array[x, y] = 0\n",
    "                    # help_array[min(x + 1, width - 1), y] = 0\n",
    "                    # help_array[max(x - 1, 0), y] = 0\n",
    "                    # help_array[x, min(y + 1, height - 1)] = 0\n",
    "                    # help_array[x, max(y - 1, 0)] = 0\n",
    "                i += 10\n",
    "        return img_array, help_array if self.need_help else img_array\n",
    "\n",
    "    def show_3d_static(self):\n",
    "        fig = plt.figure()\n",
    "        ax = fig.add_subplot(111, projection='3d')\n",
    "        ax.scatter(self.data_3d.x, self.data_3d.y, self.data_3d.z, c=self.img_array.flatten())\n",
    "\n",
    "    def show_3d(self):\n",
    "        df = pd.DataFrame({'x': self.data_3d.x[::self.reduce_factor], \n",
    "                            'y': self.data_3d.y[::self.reduce_factor], \n",
    "                            'z': -self.data_3d.z[::self.reduce_factor], \n",
    "                            'label': self.img_array.flatten()[::self.reduce_factor]})\n",
    "        return px.scatter_3d(df, x='x', y='y', z='z', color='label').update_traces(marker={'size': 2})\n",
    "\n",
    "    def make_data(self, mode_3d):\n",
    "        data_2d = torch.from_numpy(np.stack(np.indices((self.width, self.height)), axis=2).reshape(-1, 2)).float()\n",
    "        x, y = data_2d.T\n",
    "        x -= x.mean()\n",
    "        x /= x.abs().max()\n",
    "        y -= y.mean()\n",
    "        y /= y.abs().max()\n",
    "        data_2d = torch.stack((x, y), dim=1)\n",
    "        match mode_3d:\n",
    "            case 'sphere':\n",
    "                z = x\n",
    "                x = torch.cos(torch.pi * y) * (1 - z.pow(2)).pow(0.5)\n",
    "                y = torch.sin(torch.pi * y) * (1 - z.pow(2)).pow(0.5)\n",
    "                data_3d = self.radius * torch.stack((x, y, z), dim=1)\n",
    "            case 'cylinder':\n",
    "                z = x\n",
    "                x = torch.cos(torch.pi * y)\n",
    "                y = torch.sin(torch.pi * y)\n",
    "                data_3d = self.radius * torch.stack((x, y, z), dim=1)\n",
    "            case _:\n",
    "                print('Incorrect mode\\n')\n",
    "                raise SystemError(f'Incorrect mode: {mode_3d}\\n')\n",
    "        return data_2d, data_3d"
   ]
  },
  {
   "attachments": {},
   "cell_type": "markdown",
   "metadata": {},
   "source": [
    "#### 2.1.2: Model class"
   ]
  },
  {
   "cell_type": "code",
   "execution_count": 3,
   "metadata": {},
   "outputs": [],
   "source": [
    "class Net(nn.Module):\n",
    "    __slots__ = 'dataset_list'\n",
    "    def __init__(self, dataset_list, lr, weight_decay=1e-3):\n",
    "        super(Net, self).__init__()\n",
    "        self.net = nn.Sequential(\n",
    "            nn.Linear(3, 6), nn.ELU(),\n",
    "            nn.Linear(6, 12), nn.ELU(),\n",
    "            nn.Linear(12, 24), nn.ELU(),\n",
    "            nn.Linear(24, 1), nn.Tanh())\n",
    "        # self.weight = torch.nn.Parameter(torch.FloatTensor([1]), requires_grad=True)\n",
    "        self.dataset_list = dataset_list\n",
    "        self.data_list = [data.data_3d for data in self.dataset_list]\n",
    "        self.lr = lr\n",
    "        self.weight_decay = weight_decay\n",
    "        self.optimizer = torch.optim.Adam(self.parameters(), lr=self.lr, weight_decay=self.weight_decay)\n",
    "        #scheduler = torch.optim.lr_scheduler.ReduceLROnPlateau(optimizer, mode='min', verbose=True, patience=100)        \n",
    "        self.loss_dict = {'loss': [],\n",
    "                          'f_abs_integral': [],\n",
    "                          'bound_integral': [],\n",
    "                          'orientation_integral': [],\n",
    "                          'f_integral': []}\n",
    "                        #   'sign_integral': [],\n",
    "                        #   'sign_integral_abs': []}\n",
    "        \n",
    "    def forward(self, x):\n",
    "        #x = x.to(device)\n",
    "        output = self.net(x)\n",
    "        # res = output.clone()\n",
    "        # output[res > BOUND_THRASHOLD] = 1\n",
    "        # output[res > BOUND_THRASHOLD] = 1\n",
    "\n",
    "        return output\n",
    "    \n",
    "    def compute_and_plot_gradient(self, input_list=None):\n",
    "        batch_list = input_list if input_list is not None else self.data_list\n",
    "        for batch in batch_list:\n",
    "            batch.requires_grad_()\n",
    "        tmp_list = [self(batch.to(device)) for batch in batch_list]\n",
    "        for tmp in tmp_list:\n",
    "            tmp.sum().backward()\n",
    "        grad_out_list = [batch.grad.cpu() for batch in batch_list]\n",
    "        grad_map_list = [((grad_out.pow(2).sum(dim=1)).pow(0.5)).view(dataset.img_array.shape) for grad_out, dataset in zip(grad_out_list, self.dataset_list)]\n",
    "        plt.figure(figsize=(12, 6))\n",
    "        for i, grad_map in enumerate(grad_map_list):\n",
    "            plt.subplot(1, len(grad_map_list), i + 1)\n",
    "            plt.title(r'Gradient map for $||\\nabla f(x,y,z)||_2$' + f'\\non input №{i + 1}', fontsize=15)\n",
    "            plt.imshow(grad_map, cmap='plasma')\n",
    "            plt.colorbar(location='bottom')\n",
    "        return grad_out_list, grad_map_list\n",
    "\n",
    "    def change_lr(self, lr):\n",
    "        for g in self.optimizer.param_groups:\n",
    "            g['lr'] = lr\n",
    "\n",
    "    def show_loss_items(self):\n",
    "        plt.figure(figsize=(16, 6))\n",
    "        for i, (key, value) in islice(enumerate(self.loss_dict.items()), 1, len(self.loss_dict.keys())):\n",
    "            plt.subplot(2, math.ceil((len(self.loss_dict.keys()) - 1) / 2), i)\n",
    "            plt.xlabel('Epoch')\n",
    "            plt.ylabel(key)\n",
    "            plt.plot(value)  \n",
    "        plt.show()\n",
    "\n",
    "    def restart_model(self, lr, weight_decay=1e-3):\n",
    "        model = Net(dataset_list=self.dataset_list, lr=lr, weight_decay=weight_decay)\n",
    "        model.to(device)\n",
    "        return model    \n",
    "\n",
    "    def save_state_dict(self, path):\n",
    "        torch.save(self.state_dict(), path)\n",
    "\n",
    "    def show_3d(self, prediction_list, map_number):\n",
    "        x, y, z = self.data_list[map_number].T\n",
    "        df = pd.DataFrame({'x': x.cpu().detach().numpy(),\n",
    "                            'y': y.cpu().detach().numpy(),\n",
    "                            'z': -z.cpu().detach().numpy(),\n",
    "                            'label': prediction_list[map_number].flatten()})\n",
    "        return px.scatter_3d(df, x='x', y='y', z='z', color='label').update_traces(marker={'size': 2})\n",
    "\n",
    "    def test_model(self, input_list=None, need_plot=False):\n",
    "        input_list = input_list if input_list is not None else self.data_list\n",
    "        with torch.no_grad():\n",
    "            output_list = [self(input.to(device)).cpu().detach() for input in input_list]\n",
    "        if need_plot:\n",
    "            plt.figure(figsize=(12, 6))\n",
    "            for (i, output), data in zip(enumerate(output_list), self.dataset_list):\n",
    "                plt.subplot(1, len(output_list), i + 1)\n",
    "                plt.title(f'Visualization of the function $f(x,y,z)$\\n on input №{i + 1}')\n",
    "                plt.imshow(output.view(data.img_array.shape), cmap='PuOr', vmin=-1, vmax=1) \n",
    "        return output_list\n",
    "\n",
    "    def start_training(self, num_epochs, my_weight=1e-1, show_frequency=1e+2, need_plot=False, need_save=True):\n",
    "        if need_save:\n",
    "            os.mkdir(PATH_TO_EPOCH_OUTS, exist_ok=True)\n",
    "\n",
    "        for value in self.loss_dict.values():\n",
    "            value.clear()\n",
    "\n",
    "        batch_list = [data.to(device) for data in self.data_list]\n",
    "\n",
    "        for epoch in range(1, int(num_epochs) + 1):\n",
    "            output_list = [self(batch) for batch in batch_list]\n",
    "\n",
    "            self.optimizer.zero_grad()\n",
    "            loss = self.compute_loss(output_list=output_list, my_weight=my_weight) \n",
    "            loss.backward(retain_graph=True)\n",
    "            self.optimizer.step()\n",
    "            \n",
    "            if need_plot and (epoch % int(show_frequency) == 0 or epoch == num_epochs):\n",
    "                output_list = [output.cpu().detach().view(dataset.img_array.shape) for output, dataset in zip(output_list, self.dataset_list)]\n",
    "                clear_output(wait=True)\n",
    "                gs = gridspec.GridSpec(2, len(self.dataset_list) + 1)\n",
    "                fig = plt.figure(figsize=(16, 6))\n",
    "                \n",
    "                ax1 = fig.add_subplot(gs[:, 0])\n",
    "                ax1.set_xlabel('Epoch')\n",
    "                ax1.set_ylabel('Loss')\n",
    "                ax1.plot(self.loss_dict['loss'])\n",
    "\n",
    "                for (i, img), data in zip(enumerate(output_list), self.dataset_list):\n",
    "                    ax2 = fig.add_subplot(gs[0, i + 1])\n",
    "                    ax2.title.set_text(f'Prediction №{i + 1}')\n",
    "                    ax2.get_xaxis().set_ticks([])\n",
    "                    ax2.get_yaxis().set_ticks([])\n",
    "                    ax2.imshow(img, cmap='PuOr', vmin=-1, vmax=1)\n",
    "\n",
    "                    ax3 = fig.add_subplot(gs[1, i + 1])\n",
    "                    ax3.get_xaxis().set_ticks([])\n",
    "                    ax3.get_yaxis().set_ticks([])\n",
    "                    ax3.title.set_text(f'Input image №{i + 1}')\n",
    "                    ax3.imshow(data.img_array, cmap='gray')\n",
    "                self.show_loss_items()\n",
    "                \n",
    "                if need_save:\n",
    "                    plt.savefig(PATH_TO_EPOCH_OUTS + '/epoch%06d.png' % epoch)\n",
    "                plt.show()\n",
    "\n",
    "    def compute_loss(self, output_list, my_weight): \n",
    "        loss, f_abs_integral, bound_integral, orientation_integral, f_integral = torch.zeros(len(self.loss_dict.items())) #, sign_integral, sign_integral_abs = torch.zeros(7)\n",
    "        loss_, f_abs_integral_, bound_integral_, orientation_integral_, f_integral_ = torch.zeros(len(self.loss_dict.items())) #, sign_integral_, sign_integral_abs_ = torch.zeros(7)\n",
    "\n",
    "        for (output, dataset) in zip(output_list, self.dataset_list):\n",
    "            output = output.flatten()\n",
    "            upper_bound = (output[:dataset.row_numbers].sum() / len(output[:dataset.row_numbers]) - 1).abs()\n",
    "            lower_bound = (output[-dataset.row_numbers:].sum() / len(output[-dataset.row_numbers:]) + 1).abs()\n",
    "\n",
    "            for key, _ in self.loss_dict.items():\n",
    "                locals()[key + \"_\"] = locals()[key].clone()\n",
    "\n",
    "            # bound_length_integral  = bound_length_integral_ + len(torch.masked_select(output, ~output.abs().ge(0.5))) / len(output)\n",
    "            f_integral = f_integral_ + my_weight * output.sum().abs() / dataset.total_pixel\n",
    "            # sign_integral = sign_integral_ + output[dataset.sign_mask].sum().abs() / len(dataset.sign_mask)\n",
    "            # sign_integral_abs = sign_integral_abs_ + 1 - output[dataset.sign_mask].abs().sum() / len(dataset.sign_mask)\n",
    "            orientation_integral = orientation_integral_ + 0.25 * (upper_bound + lower_bound)\n",
    "            f_abs_integral = f_abs_integral_ + 1 - output[dataset.mask].abs().sum() / (dataset.total_pixel - dataset.bound_length) # хочу НЕ границу +-1\n",
    "            bound_integral = bound_integral_ + output[dataset.bound_mask].pow(2).sum() / dataset.bound_length # хочу на границе 0\n",
    "            loss = loss_ + f_abs_integral + bound_integral + orientation_integral + f_integral# + 0.1 * (sign_integral + sign_integral_abs)\n",
    "\n",
    "        for key, _ in self.loss_dict.items():\n",
    "            self.loss_dict[key].append(locals()[key].item())\n",
    "            \n",
    "        return loss\n",
    "        # w_bound = torch.sigmoid(self.weight)\n",
    "        # w_abs = 1 - w_bound\n",
    "        # return (w_abs + 1) * f_abs_integral + (w_bound + 1) * bound_integral + orientation_integral, w_bound"
   ]
  },
  {
   "attachments": {},
   "cell_type": "markdown",
   "metadata": {},
   "source": [
    "## 2.2: Training and testing the model on different datasets"
   ]
  },
  {
   "attachments": {},
   "cell_type": "markdown",
   "metadata": {},
   "source": [
    "### Single dataset list"
   ]
  },
  {
   "attachments": {},
   "cell_type": "markdown",
   "metadata": {},
   "source": [
    "#### Definition of the dataset list"
   ]
  },
  {
   "cell_type": "code",
   "execution_count": 4,
   "metadata": {},
   "outputs": [
    {
     "data": {
      "image/png": "[encoded data removed]",
      "text/plain": [
       "<Figure size 720x360 with 1 Axes>"
      ]
     },
     "metadata": {
      "needs_background": "light"
     },
     "output_type": "display_data"
    }
   ],
   "source": [
    "# dataset1=MyData(path_to_file='./data/sn1996k1906eng.abz', mode='1img', mode_3d='cylinder', radius=1, reduce_fctor=4, need_help=False)\n",
    "# dataset2=MyData(path_to_file='./data/sn1996k1907eng.abz', mode='1img', mode_3d='cylinder', radius=1, reduce_fctor=4, need_help=False)\n",
    "# dataset3=MyData(path_to_file='./data/sn1996k1908eng.abz', mode='1img', mode_3d='cylinder', radius=1, reduce_fctor=4, need_help=False)\n",
    "\n",
    "# dataset_list = [dataset1, dataset2, dataset3]\n",
    "dataset1 = MyData(path_to_file='./imgs/2.png', mode='img', mode_3d='cylinder', radius=5, reduce_fctor=1, need_help=False)\n",
    "dataset2 = MyData(path_to_file='./imgs/2.png', mode='img', mode_3d='cylinder', radius=10, reduce_fctor=1, need_help=False)\n",
    "\n",
    "dataset_list = [dataset1, dataset2]\n",
    "dataset1.show_image()"
   ]
  },
  {
   "attachments": {},
   "cell_type": "markdown",
   "metadata": {},
   "source": [
    "#### Definition of the model"
   ]
  },
  {
   "cell_type": "code",
   "execution_count": 5,
   "metadata": {},
   "outputs": [
    {
     "data": {
      "text/plain": [
       "Net(\n",
       "  (net): Sequential(\n",
       "    (0): Linear(in_features=3, out_features=6, bias=True)\n",
       "    (1): ELU(alpha=1.0)\n",
       "    (2): Linear(in_features=6, out_features=12, bias=True)\n",
       "    (3): ELU(alpha=1.0)\n",
       "    (4): Linear(in_features=12, out_features=24, bias=True)\n",
       "    (5): ELU(alpha=1.0)\n",
       "    (6): Linear(in_features=24, out_features=1, bias=True)\n",
       "    (7): Tanh()\n",
       "  )\n",
       ")"
      ]
     },
     "execution_count": 5,
     "metadata": {},
     "output_type": "execute_result"
    }
   ],
   "source": [
    "model = Net(dataset_list=dataset_list, lr=1e-3)\n",
    "model.to(device)\n",
    "# summary(model, input_size=(sum([len(x) for x in model.data_list]), 3))\n",
    "# model.load_state_dict(torch.load('./3_cascade_1904.pt'))"
   ]
  },
  {
   "attachments": {},
   "cell_type": "markdown",
   "metadata": {},
   "source": [
    "#### Show start state"
   ]
  },
  {
   "cell_type": "code",
   "execution_count": null,
   "metadata": {},
   "outputs": [],
   "source": [
    "prediction_list = model.test_model(need_plot=True)"
   ]
  },
  {
   "cell_type": "code",
   "execution_count": null,
   "metadata": {},
   "outputs": [],
   "source": [
    "model.show_3d(prediction_list=prediction_list, map_number=1)"
   ]
  },
  {
   "attachments": {},
   "cell_type": "markdown",
   "metadata": {},
   "source": [
    "#### Training the model"
   ]
  },
  {
   "cell_type": "code",
   "execution_count": 6,
   "metadata": {},
   "outputs": [
    {
     "data": {
      "image/png": "[encoded data removed]",
      "text/plain": [
       "<Figure size 1152x432 with 5 Axes>"
      ]
     },
     "metadata": {
      "needs_background": "light"
     },
     "output_type": "display_data"
    },
    {
     "data": {
      "image/png": "[encoded data removed]",
      "text/plain": [
       "<Figure size 1152x432 with 4 Axes>"
      ]
     },
     "metadata": {
      "needs_background": "light"
     },
     "output_type": "display_data"
    }
   ],
   "source": [
    "# model.change_lr(1e-3)\n",
    "# model = model.restart_model(lr=1e-3)\n",
    "model.start_training(num_epochs=2e+3, my_weight=0.1, need_save=False)\n",
    "# model.show_loss_items()"
   ]
  },
  {
   "cell_type": "code",
   "execution_count": null,
   "metadata": {},
   "outputs": [],
   "source": [
    "model.save_state_dict('')"
   ]
  },
  {
   "cell_type": "code",
   "execution_count": null,
   "metadata": {},
   "outputs": [],
   "source": [
    "make_gif(dir_path='./epoch_outs', gifname='nice')"
   ]
  },
  {
   "attachments": {},
   "cell_type": "markdown",
   "metadata": {},
   "source": [
    "#### Testing the model"
   ]
  },
  {
   "cell_type": "code",
   "execution_count": null,
   "metadata": {},
   "outputs": [],
   "source": [
    "prediction_list = model.test_model(model.data_list, need_plot=True)"
   ]
  },
  {
   "cell_type": "code",
   "execution_count": null,
   "metadata": {},
   "outputs": [],
   "source": [
    "res\n",
    "plt.imshow(res, cmap='PuOr')"
   ]
  },
  {
   "cell_type": "code",
   "execution_count": null,
   "metadata": {},
   "outputs": [],
   "source": [
    "_, grad_map_list = model.compute_and_plot_gradient()"
   ]
  },
  {
   "cell_type": "code",
   "execution_count": null,
   "metadata": {},
   "outputs": [],
   "source": [
    "model.show_3d(prediction_list=prediction_list, map_number=1)"
   ]
  },
  {
   "cell_type": "code",
   "execution_count": null,
   "metadata": {},
   "outputs": [],
   "source": [
    "def test_model(self, input_list=None, need_plot=False):\n",
    "    input_list = input_list if input_list is not None else self.data_list\n",
    "    with torch.no_grad():\n",
    "        output_list = [self(input.to(device)).cpu().detach() for input in input_list]\n",
    "    if need_plot:\n",
    "        plt.figure(figsize=(12, 6))\n",
    "        for (i, output), data in zip(enumerate(output_list), self.dataset_list):\n",
    "            plt.subplot(1, len(output_list), i + 1)\n",
    "            plt.title(f'Visualization of the function $f(x,y,z)$\\n on input №{i + 1}')\n",
    "            plt.imshow(output.view(data.img_array.shape), cmap='PuOr', vmin=-1, vmax=1) \n",
    "    return output_list"
   ]
  },
  {
   "attachments": {},
   "cell_type": "markdown",
   "metadata": {},
   "source": [
    "### Map cascade"
   ]
  },
  {
   "attachments": {},
   "cell_type": "markdown",
   "metadata": {},
   "source": [
    "#### Get image"
   ]
  },
  {
   "cell_type": "code",
   "execution_count": null,
   "metadata": {},
   "outputs": [],
   "source": [
    "dataset1 = MyData(path_to_file='./imgs/1904_low2.png', mode='img', mode_3d='cylinder', radius=5, reduce_fctor=1, need_help=False)\n",
    "# dataset2 = MyData(path_to_file='./data/sn1996k1905eng.abz', mode='abz', mode_3d='sphere', radius=2, reduce_fctor=1, need_help=False)\n",
    "\n",
    "dataset_list = [dataset1] #, dataset2]"
   ]
  },
  {
   "attachments": {},
   "cell_type": "markdown",
   "metadata": {},
   "source": [
    "#### Definition of the function that downscales the map"
   ]
  },
  {
   "cell_type": "code",
   "execution_count": 5,
   "metadata": {},
   "outputs": [],
   "source": [
    "def downscale_map(img_array, sq_size):\n",
    "    width, height = img_array.shape\n",
    "    tmp_arr = img_array.copy()\n",
    "    if width % sq_size:\n",
    "        tmp_arr = np.r_[img_array, np.zeros((sq_size - width % sq_size, height))]\n",
    "        width, height = tmp_arr.shape\n",
    "    if height % sq_size:\n",
    "        tmp_arr = np.c_[tmp_arr, np.zeros((sq_size - height % sq_size, width)).T]\n",
    "        width, height = tmp_arr.shape\n",
    "    result = np.array([np.hsplit(u, height / sq_size) for u in np.vsplit(tmp_arr, width / sq_size)]).reshape((-1, sq_size, sq_size))\n",
    "    final_result = np.array([x.sum() for x in result]).reshape((width // sq_size, height // sq_size)) == 0\n",
    "    return final_result"
   ]
  },
  {
   "attachments": {},
   "cell_type": "markdown",
   "metadata": {},
   "source": [
    "#### Get map cascades from images"
   ]
  },
  {
   "cell_type": "code",
   "execution_count": null,
   "metadata": {},
   "outputs": [],
   "source": [
    "normal_img_array_1 = 1 - np.array(dataset1.img_array, dtype='float64') / 255.\n",
    "map_cascade_1 = [downscale_map(normal_img_array_1, 2 ** x) for x in range(4, 0, -1)]\n",
    "\n",
    "# convolve = np.vectorize(np.convolve, signature='(n),(m)->(k)')\n",
    "# map_cascade = [(1 - convolve(convolve(normal_img_array, np.ones((i))).T, np.ones((i))).T) > 0 for i in range(200, 0, -50)]\n",
    "\n",
    "for cas_map in map_cascade_1:\n",
    "    plt.imshow(cas_map, cmap = \"gray\")\n",
    "    plt.show()"
   ]
  },
  {
   "cell_type": "code",
   "execution_count": null,
   "metadata": {},
   "outputs": [],
   "source": [
    "normal_img_array_2 = 1 - np.array(dataset2.img_array, dtype='float64') / 255.\n",
    "map_cascade_2 = [downscale_map(normal_img_array_2, 2 ** x) for x in range(7, 3, -1)]\n",
    "\n",
    "# convolve = np.vectorize(np.convolve, signature='(n),(m)->(k)')\n",
    "# map_cascade = [(1 - convolve(convolve(normal_img_array, np.ones((i))).T, np.ones((i))).T) > 0 for i in range(200, 0, -50)]\n",
    "\n",
    "for cas_map in map_cascade_2:\n",
    "    plt.imshow(cas_map, cmap = \"gray\")\n",
    "    plt.show()"
   ]
  },
  {
   "attachments": {},
   "cell_type": "markdown",
   "metadata": {},
   "source": [
    "####  Training the model"
   ]
  },
  {
   "cell_type": "code",
   "execution_count": null,
   "metadata": {},
   "outputs": [],
   "source": [
    "# for i, cas_map in enumerate(zip(map_cascade_1, map_cascade_2)):\n",
    "#     dataset1 = MyData(path_to_file=255 * cas_map[0], mode='2img', mode_3d='cylinder', radius=5, reduce_fctor=1, need_help=False)\n",
    "#     dataset2 = MyData(path_to_file=255 * cas_map[1], mode='2img', mode_3d='cylinder', radius=2, reduce_fctor=1, need_help=False)\n",
    "\n",
    "#     dataset_list = [dataset1, dataset2]\n",
    "#     model = Net(dataset_list=dataset_list, lr=1e-3)\n",
    "#     model.to(device)\n",
    "#     # summary(model, input_size=(sum([len(x) for x in model.data_list]), 3))\n",
    "#     if i:\n",
    "#         model.load_state_dict(torch.load(f'./state_dcit/{i - 1}_cascade_1904.pt'))\n",
    "#     _ = model.test_model(model.data_list, need_plot=True)\n",
    "#     # dataset1.show_image()\n",
    "#     model.start_training(num_epochs=3e+3, my_weight=0.1)\n",
    "#     model.show_loss_items()\n",
    "#     model.save_state_dict(f'./state_dcit/{i}_cascade_1904.pt')\n",
    "#     input()\n",
    "\n",
    "for i, cas_map in enumerate(map_cascade_1):\n",
    "    dataset1 = MyData(path_to_file=255 * cas_map, mode='2img', mode_3d='cylinder', radius=5, reduce_fctor=1, need_help=False)\n",
    "\n",
    "    dataset_list = [dataset1]\n",
    "    model = Net(dataset_list=dataset_list, lr=1e-3)\n",
    "    model.to(device)\n",
    "    # summary(model, input_size=(sum([len(x) for x in model.data_list]), 3))\n",
    "    if i:\n",
    "        model.load_state_dict(torch.load(f'./state_dict/{i}_cascade_1904.pt'))\n",
    "    _ = model.test_model(model.data_list, need_plot=True)\n",
    "    # dataset1.show_image()\n",
    "    model.start_training(num_epochs=3e+3, my_weight=0.1)\n",
    "    model.show_loss_items()\n",
    "    model.save_state_dict(f'./state_dict/{i+1}_cascade_1904.pt')\n",
    "    input()"
   ]
  },
  {
   "attachments": {},
   "cell_type": "markdown",
   "metadata": {},
   "source": [
    "### Research of range of $f(x,y,z)$\n"
   ]
  },
  {
   "cell_type": "code",
   "execution_count": 7,
   "metadata": {},
   "outputs": [],
   "source": [
    "def make_data(mode_3d, radius):\n",
    "    x, y = torch.from_numpy(np.stack(np.indices((200, 400)), axis=2).reshape(-1, 2)).float().T\n",
    "    x -= x.mean()\n",
    "    x /= x.abs().max()\n",
    "    y -= y.mean()\n",
    "    y /= y.abs().max()\n",
    "    match mode_3d:\n",
    "        case 'sphere':\n",
    "            z = x\n",
    "            x = torch.cos(torch.pi * y) * (1 - z.pow(2)).pow(0.5)\n",
    "            y = torch.sin(torch.pi * y) * (1 - z.pow(2)).pow(0.5)\n",
    "            data_3d = radius * torch.stack((x, y, z), dim=1)\n",
    "        case 'cylinder':\n",
    "            z = x\n",
    "            x = torch.cos(torch.pi * y)\n",
    "            y = torch.sin(torch.pi * y)\n",
    "            data_3d = radius * torch.stack((x, y, z), dim=1)\n",
    "        case _:\n",
    "            print('Incorrect mode\\n')\n",
    "            raise SystemError(f'Incorrect mode: {mode_3d}\\n')\n",
    "    return data_3d"
   ]
  },
  {
   "cell_type": "code",
   "execution_count": 8,
   "metadata": {},
   "outputs": [
    {
     "data": {
      "application/vnd.jupyter.widget-view+json": {
       "model_id": "32316da8405a4b2da4c28991ce8961f0",
       "version_major": 2,
       "version_minor": 0
      },
      "text/plain": [
       "interactive(children=(FloatSlider(value=1.0, description='radius', max=20.0, step=0.01), Dropdown(description=…"
      ]
     },
     "metadata": {},
     "output_type": "display_data"
    }
   ],
   "source": [
    "@interact(radius=(0, 20, 0.01), mode_3d=['cylinder', 'sphere'])\n",
    "def my_homotopy(radius=1, mode_3d='cylinder'):\n",
    "    batch_list = [make_data(mode_3d=mode_3d, radius=radius)]\n",
    "    prediction_list = model.test_model(batch_list)\n",
    "    for prediction in prediction_list:\n",
    "        plt.figure(figsize=(12, 6))\n",
    "        plt.title(f'Visualization of the function $f(x,y,z)$ on {mode_3d} with $r={radius}$')\n",
    "        plt.imshow(prediction.view((200, 400)), cmap='PuOr', vmin=-1, vmax=1)"
   ]
  },
  {
   "attachments": {},
   "cell_type": "markdown",
   "metadata": {},
   "source": [
    "## Big Test"
   ]
  },
  {
   "attachments": {},
   "cell_type": "markdown",
   "metadata": {},
   "source": [
    "### Map Cascade"
   ]
  },
  {
   "attachments": {},
   "cell_type": "markdown",
   "metadata": {},
   "source": [
    "#### Downscale visualization"
   ]
  },
  {
   "cell_type": "code",
   "execution_count": 6,
   "metadata": {},
   "outputs": [
    {
     "data": {
      "application/vnd.jupyter.widget-view+json": {
       "model_id": "24db13eada8e419cbb2dedfa6bb2d22d",
       "version_major": 2,
       "version_minor": 0
      },
      "text/plain": [
       "interactive(children=(Dropdown(description='path_to_file', options=('./data\\\\sn1996k1904eng.abz', './data\\\\sn1…"
      ]
     },
     "metadata": {},
     "output_type": "display_data"
    }
   ],
   "source": [
    "def downscale_map(img_array, sq_size):\n",
    "    width, height = img_array.shape\n",
    "    tmp_arr = img_array.copy()\n",
    "    if width % sq_size:\n",
    "        tmp_arr = np.r_[img_array, np.zeros((sq_size - width % sq_size, height))]\n",
    "        width, height = tmp_arr.shape\n",
    "    if height % sq_size:\n",
    "        tmp_arr = np.c_[tmp_arr, np.zeros((sq_size - height % sq_size, width)).T]\n",
    "        width, height = tmp_arr.shape\n",
    "    result = np.array([np.hsplit(u, height / sq_size) for u in np.vsplit(tmp_arr, width / sq_size)]).reshape((-1, sq_size, sq_size))\n",
    "    final_result = np.array([x.sum() for x in result]).reshape((width // sq_size, height // sq_size)) == 0\n",
    "    return final_result\n",
    "\n",
    "@interact(path_to_file=glob.glob('./data/*.abz'))\n",
    "def s_(path_to_file):\n",
    "    dataset1 = MyData(path_to_file=path_to_file, mode='abz', mode_3d='cylinder', radius=10, reduce_fctor=1, need_help=False)\n",
    "    normal_img_array_1 = 1 - np.array(dataset1.img_array, dtype='float64') / 255.\n",
    "    map_cascade_1 = [downscale_map(normal_img_array_1, sq_size=2 ** x) for x in [7, 6, 5, 3, 2]]\n",
    "\n",
    "    # convolve = np.vectorize(np.convolve, signature='(n),(m)->(k)')\n",
    "    # map_cascade = [(1 - convolve(convolve(normal_img_array, np.ones((i))).T, np.ones((i))).T) > 0 for i in range(200, 0, -50)]\n",
    "\n",
    "    for cas_map in map_cascade_1:\n",
    "        plt.imshow(cas_map, cmap=\"gray\")\n",
    "        plt.title(f'{cas_map.shape}')\n",
    "        plt.show()"
   ]
  },
  {
   "attachments": {},
   "cell_type": "markdown",
   "metadata": {},
   "source": [
    "#### Loop for training many models"
   ]
  },
  {
   "cell_type": "code",
   "execution_count": 48,
   "metadata": {},
   "outputs": [],
   "source": [
    "def big_test(path_to_test='./BIG_TEST_MAP_CASCADE/'):\n",
    "    for path_to_file in glob.glob('./data/*.abz'):\n",
    "        filename = path_to_file.split('\\\\')[-1]\n",
    "        cur_dir = path_to_test + filename[:-4]\n",
    "        os.makedirs(cur_dir, exist_ok=True)\n",
    "        \n",
    "        for radius in [1., 2., 5., 10., 15., 20.]:\n",
    "            cur_dir = path_to_test + filename[:-4] + f'/radius_{radius}'\n",
    "            os.makedirs(cur_dir, exist_ok=True)\n",
    "\n",
    "            dataset1 = MyData(path_to_file=path_to_file, mode='abz', mode_3d='cylinder', radius=radius, reduce_fctor=1, need_help=False)\n",
    "            dataset_list = [dataset1]\n",
    "            normal_img_array = 1 - np.array(dataset1.img_array, dtype='float64') / 255.\n",
    "            map_cascade = [downscale_map(normal_img_array, sq_size=2**x) for x in [7, 6, 5, 3, 2]]\n",
    "            \n",
    "            for i, cas_map in enumerate(map_cascade):\n",
    "                dataset1 = MyData(path_to_file=255 * cas_map, mode='2img', mode_3d='cylinder', radius=radius, reduce_fctor=1, need_help=False)\n",
    "\n",
    "                dataset_list = [dataset1]\n",
    "                model = Net(dataset_list=dataset_list, lr=1e-3)\n",
    "                model.to(device)\n",
    "                # summary(model, input_size=(sum([len(x) for x in model.data_list]), 3))\n",
    "\n",
    "                if i:\n",
    "                    model.load_state_dict(torch.load(cur_dir+f'/{i}_state_dict.pt'))\n",
    "                # _ = model.test_model(model.data_list, need_plot=True)\n",
    "                # dataset1.show_image()\n",
    "                model.start_training(num_epochs=5e+3, my_weight=0.1, need_plot=False, need_save=False)\n",
    "                model.save_state_dict(cur_dir+f'/{i+1}_state_dict.pt')\n",
    "        \n",
    "# big_test()"
   ]
  },
  {
   "attachments": {},
   "cell_type": "markdown",
   "metadata": {},
   "source": [
    "#### Show results"
   ]
  },
  {
   "cell_type": "code",
   "execution_count": null,
   "metadata": {},
   "outputs": [],
   "source": [
    "for map_name in os.listdir('./BIG_TEST_MAP_CASCADE/'):\n",
    "    grid = plt.GridSpec(4, 3)\n",
    "    plt.figure(figsize=(15, 15))\n",
    "    # plt.suptitle(f'Visualization of the function $f(x,y,z)$ on {map_name}')\n",
    "\n",
    "    for i, radius_path in enumerate(os.listdir(f'./BIG_TEST_MAP_CASCADE/{map_name}')):\n",
    "        radius = float(radius_path.split('_')[-1])\n",
    "\n",
    "        dataset = MyData(path_to_file=f'./data/{map_name}.abz', mode='abz', mode_3d='cylinder', radius=radius, reduce_fctor=1, need_help=False)\n",
    "        model=Net(dataset_list=[dataset], lr=1e-3).to(device)\n",
    "        model.load_state_dict(torch.load(f'./BIG_TEST_MAP_CASCADE/{map_name}/{radius_path}/5_state_dict.pt'))\n",
    "        with torch.no_grad():\n",
    "            output_list = [model(input.to(device)).cpu().detach() for input in model.data_list]\n",
    "            loss = model.compute_loss(output_list, my_weight=0.1)\n",
    "        plt.subplot(grid[i // 3, i % 3])\n",
    "        plt.imshow(output_list[0].view(dataset.img_array.shape), cmap='PuOr', vmin=-1, vmax=1)\n",
    "        plt.title(f'Radius = {radius}, Loss = {loss:.3f}')\n",
    "    plt.subplot(grid[2, :])\n",
    "    # plt.title(f'Target map {map_name}')\n",
    "    path_to_target_img = f'./data/{map_name}.gif'\n",
    "    plt.imshow(mpimg.imread(path_to_target_img), cmap='gray')\n",
    "    plt.axis('off')\n",
    "    plt.subplot(grid[3, :])\n",
    "    plt.title(f'Original map {map_name}')\n",
    "    plt.imshow(dataset.img_array, cmap='gray')\n",
    "    \n",
    "    os.makedirs('./BIG_TEST_MAP_CASCADE_results', exist_ok=True)\n",
    "    plt.savefig(f'./BIG_TEST_MAP_CASCADE_results/{map_name}.png', facecolor='white')\n"
   ]
  },
  {
   "attachments": {},
   "cell_type": "markdown",
   "metadata": {},
   "source": [
    "#### Make table of results"
   ]
  },
  {
   "cell_type": "code",
   "execution_count": 69,
   "metadata": {},
   "outputs": [],
   "source": [
    "res_dict = {}\n",
    "for map_name in os.listdir('./BIG_TEST_MAP_CASCADE/'):\n",
    "    res_dict[map_name] = {}\n",
    "    for radius_path in os.listdir(f'./BIG_TEST_MAP_CASCADE/{map_name}'):\n",
    "        radius = float(radius_path.split('_')[-1])\n",
    "        dataset = MyData(path_to_file=f'./data/{map_name}.abz', mode='abz', mode_3d='cylinder', radius=radius, reduce_fctor=1, need_help=False)\n",
    "        model=Net(dataset_list=[dataset], lr=1e-3).to(device)\n",
    "        model.load_state_dict(torch.load(f'./BIG_TEST_MAP_CASCADE/{map_name}/{radius_path}/5_state_dict.pt'))\n",
    "        with torch.no_grad():\n",
    "            output_list = [model(input.to(device)).cpu().detach() for input in model.data_list]\n",
    "            loss = model.compute_loss(output_list, my_weight=0.1)\n",
    "        res_dict[map_name][radius] = loss.numpy()"
   ]
  },
  {
   "cell_type": "code",
   "execution_count": 70,
   "metadata": {},
   "outputs": [
    {
     "data": {
      "text/html": [
       "<div>\n",
       "<style scoped>\n",
       "    .dataframe tbody tr th:only-of-type {\n",
       "        vertical-align: middle;\n",
       "    }\n",
       "\n",
       "    .dataframe tbody tr th {\n",
       "        vertical-align: top;\n",
       "    }\n",
       "\n",
       "    .dataframe thead th {\n",
       "        text-align: right;\n",
       "    }\n",
       "</style>\n",
       "<table border=\"1\" class=\"dataframe\">\n",
       "  <thead>\n",
       "    <tr style=\"text-align: right;\">\n",
       "      <th></th>\n",
       "      <th>1.0</th>\n",
       "      <th>2.0</th>\n",
       "      <th>5.0</th>\n",
       "      <th>10.0</th>\n",
       "      <th>15.0</th>\n",
       "      <th>20.0</th>\n",
       "    </tr>\n",
       "  </thead>\n",
       "  <tbody>\n",
       "    <tr>\n",
       "      <th>sn1996k1904eng</th>\n",
       "      <td>0.17910649</td>\n",
       "      <td>0.13343988</td>\n",
       "      <td>0.16337517</td>\n",
       "      <td>0.12618695</td>\n",
       "      <td>0.1429933</td>\n",
       "      <td>0.21951117</td>\n",
       "    </tr>\n",
       "    <tr>\n",
       "      <th>sn1996k1905eng</th>\n",
       "      <td>0.3080644</td>\n",
       "      <td>0.30417284</td>\n",
       "      <td>0.17025696</td>\n",
       "      <td>0.24258286</td>\n",
       "      <td>0.1130567</td>\n",
       "      <td>0.08923017</td>\n",
       "    </tr>\n",
       "    <tr>\n",
       "      <th>sn1996k1906eng</th>\n",
       "      <td>0.18068337</td>\n",
       "      <td>0.11606892</td>\n",
       "      <td>0.19258796</td>\n",
       "      <td>0.09723622</td>\n",
       "      <td>0.17927095</td>\n",
       "      <td>0.0938478</td>\n",
       "    </tr>\n",
       "    <tr>\n",
       "      <th>sn1996k1907eng</th>\n",
       "      <td>0.23718216</td>\n",
       "      <td>0.37504908</td>\n",
       "      <td>0.2142726</td>\n",
       "      <td>0.3711627</td>\n",
       "      <td>0.2098669</td>\n",
       "      <td>0.19954531</td>\n",
       "    </tr>\n",
       "    <tr>\n",
       "      <th>sn1996k1908eng</th>\n",
       "      <td>0.13678554</td>\n",
       "      <td>0.15115261</td>\n",
       "      <td>0.07683112</td>\n",
       "      <td>0.08129287</td>\n",
       "      <td>0.6223429</td>\n",
       "      <td>0.078284696</td>\n",
       "    </tr>\n",
       "    <tr>\n",
       "      <th>sn1996k1909eng</th>\n",
       "      <td>0.114870355</td>\n",
       "      <td>0.25997916</td>\n",
       "      <td>0.25830814</td>\n",
       "      <td>0.13832031</td>\n",
       "      <td>0.2772987</td>\n",
       "      <td>0.09218259</td>\n",
       "    </tr>\n",
       "    <tr>\n",
       "      <th>sn1996k1910eng</th>\n",
       "      <td>0.7841412</td>\n",
       "      <td>0.7093341</td>\n",
       "      <td>0.16984908</td>\n",
       "      <td>0.16212864</td>\n",
       "      <td>0.16853276</td>\n",
       "      <td>0.16014926</td>\n",
       "    </tr>\n",
       "    <tr>\n",
       "      <th>sn1996k1911eng</th>\n",
       "      <td>0.21512854</td>\n",
       "      <td>0.17002791</td>\n",
       "      <td>0.17895973</td>\n",
       "      <td>0.13767628</td>\n",
       "      <td>0.21002138</td>\n",
       "      <td>0.724503</td>\n",
       "    </tr>\n",
       "    <tr>\n",
       "      <th>sn1996k1912eng</th>\n",
       "      <td>0.16261458</td>\n",
       "      <td>0.19972321</td>\n",
       "      <td>0.25447634</td>\n",
       "      <td>0.14700937</td>\n",
       "      <td>0.15166387</td>\n",
       "      <td>0.14492929</td>\n",
       "    </tr>\n",
       "    <tr>\n",
       "      <th>sn1996k1913eng</th>\n",
       "      <td>0.20427893</td>\n",
       "      <td>0.1648998</td>\n",
       "      <td>0.70845187</td>\n",
       "      <td>0.14818043</td>\n",
       "      <td>0.14949252</td>\n",
       "      <td>0.17160212</td>\n",
       "    </tr>\n",
       "    <tr>\n",
       "      <th>sn1996k1914eng</th>\n",
       "      <td>0.20163186</td>\n",
       "      <td>0.20918632</td>\n",
       "      <td>0.20481537</td>\n",
       "      <td>0.2343524</td>\n",
       "      <td>0.19964011</td>\n",
       "      <td>0.2335117</td>\n",
       "    </tr>\n",
       "    <tr>\n",
       "      <th>sn1996k1915eng</th>\n",
       "      <td>0.21555819</td>\n",
       "      <td>0.12026204</td>\n",
       "      <td>0.114167094</td>\n",
       "      <td>0.1830027</td>\n",
       "      <td>0.15539491</td>\n",
       "      <td>0.20421231</td>\n",
       "    </tr>\n",
       "    <tr>\n",
       "      <th>sn1996k1916eng</th>\n",
       "      <td>0.15007041</td>\n",
       "      <td>0.18576176</td>\n",
       "      <td>0.21774991</td>\n",
       "      <td>0.18033132</td>\n",
       "      <td>0.21610649</td>\n",
       "      <td>0.15402788</td>\n",
       "    </tr>\n",
       "    <tr>\n",
       "      <th>sn1996k1917eng</th>\n",
       "      <td>0.23777762</td>\n",
       "      <td>0.12360872</td>\n",
       "      <td>0.05299838</td>\n",
       "      <td>0.044896398</td>\n",
       "      <td>0.06307441</td>\n",
       "      <td>0.045893002</td>\n",
       "    </tr>\n",
       "    <tr>\n",
       "      <th>sn1997k1918eng</th>\n",
       "      <td>0.19599022</td>\n",
       "      <td>0.6741183</td>\n",
       "      <td>0.1434129</td>\n",
       "      <td>0.7430661</td>\n",
       "      <td>0.12729317</td>\n",
       "      <td>0.1323724</td>\n",
       "    </tr>\n",
       "    <tr>\n",
       "      <th>sn1997k1919eng</th>\n",
       "      <td>0.16802211</td>\n",
       "      <td>0.1391468</td>\n",
       "      <td>0.18798731</td>\n",
       "      <td>0.23025705</td>\n",
       "      <td>0.11855997</td>\n",
       "      <td>0.17524159</td>\n",
       "    </tr>\n",
       "    <tr>\n",
       "      <th>sn1997k1920eng</th>\n",
       "      <td>0.24340516</td>\n",
       "      <td>0.19183657</td>\n",
       "      <td>0.22445473</td>\n",
       "      <td>0.18916051</td>\n",
       "      <td>0.2711989</td>\n",
       "      <td>0.27763653</td>\n",
       "    </tr>\n",
       "    <tr>\n",
       "      <th>sn1997k1921eng</th>\n",
       "      <td>0.25813</td>\n",
       "      <td>0.22943693</td>\n",
       "      <td>0.7166133</td>\n",
       "      <td>0.23250762</td>\n",
       "      <td>0.25143185</td>\n",
       "      <td>0.28193876</td>\n",
       "    </tr>\n",
       "  </tbody>\n",
       "</table>\n",
       "</div>"
      ],
      "text/plain": [
       "                       1.0         2.0          5.0          10.0        15.0  \\\n",
       "sn1996k1904eng   0.17910649  0.13343988   0.16337517   0.12618695   0.1429933   \n",
       "sn1996k1905eng    0.3080644  0.30417284   0.17025696   0.24258286   0.1130567   \n",
       "sn1996k1906eng   0.18068337  0.11606892   0.19258796   0.09723622  0.17927095   \n",
       "sn1996k1907eng   0.23718216  0.37504908    0.2142726    0.3711627   0.2098669   \n",
       "sn1996k1908eng   0.13678554  0.15115261   0.07683112   0.08129287   0.6223429   \n",
       "sn1996k1909eng  0.114870355  0.25997916   0.25830814   0.13832031   0.2772987   \n",
       "sn1996k1910eng    0.7841412   0.7093341   0.16984908   0.16212864  0.16853276   \n",
       "sn1996k1911eng   0.21512854  0.17002791   0.17895973   0.13767628  0.21002138   \n",
       "sn1996k1912eng   0.16261458  0.19972321   0.25447634   0.14700937  0.15166387   \n",
       "sn1996k1913eng   0.20427893   0.1648998   0.70845187   0.14818043  0.14949252   \n",
       "sn1996k1914eng   0.20163186  0.20918632   0.20481537    0.2343524  0.19964011   \n",
       "sn1996k1915eng   0.21555819  0.12026204  0.114167094    0.1830027  0.15539491   \n",
       "sn1996k1916eng   0.15007041  0.18576176   0.21774991   0.18033132  0.21610649   \n",
       "sn1996k1917eng   0.23777762  0.12360872   0.05299838  0.044896398  0.06307441   \n",
       "sn1997k1918eng   0.19599022   0.6741183    0.1434129    0.7430661  0.12729317   \n",
       "sn1997k1919eng   0.16802211   0.1391468   0.18798731   0.23025705  0.11855997   \n",
       "sn1997k1920eng   0.24340516  0.19183657   0.22445473   0.18916051   0.2711989   \n",
       "sn1997k1921eng      0.25813  0.22943693    0.7166133   0.23250762  0.25143185   \n",
       "\n",
       "                       20.0  \n",
       "sn1996k1904eng   0.21951117  \n",
       "sn1996k1905eng   0.08923017  \n",
       "sn1996k1906eng    0.0938478  \n",
       "sn1996k1907eng   0.19954531  \n",
       "sn1996k1908eng  0.078284696  \n",
       "sn1996k1909eng   0.09218259  \n",
       "sn1996k1910eng   0.16014926  \n",
       "sn1996k1911eng     0.724503  \n",
       "sn1996k1912eng   0.14492929  \n",
       "sn1996k1913eng   0.17160212  \n",
       "sn1996k1914eng    0.2335117  \n",
       "sn1996k1915eng   0.20421231  \n",
       "sn1996k1916eng   0.15402788  \n",
       "sn1996k1917eng  0.045893002  \n",
       "sn1997k1918eng    0.1323724  \n",
       "sn1997k1919eng   0.17524159  \n",
       "sn1997k1920eng   0.27763653  \n",
       "sn1997k1921eng   0.28193876  "
      ]
     },
     "execution_count": 70,
     "metadata": {},
     "output_type": "execute_result"
    }
   ],
   "source": [
    "df = pd.DataFrame.from_dict(res_dict, orient='index', columns=[1., 2., 5., 10., 15., 20.])\n",
    "df"
   ]
  },
  {
   "cell_type": "code",
   "execution_count": null,
   "metadata": {},
   "outputs": [],
   "source": [
    "def plot_df_by_rows(df):\n",
    "    grid = plt.GridSpec(df.shape[0], 1)\n",
    "    plt.figure(figsize=(10, 100))\n",
    "    for i, row in enumerate(df.iterrows()):\n",
    "        plt.subplot(grid[i, 0])\n",
    "        plt.title(row[0])\n",
    "        plt.plot(row[1].index, row[1].values)\n",
    "        plt.xlabel('Radius')\n",
    "        plt.ylabel('Loss')\n",
    "    plt.show()\n",
    "plot_df_by_rows(df)"
   ]
  },
  {
   "attachments": {},
   "cell_type": "markdown",
   "metadata": {},
   "source": [
    "# 3: Loss parameters optimization"
   ]
  },
  {
   "attachments": {},
   "cell_type": "markdown",
   "metadata": {},
   "source": [
    "## Neural network approach"
   ]
  },
  {
   "attachments": {},
   "cell_type": "markdown",
   "metadata": {},
   "source": [
    "### Preproccessing"
   ]
  },
  {
   "attachments": {},
   "cell_type": "markdown",
   "metadata": {},
   "source": [
    "#### Definition of the splitting map function"
   ]
  },
  {
   "cell_type": "code",
   "execution_count": 2,
   "metadata": {},
   "outputs": [],
   "source": [
    "def split_map(path, x_parts, scale_coef, color, need_plot=False):\n",
    "\n",
    "    img = np.array(ImageOps.grayscale(Image.open(path))).astype(int)\n",
    "    width, height = img.shape\n",
    "    \n",
    "    if need_plot:\n",
    "        plt.figure(figsize=(20, 10))\n",
    "        plt.subplot(1, 2, 1)\n",
    "        plt.imshow(img, cmap='gray')\n",
    "\n",
    "    y_parts = int(x_parts * height / width)\n",
    "    dx = width // x_parts\n",
    "    dy = height // y_parts\n",
    "    delta = int(scale_coef * min(dx, dy) // 2)\n",
    "\n",
    "    for x in range(dx // 2, width, dx):\n",
    "        for y in range((1 + (x - dx // 2) // dx % 2) * dy // 2, height, dy):\n",
    "        # for y in range(dy // 2, height, dy):\n",
    "            img[x-delta:x+delta, y-delta:y+delta] = color\n",
    "    \n",
    "    if need_plot:\n",
    "        plt.subplot(1, 2, 2)\n",
    "        plt.imshow(img, cmap='gray')\n",
    "        print(f'width={width}\\nheight={height}\\nx_parts = {x_parts}\\ny_parts = {y_parts}\\ndelta = {delta}\\ndx={dx}\\ndy={dy}')\n",
    "    return img"
   ]
  },
  {
   "attachments": {},
   "cell_type": "markdown",
   "metadata": {},
   "source": [
    "#### Split map interactively"
   ]
  },
  {
   "cell_type": "code",
   "execution_count": 11,
   "metadata": {},
   "outputs": [
    {
     "data": {
      "application/vnd.jupyter.widget-view+json": {
       "model_id": "c8d71dcd00934616aade59d13ecf85f6",
       "version_major": 2,
       "version_minor": 0
      },
      "text/plain": [
       "interactive(children=(Dropdown(description='path', options=('./imgs/target0\\\\0001.png', './imgs/target0\\\\0002.…"
      ]
     },
     "metadata": {},
     "output_type": "display_data"
    }
   ],
   "source": [
    "@interact(path=glob.glob(PATH_TO_TARGET0+'*'), x_parts=(2, 10), scale_coef=(0.5, 1, 0.05), color=(150, 255))\n",
    "def real_time_split(path=PATH_TO_TARGET0+'0001.png', x_parts=5, scale_coef=0.85, color=255):\n",
    "    _ = split_map(path=path, x_parts=x_parts, scale_coef=scale_coef, color=color, need_plot=True)"
   ]
  },
  {
   "attachments": {},
   "cell_type": "markdown",
   "metadata": {},
   "source": [
    "#### "
   ]
  },
  {
   "cell_type": "code",
   "execution_count": null,
   "metadata": {},
   "outputs": [],
   "source": [
    "from color_script import get_result\n",
    "\n",
    "for img_name in os.listdir(PATH_TO_TARGET0):\n",
    "    _, ans = get_result(PATH_TO_TARGET0 + img_name)\n",
    "    ans.save(PATH_TO_TARGET + img_name)\n",
    "    \n",
    "    img = split_map(path=PATH_TO_TARGET0 + img_name, x_parts=5, scale_coef=0.85, color=255,  need_plot=False)\n",
    "    plt.imsave(PATH_TO_INPUT + img_name, img, cmap='gray')"
   ]
  },
  {
   "attachments": {},
   "cell_type": "markdown",
   "metadata": {},
   "source": [
    "## Graphical approach"
   ]
  },
  {
   "attachments": {},
   "cell_type": "markdown",
   "metadata": {},
   "source": [
    "### Dataset class"
   ]
  },
  {
   "cell_type": "code",
   "execution_count": 4,
   "metadata": {},
   "outputs": [],
   "source": [
    "class InputImagesInfo(torch.utils.data.Dataset):\n",
    "    def __init__(self, path_to_inputs, path_to_targets):\n",
    "        self.info_dict = {'img_list': [],\n",
    "                            'width_list': [],\n",
    "                            'height_list': [],\n",
    "                            'total_pixel_list': [],\n",
    "                            'bound_length_list': [],\n",
    "                            'mask_list': [],\n",
    "                            'bound_mask_list': [],\n",
    "                            'row_numbers_list': [],}\n",
    "        for (input_path, target_path) in zip(path_to_inputs, path_to_targets):\n",
    "            img = np.array(ImageOps.grayscale(Image.open(input_path))).astype(int)\n",
    "            width, height = img.shape\n",
    "            \n",
    "            total_pixel = width * height\n",
    "            bound_length = len(img.reshape(1, -1) < 255)\n",
    "            mask = img.reshape(1, -1) == 255\n",
    "            bound_mask = img.reshape(1, -1) < 255\n",
    "            row_numbers = 1 * height\n",
    "            \n",
    "            img = np.array(ImageOps.grayscale(Image.open(target_path))).astype(int)\n",
    "            img[img == 90] = -1\n",
    "            img[img == 190] = 1\n",
    "            img = torch.from_numpy(img)\n",
    "\n",
    "            for key in self.info_dict.keys():\n",
    "                self.info_dict[key].append(locals()[key[:-5]])\n",
    "\n",
    "    def __len__(self):\n",
    "        return len(self.info_dict['img_list'])\n",
    "\n",
    "    def __getitem__(self, idx):\n",
    "        return [value[idx] for value in self.info_dict.values()]"
   ]
  },
  {
   "cell_type": "code",
   "execution_count": 5,
   "metadata": {},
   "outputs": [],
   "source": [
    "batch = InputImagesInfo(path_to_inputs=[PATH_TO_INPUT + '0001.png'],\n",
    "                         path_to_targets=[PATH_TO_TARGET + '0001.png'])"
   ]
  },
  {
   "cell_type": "code",
   "execution_count": 12,
   "metadata": {},
   "outputs": [
    {
     "name": "stdout",
     "output_type": "stream",
     "text": [
      "1\n"
     ]
    },
    {
     "data": {
      "text/plain": [
       "<matplotlib.colorbar.Colorbar at 0x1e18ea70fd0>"
      ]
     },
     "execution_count": 12,
     "metadata": {},
     "output_type": "execute_result"
    },
    {
     "data": {
      "image/png": "[encoded data removed]",
      "text/plain": [
       "<Figure size 432x288 with 2 Axes>"
      ]
     },
     "metadata": {
      "needs_background": "light"
     },
     "output_type": "display_data"
    }
   ],
   "source": [
    "print(len(batch))\n",
    "plt.imshow(batch[0][0], cmap='PuOr')\n",
    "plt.colorbar()"
   ]
  },
  {
   "attachments": {},
   "cell_type": "markdown",
   "metadata": {},
   "source": [
    "### Calculating of the integrals in loss which are not dependent on the weights"
   ]
  },
  {
   "cell_type": "code",
   "execution_count": 12,
   "metadata": {},
   "outputs": [],
   "source": [
    "loss, f_abs_integral, bound_integral, orientation_integral, f_integral = torch.zeros(5)\n",
    "integrals_dict = {'f_abs_integral': [],\n",
    "                    'bound_integral': [],\n",
    "                    'f_integral': []}\n",
    "\n",
    "for img, width, height, total_pixel, bound_length, mask, bound_mask, row_numbers in batch:\n",
    "    img = img.flatten()\n",
    "    \n",
    "    f_integral = img.sum().abs() / total_pixel\n",
    "    f_abs_integral = 1 - img[mask].abs().sum() / (total_pixel - bound_length) # хочу НЕ границу +-1\n",
    "    bound_integral = img[bound_mask].pow(2).sum() / bound_length # хочу на границе 0\n",
    "\n",
    "    for key in integrals_dict.keys():\n",
    "        integrals_dict[key].append(locals()[key])\n",
    "        "
   ]
  },
  {
   "cell_type": "code",
   "execution_count": 13,
   "metadata": {},
   "outputs": [
    {
     "data": {
      "text/plain": [
       "{'f_abs_integral': [tensor(0.0379)],\n",
       " 'bound_integral': [tensor(0.)],\n",
       " 'f_integral': [tensor(0.1589)]}"
      ]
     },
     "execution_count": 13,
     "metadata": {},
     "output_type": "execute_result"
    }
   ],
   "source": [
    "integrals_dict"
   ]
  },
  {
   "cell_type": "code",
   "execution_count": 14,
   "metadata": {},
   "outputs": [],
   "source": [
    "def compute_loss(weights_list): \n",
    "    f_integral_weight, f_abs_integral_weight, bound_integral_weight = weights_list\n",
    "    # print(f_integral_weight, f_abs_integral_weight, bound_integral_weight)\n",
    "    # f_abs_integral_weight = 0\n",
    "    local_vars = locals()\n",
    "    # print(locals()[key+'_weight'])\n",
    "    res = sum([sum(local_vars[key+'_weight'] * np.array(integrals_dict[key])) for key in integrals_dict.keys()])\n",
    "    return res\n",
    "    # return f_integral_weight*sum(integrals_dict['f_integral']) + f_abs_integral_weight*sum(integrals_dict['f_abs_integral']) + bound_integral_weight*sum(integrals_dict['bound_integral'])"
   ]
  },
  {
   "attachments": {},
   "cell_type": "markdown",
   "metadata": {},
   "source": [
    "### Tests"
   ]
  },
  {
   "attachments": {},
   "cell_type": "markdown",
   "metadata": {},
   "source": [
    "#### Interactive"
   ]
  },
  {
   "cell_type": "code",
   "execution_count": 15,
   "metadata": {},
   "outputs": [
    {
     "data": {
      "application/vnd.jupyter.widget-view+json": {
       "model_id": "3e18aa75528b4de7b3f84a124a7e64d4",
       "version_major": 2,
       "version_minor": 0
      },
      "text/plain": [
       "interactive(children=(FloatSlider(value=1.0, description='f_integral_weight', max=10.0, step=0.01), FloatSlide…"
      ]
     },
     "metadata": {},
     "output_type": "display_data"
    }
   ],
   "source": [
    "@interact(f_integral_weight=(0, 10, 0.01), f_abs_integral_weight=(0, 10, 0.01), bound_integral_weight=(0, 10, 0.01))\n",
    "def get_result(f_integral_weight=1., f_abs_integral_weight=1., bound_integral_weight=1.):\n",
    "    w1, w2, w3 = f_integral_weight, f_abs_integral_weight, bound_integral_weight\n",
    "    print(\"loss(f_integral_weight={}, f_abs_integral_weight={}, bound_integral_weight={}) is {}\".format(w1, w2, w3, compute_loss([w1,w2,w3])))"
   ]
  },
  {
   "attachments": {},
   "cell_type": "markdown",
   "metadata": {},
   "source": [
    "#### 2D map"
   ]
  },
  {
   "cell_type": "code",
   "execution_count": 16,
   "metadata": {},
   "outputs": [
    {
     "data": {
      "image/png": "[encoded data removed]",
      "text/plain": [
       "<Figure size 432x288 with 2 Axes>"
      ]
     },
     "metadata": {
      "needs_background": "light"
     },
     "output_type": "display_data"
    }
   ],
   "source": [
    "x = y = np.linspace(0, 2, 51)\n",
    "z = np.array([compute_loss([i, j, 1]) for j in y for i in x])\n",
    "Z = z.reshape(51, 51)\n",
    "plt.imshow(Z, interpolation='bilinear', cmap='PuOr')\n",
    "plt.colorbar()\n",
    "plt.show()"
   ]
  },
  {
   "attachments": {},
   "cell_type": "markdown",
   "metadata": {},
   "source": [
    "## Analitycally approach"
   ]
  },
  {
   "attachments": {},
   "cell_type": "markdown",
   "metadata": {},
   "source": [
    "#### The loss function depends on the integrals $I_i$ and the corresponding weights $w_i$ and is of the form $$\\mathcal{L} = \\text{Loss}(w_1, \\ldots, w_n, I_1, \\ldots, I_n) = \\sum_1^n w_i \\times I_i$$ But $I_i$ does not depend on the weights $w_i$. Therefore, $$\\frac{\\partial I_i}{\\partial w_j} = 0$$ $$\\frac{\\partial\\mathcal{L}}{\\partial w_i} = I_i$$ It means that the loss function has no singular points."
   ]
  },
  {
   "attachments": {},
   "cell_type": "markdown",
   "metadata": {},
   "source": [
    "# 4: Given data research"
   ]
  },
  {
   "cell_type": "code",
   "execution_count": null,
   "metadata": {},
   "outputs": [],
   "source": [
    "dataset1.show_pm_list()"
   ]
  },
  {
   "cell_type": "code",
   "execution_count": null,
   "metadata": {},
   "outputs": [],
   "source": [
    "a = [(el-0.5).sum() for el in dataset1.pm_list]\n",
    "a"
   ]
  },
  {
   "cell_type": "code",
   "execution_count": null,
   "metadata": {},
   "outputs": [],
   "source": [
    "with open('./data/sn1996k1904eng.abz') as f:\n",
    "    lines = [line.rstrip() for line in f]\n",
    "    my_shape = [int(x) for x in lines[0].split()[-6:-4]]\n",
    "    my_shape.reverse()\n",
    "    width, height = my_shape[0], my_shape[1]\n",
    "    img_array = np.full(shape=my_shape, fill_value=255)\n",
    "    for line in lines[3:]:\n",
    "        line = [int(x) for x in line.split()]\n",
    "        if len(line) == 3:\n",
    "            y = line[0]\n",
    "            x1 = line[1]\n",
    "            x2 = -line[2]\n",
    "            for i in range(x1, x2 + 1):\n",
    "                img_array[min(y, width - 1), min(i, height - 1)] = 0\n",
    "        elif len(line) == 5:\n",
    "            y = line[0]\n",
    "            x1 = line[1]\n",
    "            x2 = -line[2]\n",
    "            x3 = line[3]\n",
    "            x4 = -line[4]\n",
    "            for i in range(x1, x2 + 1):\n",
    "                img_array[min(y, width - 1), min(i, height - 1)] = 0\n",
    "            for i in range(x3, x4 + 1):\n",
    "                img_array[min(y, width - 1), min(i, height - 1)] = 0\n",
    "        elif len(line) > 6:\n",
    "            vol_number = line[0]\n",
    "            plt.imshow(img_array, cmap='gray')\n",
    "            plt.title(f'{vol_number}')\n",
    "            plt.show()\n",
    "            \n",
    "    \n",
    "plt.imshow(img_array, cmap='gray')"
   ]
  },
  {
   "cell_type": "code",
   "execution_count": null,
   "metadata": {},
   "outputs": [],
   "source": [
    "out_list = [dataset1.img_array.reshape(-1, 1) / 255]\n",
    "out_list"
   ]
  },
  {
   "attachments": {},
   "cell_type": "markdown",
   "metadata": {},
   "source": [
    "# 5: Closed curves"
   ]
  },
  {
   "cell_type": "code",
   "execution_count": 11,
   "metadata": {},
   "outputs": [],
   "source": [
    "# PLot random gaussian field 2d\n",
    "from scipy.stats import multivariate_normal\n",
    "def plot_gaussian_field_2d(mean, cov, n=100):\n",
    "    x = np.linspace(-1, 1, n)\n",
    "    y = np.linspace(-1, 1, n)\n",
    "    X, Y = np.meshgrid(x, y)\n",
    "    pos = np.empty(X.shape + (2,))\n",
    "    pos[:, :, 0] = X\n",
    "    pos[:, :, 1] = Y\n",
    "    rv = multivariate_normal(mean, cov)\n",
    "    plt.contourf(X, Y, rv.pdf(pos))\n",
    "    plt.colorbar()\n",
    "    plt.show()\n",
    "\n",
    "\n"
   ]
  },
  {
   "cell_type": "code",
   "execution_count": null,
   "metadata": {},
   "outputs": [],
   "source": [
    "@interact(mean1=(-1, 1, 0.01), mean2=(-1, 1, 0.01), cov11=(0, 1, 0.01), cov12=(-1, 1, 0.01), cov21=(-1, 1, 0.01), cov22=(0, 1, 0.01))\n",
    "def plot_gaussian_field(mean1=0, mean2=0, cov11=1, cov12=0, cov21=0, cov22=1):\n",
    "    mean = np.array([mean1, mean2])\n",
    "    cov = np.array([[cov11, cov12], [cov21, cov22]])\n",
    "    plot_gaussian_field_2d(mean, cov)\n",
    "    "
   ]
  },
  {
   "cell_type": "code",
   "execution_count": 3,
   "metadata": {},
   "outputs": [],
   "source": [
    "# plot random surface in plotly\n",
    "\n",
    "import plotly.graph_objects as go\n",
    "import numpy as np\n",
    "d = np.random.randn(10, 10)\n"
   ]
  },
  {
   "cell_type": "code",
   "execution_count": 7,
   "metadata": {},
   "outputs": [
    {
     "data": {
      "application/vnd.plotly.v1+json": {
       "config": {
        "plotlyServerURL": "https://plot.ly"
       },
       "data": [
        {
         "type": "surface",
         "z": [
          [
           0.4240074082544252,
           -0.18776011122351213,
           1.885134296858438,
           -0.4310329819686672,
           -0.9406612246203083,
           -0.436051757050282,
           -0.09845949103479526,
           -0.6015715170066096,
           -1.0809098406995234,
           -0.8198712514362575
          ],
          [
           -1.1681694124154713,
           -0.17941239778263865,
           -1.0468115091251649,
           -1.3467942502435681,
           0.49934680660691666,
           0.18656466601171573,
           -1.7550022308584157,
           -0.6669507008312227,
           0.1509301512727737,
           -0.6333607313238568
          ],
          [
           0.007594185975534924,
           -0.8584233325319135,
           -1.5565882671111744,
           -0.26185493689507233,
           -0.2511845338947463,
           -0.8541906431553572,
           0.7498907242218197,
           -2.504528918279784,
           -1.1260877828332685,
           -0.32486076796485663
          ],
          [
           -0.8688086300404725,
           -0.1912858411336182,
           -0.02779557796136175,
           -0.005747732041453726,
           0.16488957176358351,
           -0.1921087282274245,
           1.3979291934600269,
           0.05533990330331587,
           -0.13565513999713144,
           -1.1563678971062166
          ],
          [
           2.1783463075547544,
           0.5365948988128033,
           1.1201745162072352,
           0.32875769504597674,
           0.8543276775304424,
           -0.19354598030113743,
           1.019754059011443,
           0.46391756190268507,
           0.14090088099957596,
           2.4807620179821916
          ],
          [
           0.6283941022052122,
           0.39268016404712114,
           -1.4567269074239122,
           -0.28459904253653673,
           1.9772287692193757,
           0.5024237059780841,
           1.372750144105974,
           -0.11063787377403998,
           -0.5037857923364242,
           0.8707815508665611
          ],
          [
           -0.33782531679823136,
           1.0130597334197857,
           -0.4407532238160003,
           0.21627546142211165,
           0.8546492368144859,
           1.667589735520971,
           -2.3923367714101045,
           -1.690013513395217,
           -0.027367112102068235,
           0.4658338153103927
          ],
          [
           -1.3557719280206255,
           -0.10620066565019276,
           1.7553996747967173,
           1.406463901744341,
           0.7126141129898254,
           -1.6777693882139622,
           0.28402749015985856,
           -0.7695935527632718,
           -1.1082118601014892,
           -1.6849998288820949
          ],
          [
           -0.2485806623699,
           -0.5068903505281595,
           -1.2572505126985787,
           -0.4970068825576738,
           -0.047806206811445935,
           -0.6468719368653778,
           0.15025384239259298,
           -0.8191025741154047,
           -0.2557690053251015,
           1.048801170012612
          ],
          [
           -1.0018756882917061,
           0.9872404195020323,
           -0.3375783436849732,
           0.9592921422078844,
           -0.5851343766640188,
           0.5291705152477489,
           1.4029675213054065,
           -2.221628374063631,
           -1.073724909711865,
           0.3996490002959025
          ]
         ]
        }
       ],
       "layout": {
        "template": {
         "data": {
          "bar": [
           {
            "error_x": {
             "color": "#2a3f5f"
            },
            "error_y": {
             "color": "#2a3f5f"
            },
            "marker": {
             "line": {
              "color": "#E5ECF6",
              "width": 0.5
             },
             "pattern": {
              "fillmode": "overlay",
              "size": 10,
              "solidity": 0.2
             }
            },
            "type": "bar"
           }
          ],
          "barpolar": [
           {
            "marker": {
             "line": {
              "color": "#E5ECF6",
              "width": 0.5
             },
             "pattern": {
              "fillmode": "overlay",
              "size": 10,
              "solidity": 0.2
             }
            },
            "type": "barpolar"
           }
          ],
          "carpet": [
           {
            "aaxis": {
             "endlinecolor": "#2a3f5f",
             "gridcolor": "white",
             "linecolor": "white",
             "minorgridcolor": "white",
             "startlinecolor": "#2a3f5f"
            },
            "baxis": {
             "endlinecolor": "#2a3f5f",
             "gridcolor": "white",
             "linecolor": "white",
             "minorgridcolor": "white",
             "startlinecolor": "#2a3f5f"
            },
            "type": "carpet"
           }
          ],
          "choropleth": [
           {
            "colorbar": {
             "outlinewidth": 0,
             "ticks": ""
            },
            "type": "choropleth"
           }
          ],
          "contour": [
           {
            "colorbar": {
             "outlinewidth": 0,
             "ticks": ""
            },
            "colorscale": [
             [
              0,
              "#0d0887"
             ],
             [
              0.1111111111111111,
              "#46039f"
             ],
             [
              0.2222222222222222,
              "#7201a8"
             ],
             [
              0.3333333333333333,
              "#9c179e"
             ],
             [
              0.4444444444444444,
              "#bd3786"
             ],
             [
              0.5555555555555556,
              "#d8576b"
             ],
             [
              0.6666666666666666,
              "#ed7953"
             ],
             [
              0.7777777777777778,
              "#fb9f3a"
             ],
             [
              0.8888888888888888,
              "#fdca26"
             ],
             [
              1,
              "#f0f921"
             ]
            ],
            "type": "contour"
           }
          ],
          "contourcarpet": [
           {
            "colorbar": {
             "outlinewidth": 0,
             "ticks": ""
            },
            "type": "contourcarpet"
           }
          ],
          "heatmap": [
           {
            "colorbar": {
             "outlinewidth": 0,
             "ticks": ""
            },
            "colorscale": [
             [
              0,
              "#0d0887"
             ],
             [
              0.1111111111111111,
              "#46039f"
             ],
             [
              0.2222222222222222,
              "#7201a8"
             ],
             [
              0.3333333333333333,
              "#9c179e"
             ],
             [
              0.4444444444444444,
              "#bd3786"
             ],
             [
              0.5555555555555556,
              "#d8576b"
             ],
             [
              0.6666666666666666,
              "#ed7953"
             ],
             [
              0.7777777777777778,
              "#fb9f3a"
             ],
             [
              0.8888888888888888,
              "#fdca26"
             ],
             [
              1,
              "#f0f921"
             ]
            ],
            "type": "heatmap"
           }
          ],
          "heatmapgl": [
           {
            "colorbar": {
             "outlinewidth": 0,
             "ticks": ""
            },
            "colorscale": [
             [
              0,
              "#0d0887"
             ],
             [
              0.1111111111111111,
              "#46039f"
             ],
             [
              0.2222222222222222,
              "#7201a8"
             ],
             [
              0.3333333333333333,
              "#9c179e"
             ],
             [
              0.4444444444444444,
              "#bd3786"
             ],
             [
              0.5555555555555556,
              "#d8576b"
             ],
             [
              0.6666666666666666,
              "#ed7953"
             ],
             [
              0.7777777777777778,
              "#fb9f3a"
             ],
             [
              0.8888888888888888,
              "#fdca26"
             ],
             [
              1,
              "#f0f921"
             ]
            ],
            "type": "heatmapgl"
           }
          ],
          "histogram": [
           {
            "marker": {
             "pattern": {
              "fillmode": "overlay",
              "size": 10,
              "solidity": 0.2
             }
            },
            "type": "histogram"
           }
          ],
          "histogram2d": [
           {
            "colorbar": {
             "outlinewidth": 0,
             "ticks": ""
            },
            "colorscale": [
             [
              0,
              "#0d0887"
             ],
             [
              0.1111111111111111,
              "#46039f"
             ],
             [
              0.2222222222222222,
              "#7201a8"
             ],
             [
              0.3333333333333333,
              "#9c179e"
             ],
             [
              0.4444444444444444,
              "#bd3786"
             ],
             [
              0.5555555555555556,
              "#d8576b"
             ],
             [
              0.6666666666666666,
              "#ed7953"
             ],
             [
              0.7777777777777778,
              "#fb9f3a"
             ],
             [
              0.8888888888888888,
              "#fdca26"
             ],
             [
              1,
              "#f0f921"
             ]
            ],
            "type": "histogram2d"
           }
          ],
          "histogram2dcontour": [
           {
            "colorbar": {
             "outlinewidth": 0,
             "ticks": ""
            },
            "colorscale": [
             [
              0,
              "#0d0887"
             ],
             [
              0.1111111111111111,
              "#46039f"
             ],
             [
              0.2222222222222222,
              "#7201a8"
             ],
             [
              0.3333333333333333,
              "#9c179e"
             ],
             [
              0.4444444444444444,
              "#bd3786"
             ],
             [
              0.5555555555555556,
              "#d8576b"
             ],
             [
              0.6666666666666666,
              "#ed7953"
             ],
             [
              0.7777777777777778,
              "#fb9f3a"
             ],
             [
              0.8888888888888888,
              "#fdca26"
             ],
             [
              1,
              "#f0f921"
             ]
            ],
            "type": "histogram2dcontour"
           }
          ],
          "mesh3d": [
           {
            "colorbar": {
             "outlinewidth": 0,
             "ticks": ""
            },
            "type": "mesh3d"
           }
          ],
          "parcoords": [
           {
            "line": {
             "colorbar": {
              "outlinewidth": 0,
              "ticks": ""
             }
            },
            "type": "parcoords"
           }
          ],
          "pie": [
           {
            "automargin": true,
            "type": "pie"
           }
          ],
          "scatter": [
           {
            "fillpattern": {
             "fillmode": "overlay",
             "size": 10,
             "solidity": 0.2
            },
            "type": "scatter"
           }
          ],
          "scatter3d": [
           {
            "line": {
             "colorbar": {
              "outlinewidth": 0,
              "ticks": ""
             }
            },
            "marker": {
             "colorbar": {
              "outlinewidth": 0,
              "ticks": ""
             }
            },
            "type": "scatter3d"
           }
          ],
          "scattercarpet": [
           {
            "marker": {
             "colorbar": {
              "outlinewidth": 0,
              "ticks": ""
             }
            },
            "type": "scattercarpet"
           }
          ],
          "scattergeo": [
           {
            "marker": {
             "colorbar": {
              "outlinewidth": 0,
              "ticks": ""
             }
            },
            "type": "scattergeo"
           }
          ],
          "scattergl": [
           {
            "marker": {
             "colorbar": {
              "outlinewidth": 0,
              "ticks": ""
             }
            },
            "type": "scattergl"
           }
          ],
          "scattermapbox": [
           {
            "marker": {
             "colorbar": {
              "outlinewidth": 0,
              "ticks": ""
             }
            },
            "type": "scattermapbox"
           }
          ],
          "scatterpolar": [
           {
            "marker": {
             "colorbar": {
              "outlinewidth": 0,
              "ticks": ""
             }
            },
            "type": "scatterpolar"
           }
          ],
          "scatterpolargl": [
           {
            "marker": {
             "colorbar": {
              "outlinewidth": 0,
              "ticks": ""
             }
            },
            "type": "scatterpolargl"
           }
          ],
          "scatterternary": [
           {
            "marker": {
             "colorbar": {
              "outlinewidth": 0,
              "ticks": ""
             }
            },
            "type": "scatterternary"
           }
          ],
          "surface": [
           {
            "colorbar": {
             "outlinewidth": 0,
             "ticks": ""
            },
            "colorscale": [
             [
              0,
              "#0d0887"
             ],
             [
              0.1111111111111111,
              "#46039f"
             ],
             [
              0.2222222222222222,
              "#7201a8"
             ],
             [
              0.3333333333333333,
              "#9c179e"
             ],
             [
              0.4444444444444444,
              "#bd3786"
             ],
             [
              0.5555555555555556,
              "#d8576b"
             ],
             [
              0.6666666666666666,
              "#ed7953"
             ],
             [
              0.7777777777777778,
              "#fb9f3a"
             ],
             [
              0.8888888888888888,
              "#fdca26"
             ],
             [
              1,
              "#f0f921"
             ]
            ],
            "type": "surface"
           }
          ],
          "table": [
           {
            "cells": {
             "fill": {
              "color": "#EBF0F8"
             },
             "line": {
              "color": "white"
             }
            },
            "header": {
             "fill": {
              "color": "#C8D4E3"
             },
             "line": {
              "color": "white"
             }
            },
            "type": "table"
           }
          ]
         },
         "layout": {
          "annotationdefaults": {
           "arrowcolor": "#2a3f5f",
           "arrowhead": 0,
           "arrowwidth": 1
          },
          "autotypenumbers": "strict",
          "coloraxis": {
           "colorbar": {
            "outlinewidth": 0,
            "ticks": ""
           }
          },
          "colorscale": {
           "diverging": [
            [
             0,
             "#8e0152"
            ],
            [
             0.1,
             "#c51b7d"
            ],
            [
             0.2,
             "#de77ae"
            ],
            [
             0.3,
             "#f1b6da"
            ],
            [
             0.4,
             "#fde0ef"
            ],
            [
             0.5,
             "#f7f7f7"
            ],
            [
             0.6,
             "#e6f5d0"
            ],
            [
             0.7,
             "#b8e186"
            ],
            [
             0.8,
             "#7fbc41"
            ],
            [
             0.9,
             "#4d9221"
            ],
            [
             1,
             "#276419"
            ]
           ],
           "sequential": [
            [
             0,
             "#0d0887"
            ],
            [
             0.1111111111111111,
             "#46039f"
            ],
            [
             0.2222222222222222,
             "#7201a8"
            ],
            [
             0.3333333333333333,
             "#9c179e"
            ],
            [
             0.4444444444444444,
             "#bd3786"
            ],
            [
             0.5555555555555556,
             "#d8576b"
            ],
            [
             0.6666666666666666,
             "#ed7953"
            ],
            [
             0.7777777777777778,
             "#fb9f3a"
            ],
            [
             0.8888888888888888,
             "#fdca26"
            ],
            [
             1,
             "#f0f921"
            ]
           ],
           "sequentialminus": [
            [
             0,
             "#0d0887"
            ],
            [
             0.1111111111111111,
             "#46039f"
            ],
            [
             0.2222222222222222,
             "#7201a8"
            ],
            [
             0.3333333333333333,
             "#9c179e"
            ],
            [
             0.4444444444444444,
             "#bd3786"
            ],
            [
             0.5555555555555556,
             "#d8576b"
            ],
            [
             0.6666666666666666,
             "#ed7953"
            ],
            [
             0.7777777777777778,
             "#fb9f3a"
            ],
            [
             0.8888888888888888,
             "#fdca26"
            ],
            [
             1,
             "#f0f921"
            ]
           ]
          },
          "colorway": [
           "#636efa",
           "#EF553B",
           "#00cc96",
           "#ab63fa",
           "#FFA15A",
           "#19d3f3",
           "#FF6692",
           "#B6E880",
           "#FF97FF",
           "#FECB52"
          ],
          "font": {
           "color": "#2a3f5f"
          },
          "geo": {
           "bgcolor": "white",
           "lakecolor": "white",
           "landcolor": "#E5ECF6",
           "showlakes": true,
           "showland": true,
           "subunitcolor": "white"
          },
          "hoverlabel": {
           "align": "left"
          },
          "hovermode": "closest",
          "mapbox": {
           "style": "light"
          },
          "paper_bgcolor": "white",
          "plot_bgcolor": "#E5ECF6",
          "polar": {
           "angularaxis": {
            "gridcolor": "white",
            "linecolor": "white",
            "ticks": ""
           },
           "bgcolor": "#E5ECF6",
           "radialaxis": {
            "gridcolor": "white",
            "linecolor": "white",
            "ticks": ""
           }
          },
          "scene": {
           "xaxis": {
            "backgroundcolor": "#E5ECF6",
            "gridcolor": "white",
            "gridwidth": 2,
            "linecolor": "white",
            "showbackground": true,
            "ticks": "",
            "zerolinecolor": "white"
           },
           "yaxis": {
            "backgroundcolor": "#E5ECF6",
            "gridcolor": "white",
            "gridwidth": 2,
            "linecolor": "white",
            "showbackground": true,
            "ticks": "",
            "zerolinecolor": "white"
           },
           "zaxis": {
            "backgroundcolor": "#E5ECF6",
            "gridcolor": "white",
            "gridwidth": 2,
            "linecolor": "white",
            "showbackground": true,
            "ticks": "",
            "zerolinecolor": "white"
           }
          },
          "shapedefaults": {
           "line": {
            "color": "#2a3f5f"
           }
          },
          "ternary": {
           "aaxis": {
            "gridcolor": "white",
            "linecolor": "white",
            "ticks": ""
           },
           "baxis": {
            "gridcolor": "white",
            "linecolor": "white",
            "ticks": ""
           },
           "bgcolor": "#E5ECF6",
           "caxis": {
            "gridcolor": "white",
            "linecolor": "white",
            "ticks": ""
           }
          },
          "title": {
           "x": 0.05
          },
          "xaxis": {
           "automargin": true,
           "gridcolor": "white",
           "linecolor": "white",
           "ticks": "",
           "title": {
            "standoff": 15
           },
           "zerolinecolor": "white",
           "zerolinewidth": 2
          },
          "yaxis": {
           "automargin": true,
           "gridcolor": "white",
           "linecolor": "white",
           "ticks": "",
           "title": {
            "standoff": 15
           },
           "zerolinecolor": "white",
           "zerolinewidth": 2
          }
         }
        }
       }
      }
     },
     "metadata": {},
     "output_type": "display_data"
    }
   ],
   "source": [
    "fig = go.Figure(data=[go.Surface(z=d)])\n",
    "fig.show()"
   ]
  },
  {
   "cell_type": "code",
   "execution_count": 19,
   "metadata": {},
   "outputs": [],
   "source": [
    "def plot_closed_curve(points_number = 10):\n",
    "    rho = torch.rand(points_number) * torch.logspace(-0.5, -2.5, points_number)\n",
    "    phi = 2 * torch.pi * torch.rand(points_number)\n",
    "    t = torch.linspace(0, 2 * torch.pi, 20)\n",
    "    r = torch.ones(len(t))\n",
    "    for h in range(points_number):\n",
    "        r += rho[h] * torch.sin(h * t + phi[h])\n",
    "    x, y = r * torch.sin(t), r * torch.cos(t)\n",
    "    plt.figure(figsize=(18, 9))\n",
    "    plt.subplot(1, 2, 1)\n",
    "    plt.plot(t, r, t, r, 'x')\n",
    "    plt.xlabel('t, radians')\n",
    "    plt.ylabel('r(t)')\n",
    "    plt.subplot(1, 2, 2)\n",
    "    plt.plot(x, y, x, y, 'x')\n",
    "    plt.xlabel('x(t)')\n",
    "    plt.ylabel('y(t)')\n"
   ]
  },
  {
   "cell_type": "code",
   "execution_count": 20,
   "metadata": {},
   "outputs": [
    {
     "data": {
      "image/png": "[encoded data removed]",
      "text/plain": [
       "<Figure size 1296x648 with 2 Axes>"
      ]
     },
     "metadata": {
      "needs_background": "light"
     },
     "output_type": "display_data"
    }
   ],
   "source": [
    "plot_closed_curve(50)"
   ]
  },
  {
   "cell_type": "code",
   "execution_count": 21,
   "metadata": {},
   "outputs": [
    {
     "data": {
      "text/plain": [
       "Text(0, 0.5, 'y(t)')"
      ]
     },
     "execution_count": 21,
     "metadata": {},
     "output_type": "execute_result"
    },
    {
     "data": {
      "image/png": "[encoded data removed]",
      "text/plain": [
       "<Figure size 1296x648 with 2 Axes>"
      ]
     },
     "metadata": {
      "needs_background": "light"
     },
     "output_type": "display_data"
    }
   ],
   "source": [
    "points_number = 5\n",
    "rho = torch.rand(points_number) * torch.logspace(-0.5, -2.5, points_number)\n",
    "phi = 2 * torch.pi * torch.rand(points_number)\n",
    "t = torch.linspace(0, 2 * torch.pi, 10)\n",
    "r = torch.ones(len(t))\n",
    "for h in range(points_number):\n",
    "    r += rho[h] * torch.sin(h * t + phi[h])\n",
    "x, y = r * torch.sin(t), r * torch.cos(t)\n",
    "plt.figure(figsize=(18, 9))\n",
    "plt.subplot(1, 2, 1)\n",
    "plt.plot(t, r, t, r, 'x')\n",
    "plt.xlabel('t, radians')\n",
    "plt.ylabel('r(t)')\n",
    "plt.subplot(1, 2, 2)\n",
    "plt.plot(x, y, x, y, 'x')\n",
    "plt.xlabel('x(t)')\n",
    "plt.ylabel('y(t)')"
   ]
  },
  {
   "cell_type": "code",
   "execution_count": 22,
   "metadata": {},
   "outputs": [],
   "source": [
    "H = 10\n",
    "rho = np.random.rand(H)*np.logspace(-0.5,-2.5,H)\n",
    "phi = np.random.rand(H)* 2*np.pi\n",
    "\n",
    "t = np.linspace(0,2*np.pi,101)\n",
    "r = np.ones(len(t))\n",
    "for h in range(H):\n",
    "    r = r + rho[h]*np.sin(h*t+phi[h])\n",
    "x = r * np.cos(t)\n",
    "y = r * np.sin(t)"
   ]
  },
  {
   "cell_type": "code",
   "execution_count": 23,
   "metadata": {},
   "outputs": [
    {
     "data": {
      "text/plain": [
       "Text(0, 0.5, 'y(t)')"
      ]
     },
     "execution_count": 23,
     "metadata": {},
     "output_type": "execute_result"
    },
    {
     "data": {
      "image/png": "[encoded data removed]",
      "text/plain": [
       "<Figure size 1296x648 with 2 Axes>"
      ]
     },
     "metadata": {
      "needs_background": "light"
     },
     "output_type": "display_data"
    }
   ],
   "source": [
    "plt.figure(figsize=(18, 9))\n",
    "plt.subplot(1, 2, 1)\n",
    "plt.plot(t, r, t, r, 'x')\n",
    "plt.xlabel('t, radians')\n",
    "plt.ylabel('r(t)')\n",
    "plt.subplot(1, 2, 2)\n",
    "plt.plot(x, y, x, y, 'x')\n",
    "plt.xlabel('x(t)')\n",
    "plt.ylabel('y(t)')"
   ]
  },
  {
   "cell_type": "code",
   "execution_count": null,
   "metadata": {},
   "outputs": [],
   "source": []
  }
 ],
 "metadata": {
  "kernelspec": {
   "display_name": ".venv",
   "language": "python",
   "name": "python3"
  },
  "language_info": {
   "codemirror_mode": {
    "name": "ipython",
    "version": 3
   },
   "file_extension": ".py",
   "mimetype": "text/x-python",
   "name": "python",
   "nbconvert_exporter": "python",
   "pygments_lexer": "ipython3",
   "version": "3.10.6 (tags/v3.10.6:9c7b4bd, Aug  1 2022, 21:53:49) [MSC v.1932 64 bit (AMD64)]"
  },
  "orig_nbformat": 4,
  "vscode": {
   "interpreter": {
    "hash": "850244c8638196155f69ccd644181272b4a42cc2d794d5c02d6df1253ef9f395"
   }
  }
 },
 "nbformat": 4,
 "nbformat_minor": 2
}
