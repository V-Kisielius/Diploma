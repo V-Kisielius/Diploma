{
 "cells": [
  {
   "cell_type": "code",
   "execution_count": 1,
   "metadata": {},
   "outputs": [],
   "source": [
    "import torch\n",
    "import numpy as np\n",
    "import matplotlib.pyplot as plt\n",
    "import os\n",
    "from tqdm import tqdm\n",
    "\n",
    "from scripts.imagedata import ImageData\n",
    "from scripts.neutralliner import NeutralLiner\n",
    "from scripts.config import device, PATH_TO_MCINTOSH"
   ]
  },
  {
   "cell_type": "code",
   "execution_count": 6,
   "metadata": {},
   "outputs": [],
   "source": [
    "def test_me(help_step_size,\n",
    "            n_runs=100,\n",
    "            num_epochs=50000,\n",
    "            lr=5e-3,\n",
    "            arch=(3, 6, 12, 24, 12, 6, 3, 1),\n",
    "            weight_decay=1e-4):\n",
    "    filenames = os.listdir(PATH_TO_MCINTOSH)\n",
    "    path_to_save = f'./Tests/Fits/Mean/big/step{help_step_size}'\n",
    "    os.makedirs(path_to_save, exist_ok=True)\n",
    "\n",
    "    for i, filename in enumerate(filenames):\n",
    "        predictions = []\n",
    "        imgdata = ImageData(os.path.join(PATH_TO_MCINTOSH, filename), data_mode='fits')\n",
    "        for n in tqdm(range(n_runs), desc=f'Predicting map {i+1}/{len(filenames)}'):\n",
    "            model = NeutralLiner(image_list=[imgdata],\n",
    "                                lr=lr,\n",
    "                                help_step_size=help_step_size,\n",
    "                                mode='3d',\n",
    "                                arch=arch,\n",
    "                                weight_decay=weight_decay)\n",
    "            model.to(device)\n",
    "            model.start_training(num_epochs=num_epochs, need_plot=False)\n",
    "            prediction = model.test_model(need_plot=False)[0].view(model.image_list[0].img_array.shape).cpu().detach()\n",
    "            predictions.append(prediction)\n",
    "            model.save_state_dict(os.path.join(path_to_save, f'map_{i:02d}_{n:02d}.pt'))\n",
    "        predictions = torch.stack(predictions)\n",
    "        prediction = torch.mean(predictions, dim=0)\n",
    "        plt.figure(figsize=(20, 10))\n",
    "        plt.subplot(1, 2, 1)\n",
    "        plt.imshow(imgdata.target_img, cmap='PuOr')\n",
    "        plt.title(f'Target for map {i}')\n",
    "        plt.subplot(1, 2, 2)\n",
    "        plt.imshow(prediction, cmap='PuOr')\n",
    "        plt.title(f'Mean prediction for map {i}')\n",
    "        x, y = np.where(imgdata.img_array < imgdata.img_array.max())\n",
    "        plt.scatter(y, x, s=0.2, c='green', alpha=0.5)\n",
    "        plt.savefig(os.path.join(path_to_save, f'map_{i:02d}_mean.png'), bbox_inches='tight', pad_inches=0, facecolor='white')\n",
    "        plt.close()"
   ]
  },
  {
   "cell_type": "code",
   "execution_count": 3,
   "metadata": {},
   "outputs": [
    {
     "name": "stderr",
     "output_type": "stream",
     "text": [
      "Predicting map 1/2: 100%|██████████| 1/1 [00:15<00:00, 15.72s/it]\n",
      "Predicting map 2/2: 100%|██████████| 1/1 [00:12<00:00, 12.21s/it]\n",
      "Predicting map 1/2: 100%|██████████| 1/1 [00:12<00:00, 12.60s/it]\n",
      "Predicting map 2/2: 100%|██████████| 1/1 [00:13<00:00, 13.86s/it]\n",
      "Predicting map 1/2: 100%|██████████| 1/1 [00:13<00:00, 13.84s/it]\n",
      "Predicting map 2/2: 100%|██████████| 1/1 [00:14<00:00, 14.07s/it]\n",
      "Predicting map 1/2: 100%|██████████| 1/1 [00:13<00:00, 13.39s/it]\n",
      "Predicting map 2/2: 100%|██████████| 1/1 [00:14<00:00, 14.11s/it]\n",
      "Predicting map 1/2: 100%|██████████| 1/1 [00:12<00:00, 12.86s/it]\n",
      "Predicting map 2/2: 100%|██████████| 1/1 [00:13<00:00, 13.16s/it]\n"
     ]
    }
   ],
   "source": [
    "for hsz in [1, 31, 63, 127, None]:\n",
    "    test_me(help_step_size=hsz)"
   ]
  }
 ],
 "metadata": {
  "kernelspec": {
   "display_name": ".venv",
   "language": "python",
   "name": "python3"
  },
  "language_info": {
   "codemirror_mode": {
    "name": "ipython",
    "version": 3
   },
   "file_extension": ".py",
   "mimetype": "text/x-python",
   "name": "python",
   "nbconvert_exporter": "python",
   "pygments_lexer": "ipython3",
   "version": "3.10.6"
  }
 },
 "nbformat": 4,
 "nbformat_minor": 2
}
