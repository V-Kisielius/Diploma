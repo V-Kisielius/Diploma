{
 "cells": [
  {
   "attachments": {},
   "cell_type": "markdown",
   "metadata": {},
   "source": [
    "# Imports"
   ]
  },
  {
   "cell_type": "code",
   "execution_count": 1,
   "metadata": {},
   "outputs": [
    {
     "name": "stdout",
     "output_type": "stream",
     "text": [
      "Selected devie is cuda:0\n"
     ]
    }
   ],
   "source": [
    "from dataset import MyData\n",
    "from model import Net\n",
    "from config import device, PATH_TO_TARGET0, PATH_TO_TARGET, PATH_TO_INPUT\n",
    "\n",
    "from PIL import ImageOps, Image\n",
    "from ipywidgets import interact\n",
    "import glob\n",
    "\n",
    "import torch\n",
    "import numpy as np\n",
    "import matplotlib.pyplot as plt"
   ]
  },
  {
   "attachments": {},
   "cell_type": "markdown",
   "metadata": {},
   "source": [
    "# Loss parameters optimization"
   ]
  },
  {
   "attachments": {},
   "cell_type": "markdown",
   "metadata": {},
   "source": [
    "## Graphical approach"
   ]
  },
  {
   "attachments": {},
   "cell_type": "markdown",
   "metadata": {},
   "source": [
    "### Dataset class"
   ]
  },
  {
   "cell_type": "code",
   "execution_count": 12,
   "metadata": {},
   "outputs": [],
   "source": [
    "class InputImagesInfo(torch.utils.data.Dataset):\n",
    "    def __init__(self, path_to_inputs, path_to_targets):\n",
    "        self.info_dict = {'img_list': [],\n",
    "                            'width_list': [],\n",
    "                            'height_list': [],\n",
    "                            'total_pixel_list': [],\n",
    "                            'bound_length_list': [],\n",
    "                            'mask_list': [],\n",
    "                            'bound_mask_list': [],\n",
    "                            'row_numbers_list': [],}\n",
    "        for (input_path, target_path) in zip(path_to_inputs, path_to_targets):\n",
    "            img = np.array(ImageOps.grayscale(Image.open(input_path))).astype(int)\n",
    "            width, height = img.shape\n",
    "            \n",
    "            total_pixel = width * height\n",
    "            bound_length = len(img.reshape(1, -1) < 255)\n",
    "            mask = img.reshape(1, -1) == 255\n",
    "            bound_mask = img.reshape(1, -1) < 255\n",
    "            row_numbers = 1 * height\n",
    "            \n",
    "            img = np.array(ImageOps.grayscale(Image.open(target_path))).astype(int)\n",
    "            img[img == 90] = -1\n",
    "            img[img == 190] = 1\n",
    "            img = torch.from_numpy(img)\n",
    "\n",
    "            for key in self.info_dict.keys():\n",
    "                self.info_dict[key].append(locals()[key[:-5]])\n",
    "\n",
    "    def __len__(self):\n",
    "        return len(self.info_dict['img_list'])\n",
    "\n",
    "    def __getitem__(self, idx):\n",
    "        return [value[idx] for value in self.info_dict.values()]"
   ]
  },
  {
   "cell_type": "code",
   "execution_count": 13,
   "metadata": {},
   "outputs": [],
   "source": [
    "batch = InputImagesInfo(path_to_inputs=[PATH_TO_INPUT + '0001.png'],\n",
    "                         path_to_targets=[PATH_TO_TARGET + '0001.png'])"
   ]
  },
  {
   "cell_type": "code",
   "execution_count": 14,
   "metadata": {},
   "outputs": [
    {
     "name": "stdout",
     "output_type": "stream",
     "text": [
      "1\n"
     ]
    },
    {
     "data": {
      "text/plain": [
       "<matplotlib.colorbar.Colorbar at 0x1a247ae8850>"
      ]
     },
     "execution_count": 14,
     "metadata": {},
     "output_type": "execute_result"
    },
    {
     "data": {
      "image/png": "[encoded data removed]",
      "text/plain": [
       "<Figure size 432x288 with 2 Axes>"
      ]
     },
     "metadata": {
      "needs_background": "light"
     },
     "output_type": "display_data"
    }
   ],
   "source": [
    "print(len(batch))\n",
    "plt.imshow(batch[0][0], cmap='PuOr')\n",
    "plt.colorbar()"
   ]
  },
  {
   "attachments": {},
   "cell_type": "markdown",
   "metadata": {},
   "source": [
    "### Calculating of the integrals in loss which are not dependent on the weights"
   ]
  },
  {
   "cell_type": "code",
   "execution_count": 15,
   "metadata": {},
   "outputs": [],
   "source": [
    "loss, f_abs_integral, bound_integral, orientation_integral, f_integral = torch.zeros(5)\n",
    "integrals_dict = {'f_abs_integral': [],\n",
    "                    'bound_integral': [],\n",
    "                    'f_integral': []}\n",
    "\n",
    "for img, width, height, total_pixel, bound_length, mask, bound_mask, row_numbers in batch:\n",
    "    img = img.flatten()\n",
    "    \n",
    "    f_integral = img.sum().abs() / total_pixel\n",
    "    f_abs_integral = 1 - img[mask].abs().sum() / (total_pixel - bound_length) # хочу НЕ границу +-1\n",
    "    bound_integral = img[bound_mask].pow(2).sum() / bound_length # хочу на границе 0\n",
    "\n",
    "    for key in integrals_dict.keys():\n",
    "        integrals_dict[key].append(locals()[key])\n",
    "        "
   ]
  },
  {
   "cell_type": "code",
   "execution_count": 16,
   "metadata": {},
   "outputs": [
    {
     "data": {
      "text/plain": [
       "{'f_abs_integral': [tensor(0.0379)],\n",
       " 'bound_integral': [tensor(0.)],\n",
       " 'f_integral': [tensor(0.1589)]}"
      ]
     },
     "execution_count": 16,
     "metadata": {},
     "output_type": "execute_result"
    }
   ],
   "source": [
    "integrals_dict"
   ]
  },
  {
   "cell_type": "code",
   "execution_count": 17,
   "metadata": {},
   "outputs": [],
   "source": [
    "def compute_loss(weights_list): \n",
    "    f_integral_weight, f_abs_integral_weight, bound_integral_weight = weights_list\n",
    "    # print(f_integral_weight, f_abs_integral_weight, bound_integral_weight)\n",
    "    # f_abs_integral_weight = 0\n",
    "    local_vars = locals()\n",
    "    # print(locals()[key+'_weight'])\n",
    "    res = sum([sum(local_vars[key+'_weight'] * np.array(integrals_dict[key])) for key in integrals_dict.keys()])\n",
    "    return res\n",
    "    # return f_integral_weight*sum(integrals_dict['f_integral']) + f_abs_integral_weight*sum(integrals_dict['f_abs_integral']) + bound_integral_weight*sum(integrals_dict['bound_integral'])"
   ]
  },
  {
   "attachments": {},
   "cell_type": "markdown",
   "metadata": {},
   "source": [
    "### Tests"
   ]
  },
  {
   "attachments": {},
   "cell_type": "markdown",
   "metadata": {},
   "source": [
    "#### Interactive"
   ]
  },
  {
   "cell_type": "code",
   "execution_count": 18,
   "metadata": {},
   "outputs": [
    {
     "data": {
      "application/vnd.jupyter.widget-view+json": {
       "model_id": "583216240a3041989e5c102aaece6016",
       "version_major": 2,
       "version_minor": 0
      },
      "text/plain": [
       "interactive(children=(FloatSlider(value=1.0, description='f_integral_weight', max=10.0, step=0.01), FloatSlide…"
      ]
     },
     "metadata": {},
     "output_type": "display_data"
    }
   ],
   "source": [
    "@interact(f_integral_weight=(0, 10, 0.01), f_abs_integral_weight=(0, 10, 0.01), bound_integral_weight=(0, 10, 0.01))\n",
    "def get_result(f_integral_weight=1., f_abs_integral_weight=1., bound_integral_weight=1.):\n",
    "    w1, w2, w3 = f_integral_weight, f_abs_integral_weight, bound_integral_weight\n",
    "    print(\"loss(f_integral_weight={}, f_abs_integral_weight={}, bound_integral_weight={}) is {}\".format(w1, w2, w3, compute_loss([w1,w2,w3])))"
   ]
  },
  {
   "attachments": {},
   "cell_type": "markdown",
   "metadata": {},
   "source": [
    "#### 2D map"
   ]
  },
  {
   "cell_type": "code",
   "execution_count": 19,
   "metadata": {},
   "outputs": [
    {
     "data": {
      "image/png": "[encoded data removed]",
      "text/plain": [
       "<Figure size 432x288 with 2 Axes>"
      ]
     },
     "metadata": {
      "needs_background": "light"
     },
     "output_type": "display_data"
    }
   ],
   "source": [
    "x = y = np.linspace(0, 2, 51)\n",
    "z = np.array([compute_loss([i, j, 1]) for j in y for i in x])\n",
    "Z = z.reshape(51, 51)\n",
    "plt.imshow(Z, interpolation='bilinear', cmap='PuOr')\n",
    "plt.colorbar()\n",
    "plt.show()"
   ]
  },
  {
   "attachments": {},
   "cell_type": "markdown",
   "metadata": {},
   "source": [
    "## Analitycally approach"
   ]
  },
  {
   "attachments": {},
   "cell_type": "markdown",
   "metadata": {},
   "source": [
    "#### The loss function depends on the integrals $I_i$ and the corresponding weights $w_i$ and is of the form $$\\mathcal{L} = \\text{Loss}(w_1, \\ldots, w_n, I_1, \\ldots, I_n) = \\sum_1^n w_i \\times I_i$$ But $I_i$ does not depend on the weights $w_i$. Therefore, $$\\frac{\\partial I_i}{\\partial w_j} = 0$$ $$\\frac{\\partial\\mathcal{L}}{\\partial w_i} = I_i$$ It means that the loss function has no singular points."
   ]
  }
 ],
 "metadata": {
  "kernelspec": {
   "display_name": ".venv",
   "language": "python",
   "name": "python3"
  },
  "language_info": {
   "codemirror_mode": {
    "name": "ipython",
    "version": 3
   },
   "file_extension": ".py",
   "mimetype": "text/x-python",
   "name": "python",
   "nbconvert_exporter": "python",
   "pygments_lexer": "ipython3",
   "version": "3.10.6 (tags/v3.10.6:9c7b4bd, Aug  1 2022, 21:53:49) [MSC v.1932 64 bit (AMD64)]"
  },
  "orig_nbformat": 4,
  "vscode": {
   "interpreter": {
    "hash": "850244c8638196155f69ccd644181272b4a42cc2d794d5c02d6df1253ef9f395"
   }
  }
 },
 "nbformat": 4,
 "nbformat_minor": 2
}
