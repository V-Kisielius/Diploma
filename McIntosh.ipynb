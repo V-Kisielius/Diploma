{
 "cells": [
  {
   "cell_type": "code",
   "execution_count": 1,
   "metadata": {},
   "outputs": [],
   "source": [
    "# %load_ext autoreload # uncomment this line if you want to reload modules automatically\n",
    "# %autoreload 2 # uncomment this line if you want to reload modules automatically\n",
    "\n",
    "import torch\n",
    "import numpy as np\n",
    "import matplotlib.pyplot as plt\n",
    "import os\n",
    "from tqdm import tqdm\n",
    "from ipywidgets import interact\n",
    "\n",
    "from scripts.imagedata import ImageData\n",
    "from scripts.neutralliner import NeutralLiner\n",
    "from scripts.config import device, PATH_TO_MCINTOSH"
   ]
  },
  {
   "cell_type": "markdown",
   "metadata": {},
   "source": [
    "# No pretrain"
   ]
  },
  {
   "cell_type": "code",
   "execution_count": null,
   "metadata": {},
   "outputs": [],
   "source": [
    "filenames = os.listdir(PATH_TO_MCINTOSH)[:28]\n",
    "\n",
    "num_epochs = 10000\n",
    "arch = [3, 6, 12, 24, 12, 6, 3, 1]\n",
    "lr = 1e-3\n",
    "weight_decay = 1e-4\n",
    "\n",
    "for filename in filenames:\n",
    "    model = NeutralLiner(image_list=[ImageData(path_or_img=os.path.join(PATH_TO_MCINTOSH, filename), data_mode='fits')],\n",
    "                lr=lr, arch=arch, mode='3d', weight_decay=weight_decay)\n",
    "    model.to(device)\n",
    "    model.start_training(num_epochs=num_epochs, need_plot=True, need_save=False)"
   ]
  },
  {
   "cell_type": "markdown",
   "metadata": {},
   "source": [
    "# Semi-supervised learning"
   ]
  },
  {
   "cell_type": "code",
   "execution_count": 4,
   "metadata": {},
   "outputs": [],
   "source": [
    "model = NeutralLiner(image_list=[ImageData(os.path.join(PATH_TO_MCINTOSH, os.listdir(PATH_TO_MCINTOSH)[0]), data_mode='fits')],\n",
    "                     lr=5e-3,\n",
    "                     mode='3d',\n",
    "                     arch=[3, 6, 12, 24, 12, 6, 3, 1],\n",
    "                     weight_decay=1e-4)\n",
    "model.to(device)\n",
    "model.start_training(num_epochs=2000, need_plot=False)"
   ]
  },
  {
   "cell_type": "code",
   "execution_count": 7,
   "metadata": {},
   "outputs": [
    {
     "data": {
      "text/plain": [
       "512"
      ]
     },
     "execution_count": 7,
     "metadata": {},
     "output_type": "execute_result"
    }
   ],
   "source": [
    "model.image_list[0].height"
   ]
  },
  {
   "cell_type": "code",
   "execution_count": null,
   "metadata": {},
   "outputs": [],
   "source": [
    "model.test_model()"
   ]
  },
  {
   "cell_type": "code",
   "execution_count": 3,
   "metadata": {},
   "outputs": [
    {
     "data": {
      "text/plain": [
       "0"
      ]
     },
     "execution_count": 3,
     "metadata": {},
     "output_type": "execute_result"
    }
   ],
   "source": []
  }
 ],
 "metadata": {
  "kernelspec": {
   "display_name": ".venv",
   "language": "python",
   "name": "python3"
  },
  "language_info": {
   "codemirror_mode": {
    "name": "ipython",
    "version": 3
   },
   "file_extension": ".py",
   "mimetype": "text/x-python",
   "name": "python",
   "nbconvert_exporter": "python",
   "pygments_lexer": "ipython3",
   "version": "3.10.6"
  }
 },
 "nbformat": 4,
 "nbformat_minor": 2
}
